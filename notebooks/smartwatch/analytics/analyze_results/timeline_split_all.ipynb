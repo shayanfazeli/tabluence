{
 "cells": [
  {
   "cell_type": "markdown",
   "id": "f3b2b578-41f9-4ac0-9103-349b095508d7",
   "metadata": {
    "tags": []
   },
   "source": [
    "# Results - Analyses"
   ]
  },
  {
   "cell_type": "markdown",
   "id": "25bc6313-b0be-4d52-95ac-92c5c2a13c6a",
   "metadata": {},
   "source": [
    "Timeline split -  All"
   ]
  },
  {
   "cell_type": "markdown",
   "id": "24c4196b-2f65-4405-80dc-427954c8c7ee",
   "metadata": {},
   "source": [
    "### Preparations"
   ]
  },
  {
   "cell_type": "code",
   "execution_count": 1,
   "id": "248a6778-a5a7-4c19-852d-1f7956fdfb29",
   "metadata": {},
   "outputs": [],
   "source": [
    "import os\n",
    "import numpy\n",
    "import torch\n",
    "import matplotlib.pyplot as plt\n",
    "import sklearn\n",
    "import pickle\n",
    "import pandas\n",
    "import gzip\n",
    "import sys\n",
    "import plotly_express as px\n",
    "import plotly.graph_objects as go\n",
    "sys.path.insert(0, os.path.abspath('../../../..'))"
   ]
  },
  {
   "cell_type": "code",
   "execution_count": 6,
   "id": "e71b8f0a-0623-4099-859b-e3ac7874c973",
   "metadata": {},
   "outputs": [],
   "source": [
    "root_dir = '/home/shayan/warehouse/tabluence/early_fused_single_rnn/classification/two_bin/time_portions/all/'"
   ]
  },
  {
   "cell_type": "code",
   "execution_count": 7,
   "id": "c98fa6bc-9721-4f14-b0f4-f9ab674e5df6",
   "metadata": {},
   "outputs": [],
   "source": [
    "stats = torch.load(os.path.join(root_dir,'stats_latest.pth'), map_location='cpu')"
   ]
  },
  {
   "cell_type": "code",
   "execution_count": 8,
   "id": "32a84456-5511-4db0-b487-f0bdebca2297",
   "metadata": {},
   "outputs": [],
   "source": [
    "from collections.abc import MutableMapping\n",
    "\n",
    "def flatten_dict(d: MutableMapping, parent_key: str = '', sep: str ='.') -> MutableMapping:\n",
    "    items = []\n",
    "    for k, v in d.items():\n",
    "        new_key = parent_key + sep + k if parent_key else k\n",
    "        if isinstance(v, MutableMapping):\n",
    "            items.extend(flatten_dict(v, new_key, sep=sep).items())\n",
    "        else:\n",
    "            items.append((new_key, v))\n",
    "    return dict(items)"
   ]
  },
  {
   "cell_type": "code",
   "execution_count": 9,
   "id": "8e0895f9-e1e9-4e6c-936b-5d2731d5a24e",
   "metadata": {},
   "outputs": [],
   "source": [
    "df1 = pandas.concat([pandas.json_normalize(e, sep='.') for e in stats['test']])\n",
    "df2 = pandas.concat([pandas.json_normalize(e, sep='.') for e in stats['train']])\n",
    "stats_df = pandas.concat((df1, df2))"
   ]
  },
  {
   "cell_type": "code",
   "execution_count": 10,
   "id": "1309bd89-a7c2-4eb8-a167-4392e4b08b18",
   "metadata": {},
   "outputs": [
    {
     "data": {
      "text/html": [
       "<div>\n",
       "<style scoped>\n",
       "    .dataframe tbody tr th:only-of-type {\n",
       "        vertical-align: middle;\n",
       "    }\n",
       "\n",
       "    .dataframe tbody tr th {\n",
       "        vertical-align: top;\n",
       "    }\n",
       "\n",
       "    .dataframe thead th {\n",
       "        text-align: right;\n",
       "    }\n",
       "</style>\n",
       "<table border=\"1\" class=\"dataframe\">\n",
       "  <thead>\n",
       "    <tr style=\"text-align: right;\">\n",
       "      <th></th>\n",
       "      <th>accuracy</th>\n",
       "      <th>mode</th>\n",
       "      <th>epoch_index</th>\n",
       "      <th>label_layout.labels</th>\n",
       "      <th>label_layout.label_indices</th>\n",
       "      <th>accuracy_details.number_of_correctly_classified</th>\n",
       "      <th>accuracy_details.total_number_of_samples</th>\n",
       "      <th>roc_auc.macro</th>\n",
       "      <th>roc_auc.micro</th>\n",
       "      <th>roc_auc.samples</th>\n",
       "      <th>...</th>\n",
       "      <th>confusion_matrix.normalized.all</th>\n",
       "      <th>confusion_matrix.not_normalized</th>\n",
       "      <th>prf.macro</th>\n",
       "      <th>prf.micro</th>\n",
       "      <th>prf.None</th>\n",
       "      <th>loss_stats_for_loss.mean</th>\n",
       "      <th>loss_stats_for_loss.median</th>\n",
       "      <th>loss_stats_for_loss.std</th>\n",
       "      <th>loss_stats_for_loss.min</th>\n",
       "      <th>loss_stats_for_loss.max</th>\n",
       "    </tr>\n",
       "  </thead>\n",
       "  <tbody>\n",
       "    <tr>\n",
       "      <th>0</th>\n",
       "      <td>0.69400</td>\n",
       "      <td>test</td>\n",
       "      <td>8</td>\n",
       "      <td>[0.0, 0.5]</td>\n",
       "      <td>[0, 1]</td>\n",
       "      <td>1388</td>\n",
       "      <td>2000</td>\n",
       "      <td>0.799684</td>\n",
       "      <td>0.799684</td>\n",
       "      <td>0.799684</td>\n",
       "      <td>...</td>\n",
       "      <td>[[0.325, 0.175], [0.131, 0.369]]</td>\n",
       "      <td>[[650, 350], [262, 738]]</td>\n",
       "      <td>(0.695514060887513, 0.694, 0.6934064348578848,...</td>\n",
       "      <td>(0.694, 0.694, 0.694, None)</td>\n",
       "      <td>([0.7127192982456141, 0.6783088235294118], [0....</td>\n",
       "      <td>0.621212</td>\n",
       "      <td>0.618752</td>\n",
       "      <td>0.040794</td>\n",
       "      <td>0.552460</td>\n",
       "      <td>0.704906</td>\n",
       "    </tr>\n",
       "    <tr>\n",
       "      <th>0</th>\n",
       "      <td>0.65235</td>\n",
       "      <td>train</td>\n",
       "      <td>8</td>\n",
       "      <td>[0.0, 0.5]</td>\n",
       "      <td>[0, 1]</td>\n",
       "      <td>13047</td>\n",
       "      <td>20000</td>\n",
       "      <td>0.529185</td>\n",
       "      <td>0.529185</td>\n",
       "      <td>0.529185</td>\n",
       "      <td>...</td>\n",
       "      <td>[[0.32945, 0.17055], [0.1771, 0.3229]]</td>\n",
       "      <td>[[6589, 3411], [3542, 6458]]</td>\n",
       "      <td>(0.6523761492709763, 0.65235, 0.65233508430595...</td>\n",
       "      <td>(0.65235, 0.65235, 0.65235, None)</td>\n",
       "      <td>([0.6503800217155266, 0.6543722768264262], [0....</td>\n",
       "      <td>0.642575</td>\n",
       "      <td>0.642988</td>\n",
       "      <td>0.042992</td>\n",
       "      <td>0.536667</td>\n",
       "      <td>0.770715</td>\n",
       "    </tr>\n",
       "  </tbody>\n",
       "</table>\n",
       "<p>2 rows × 39 columns</p>\n",
       "</div>"
      ],
      "text/plain": [
       "   accuracy   mode  epoch_index label_layout.labels  \\\n",
       "0   0.69400   test            8          [0.0, 0.5]   \n",
       "0   0.65235  train            8          [0.0, 0.5]   \n",
       "\n",
       "  label_layout.label_indices  accuracy_details.number_of_correctly_classified  \\\n",
       "0                     [0, 1]                                             1388   \n",
       "0                     [0, 1]                                            13047   \n",
       "\n",
       "   accuracy_details.total_number_of_samples  roc_auc.macro  roc_auc.micro  \\\n",
       "0                                      2000       0.799684       0.799684   \n",
       "0                                     20000       0.529185       0.529185   \n",
       "\n",
       "   roc_auc.samples  ...         confusion_matrix.normalized.all  \\\n",
       "0         0.799684  ...        [[0.325, 0.175], [0.131, 0.369]]   \n",
       "0         0.529185  ...  [[0.32945, 0.17055], [0.1771, 0.3229]]   \n",
       "\n",
       "   confusion_matrix.not_normalized  \\\n",
       "0         [[650, 350], [262, 738]]   \n",
       "0     [[6589, 3411], [3542, 6458]]   \n",
       "\n",
       "                                           prf.macro  \\\n",
       "0  (0.695514060887513, 0.694, 0.6934064348578848,...   \n",
       "0  (0.6523761492709763, 0.65235, 0.65233508430595...   \n",
       "\n",
       "                           prf.micro  \\\n",
       "0        (0.694, 0.694, 0.694, None)   \n",
       "0  (0.65235, 0.65235, 0.65235, None)   \n",
       "\n",
       "                                            prf.None  \\\n",
       "0  ([0.7127192982456141, 0.6783088235294118], [0....   \n",
       "0  ([0.6503800217155266, 0.6543722768264262], [0....   \n",
       "\n",
       "   loss_stats_for_loss.mean  loss_stats_for_loss.median  \\\n",
       "0                  0.621212                    0.618752   \n",
       "0                  0.642575                    0.642988   \n",
       "\n",
       "   loss_stats_for_loss.std  loss_stats_for_loss.min  loss_stats_for_loss.max  \n",
       "0                 0.040794                 0.552460                 0.704906  \n",
       "0                 0.042992                 0.536667                 0.770715  \n",
       "\n",
       "[2 rows x 39 columns]"
      ]
     },
     "execution_count": 10,
     "metadata": {},
     "output_type": "execute_result"
    }
   ],
   "source": [
    "optim_value = stats_df[stats_df['mode'] == 'test']['accuracy'].max()\n",
    "stats_df[stats_df.epoch_index == stats_df[stats_df.apply(lambda x: x['mode'] == 'test' and x['accuracy'] == optim_value, axis=1)].epoch_index.iloc[0]]"
   ]
  },
  {
   "cell_type": "code",
   "execution_count": 15,
   "id": "551e742d-1ad0-4eaf-ace3-6a05fb509157",
   "metadata": {},
   "outputs": [
    {
     "name": "stdout",
     "output_type": "stream",
     "text": [
      "|    |   accuracy | mode   |   epoch_index | label_layout.labels   | label_layout.label_indices   |   accuracy_details.number_of_correctly_classified |   accuracy_details.total_number_of_samples |   roc_auc.macro |   roc_auc.micro |   roc_auc.samples |   classification_report.0.precision |   classification_report.0.recall |   classification_report.0.f1-score |   classification_report.0.support |   classification_report.1.precision |   classification_report.1.recall |   classification_report.1.f1-score |   classification_report.1.support |   classification_report.accuracy |   classification_report.macro avg.precision |   classification_report.macro avg.recall |   classification_report.macro avg.f1-score |   classification_report.macro avg.support |   classification_report.weighted avg.precision |   classification_report.weighted avg.recall |   classification_report.weighted avg.f1-score |   classification_report.weighted avg.support | confusion_matrix.normalized.true   | confusion_matrix.normalized.pred   | confusion_matrix.normalized.all   | confusion_matrix.not_normalized   | prf.macro                                               | prf.micro                         | prf.None                                                                                                           |   loss_stats_for_loss.mean |   loss_stats_for_loss.median |   loss_stats_for_loss.std |   loss_stats_for_loss.min |   loss_stats_for_loss.max |\n",
      "|---:|-----------:|:-------|--------------:|:----------------------|:-----------------------------|--------------------------------------------------:|-------------------------------------------:|----------------:|----------------:|------------------:|------------------------------------:|---------------------------------:|-----------------------------------:|----------------------------------:|------------------------------------:|---------------------------------:|-----------------------------------:|----------------------------------:|---------------------------------:|--------------------------------------------:|-----------------------------------------:|-------------------------------------------:|------------------------------------------:|-----------------------------------------------:|--------------------------------------------:|----------------------------------------------:|---------------------------------------------:|:-----------------------------------|:-----------------------------------|:----------------------------------|:----------------------------------|:--------------------------------------------------------|:----------------------------------|:-------------------------------------------------------------------------------------------------------------------|---------------------------:|-----------------------------:|--------------------------:|--------------------------:|--------------------------:|\n",
      "|  0 |    0.685   | test   |            20 | [0.0, 0.5]            | [0, 1]                       |                                              1370 |                                       2000 |        0.693708 |        0.693708 |          0.693708 |                            0.702407 |                            0.642 |                           0.670846 |                              1000 |                             0.67035 |                           0.728  |                           0.697987 |                              1000 |                          0.685   |                                    0.686378 |                                  0.685   |                                   0.684416 |                                      2000 |                                       0.686378 |                                     0.685   |                                      0.684416 |                                         2000 | [[0.642 0.358]                     | [[0.702407   0.32965009]           | [[0.321 0.179]                    | [[642 358]                        | (0.6863784550535763, 0.685, 0.6844164860827671, None)   | (0.685, 0.685, 0.685, None)       | (array([0.702407  , 0.67034991]), array([0.642, 0.728]), array([0.67084639, 0.69798658]), array([1000, 1000]))     |                   0.62815  |                     0.621229 |                 0.0468459 |                  0.552998 |                  0.739902 |\n",
      "|    |            |        |               |                       |                              |                                                   |                                            |                 |                 |                   |                                     |                                  |                                    |                                   |                                     |                                  |                                    |                                   |                                  |                                             |                                          |                                            |                                           |                                                |                                             |                                               |                                              |  [0.272 0.728]]                    |  [0.297593   0.67034991]]          |  [0.136 0.364]]                   |  [272 728]]                       |                                                         |                                   |                                                                                                                    |                            |                              |                           |                           |                           |\n",
      "|  0 |    0.66455 | train  |            20 | [0.0, 0.5]            | [0, 1]                       |                                             13291 |                                      20000 |        0.505515 |        0.505515 |          0.505515 |                            0.665727 |                            0.661 |                           0.663355 |                             10000 |                             0.66339 |                           0.6681 |                           0.665737 |                             10000 |                          0.66455 |                                    0.664558 |                                  0.66455 |                                   0.664546 |                                     20000 |                                       0.664558 |                                     0.66455 |                                      0.664546 |                                        20000 | [[0.661  0.339 ]                   | [[0.66572666 0.33661007]           | [[0.3305  0.1695 ]                | [[6610 3390]                      | (0.6645582953836703, 0.66455, 0.6645457724380972, None) | (0.66455, 0.66455, 0.66455, None) | (array([0.66572666, 0.66338993]), array([0.661 , 0.6681]), array([0.66335491, 0.66573663]), array([10000, 10000])) |                   0.629398 |                     0.628139 |                 0.0470092 |                  0.509383 |                  0.759566 |\n",
      "|    |            |        |               |                       |                              |                                                   |                                            |                 |                 |                   |                                     |                                  |                                    |                                   |                                     |                                  |                                    |                                   |                                  |                                             |                                          |                                            |                                           |                                                |                                             |                                               |                                              |  [0.3319 0.6681]]                  |  [0.33427334 0.66338993]]          |  [0.16595 0.33405]]               |  [3319 6681]]                     |                                                         |                                   |                                                                                                                    |                            |                              |                           |                           |                           |\n"
     ]
    }
   ],
   "source": [
    "print(stats_df[stats_df['epoch_index'] == stats_df['epoch_index'].max()].to_markdown())"
   ]
  }
 ],
 "metadata": {
  "kernelspec": {
   "display_name": "Python 3 (ipykernel)",
   "language": "python",
   "name": "python3"
  },
  "language_info": {
   "codemirror_mode": {
    "name": "ipython",
    "version": 3
   },
   "file_extension": ".py",
   "mimetype": "text/x-python",
   "name": "python",
   "nbconvert_exporter": "python",
   "pygments_lexer": "ipython3",
   "version": "3.7.11"
  }
 },
 "nbformat": 4,
 "nbformat_minor": 5
}
