{
 "cells": [
  {
   "cell_type": "code",
   "execution_count": 1,
   "id": "8492d9f8-da5f-4ea3-b269-4e17e6cd6c5c",
   "metadata": {
    "pycharm": {
     "name": "#%%\n"
    }
   },
   "outputs": [],
   "source": [
    "import os\n",
    "import sys\n",
    "sys.path.append(os.path.abspath('../..'))\n",
    "from nowoe.data.api.smartwatch.utilities.preparations import *\n",
    "import pandas\n",
    "import plotly_express as px\n",
    "import numpy\n",
    "import json\n",
    "import pickle\n",
    "import gzip\n",
    "import matplotlib.pyplot as plt\n",
    "from copy import deepcopy\n",
    "from functools import reduce\n",
    "from tqdm import tqdm\n",
    "from datetime import datetime, timezone\n",
    "from typing import Dict, List, Tuple, Union, Any\n",
    "import torch.utils.data.dataloader\n",
    "from nowoe.data.api.smartwatch.utilities.timestamp import get_utc_date_from_utc_timestamp\n",
    "from nowoe.data.api.smartwatch.data_manager.module import SmartwatchDataManager\n",
    "from nowoe.deep_learning.data.dataset.datasets.smartwatch_study.single_slice import SmartwatchStudySingleSliceDataset, single_slice_collate_fn"
   ]
  },
  {
   "cell_type": "markdown",
   "id": "91717522-cece-4e5a-b8b4-96cc8c638606",
   "metadata": {
    "pycharm": {
     "name": "#%% md\n"
    }
   },
   "source": [
    "Building the data manager:"
   ]
  },
  {
   "cell_type": "code",
   "execution_count": 2,
   "id": "a7c262c0-7468-4c93-987c-4c058f2781cc",
   "metadata": {
    "pycharm": {
     "name": "#%%\n"
    }
   },
   "outputs": [
    {
     "name": "stdout",
     "output_type": "stream",
     "text": [
      "CPU times: user 38.5 s, sys: 422 ms, total: 39 s\n",
      "Wall time: 39 s\n"
     ]
    }
   ],
   "source": [
    "%%time\n",
    "root = '../../resources/warrior_wellness/Analysis/local_repo/'\n",
    "data_manager = SmartwatchDataManager(\n",
    "    root_dir = root,\n",
    "    subject_id_list=[f'SWS_{i:02d}' for i in range(0,5)]\n",
    ")"
   ]
  },
  {
   "cell_type": "code",
   "execution_count": 3,
   "id": "3f77204b-1b4b-4268-bf8b-17bfe4df656c",
   "metadata": {
    "pycharm": {
     "name": "#%%\n"
    }
   },
   "outputs": [
    {
     "data": {
      "text/plain": [
       "['SWS_01', 'SWS_02', 'SWS_03', 'SWS_04']"
      ]
     },
     "execution_count": 3,
     "metadata": {},
     "output_type": "execute_result"
    }
   ],
   "source": [
    "data_manager.get_existing_subject_id_list()"
   ]
  },
  {
   "cell_type": "code",
   "execution_count": 4,
   "id": "dfc952d0-53aa-404d-acba-2c6af961c208",
   "metadata": {
    "pycharm": {
     "name": "#%%\n"
    }
   },
   "outputs": [
    {
     "data": {
      "text/plain": [
       "[1614816000.0, 1615754760.0]"
      ]
     },
     "execution_count": 4,
     "metadata": {},
     "output_type": "execute_result"
    }
   ],
   "source": [
    "data_manager.get_utc_timestamp_range_for_subject(subject_id='SWS_02')"
   ]
  },
  {
   "cell_type": "markdown",
   "id": "cd4a99ec-8590-433b-90d6-72288bc02cb4",
   "metadata": {
    "pycharm": {
     "name": "#%% md\n"
    }
   },
   "source": [
    "Building the dataset (PyTorch)"
   ]
  },
  {
   "cell_type": "code",
   "execution_count": 5,
   "id": "1a25cb6d-f8a1-4928-9188-3e493d279fa8",
   "metadata": {
    "pycharm": {
     "name": "#%%\n"
    }
   },
   "outputs": [
    {
     "name": "stderr",
     "output_type": "stream",
     "text": [
      "2022-02-18 09:38:32,879 - nowoe.deep_learning.data.dataset.datasets.smartwatch_study.single_slice - INFO - \n",
      "Building dataset metadata...\n",
      "\n",
      "2022-02-18 09:38:32,880 - nowoe.deep_learning.data.dataset.datasets.smartwatch_study.single_slice - INFO - processing subjects:\n",
      "  0%|                                                     | 0/4 [00:00<?, ?it/s]2022-02-18 09:38:32,883 - nowoe.deep_learning.data.dataset.datasets.smartwatch_study.single_slice - INFO - processing subject_id: SWS_01\n",
      "2022-02-18 09:38:32,908 - nowoe.deep_learning.data.dataset.datasets.smartwatch_study.single_slice - INFO - processing slice_length_in_seconds: 3600.0\n",
      "\n",
      "\n"
     ]
    },
    {
     "name": "stdout",
     "output_type": "stream",
     "text": [
      "remaining timespan: 3960.0 seconds == 1.10 hours            \r"
     ]
    },
    {
     "name": "stderr",
     "output_type": "stream",
     "text": [
      " 25%|███████████▎                                 | 1/4 [00:51<02:34, 51.35s/it]2022-02-18 09:39:24,234 - nowoe.deep_learning.data.dataset.datasets.smartwatch_study.single_slice - INFO - processing subject_id: SWS_02\n",
      "2022-02-18 09:39:24,251 - nowoe.deep_learning.data.dataset.datasets.smartwatch_study.single_slice - INFO - processing slice_length_in_seconds: 3600.0\n",
      "\n",
      "\n"
     ]
    },
    {
     "name": "stdout",
     "output_type": "stream",
     "text": [
      "remaining timespan: 5460.0 seconds == 1.52 hours           \r"
     ]
    },
    {
     "name": "stderr",
     "output_type": "stream",
     "text": [
      " 50%|██████████████████████▌                      | 2/4 [01:22<01:19, 39.58s/it]2022-02-18 09:39:55,568 - nowoe.deep_learning.data.dataset.datasets.smartwatch_study.single_slice - INFO - processing subject_id: SWS_03\n",
      "2022-02-18 09:39:55,596 - nowoe.deep_learning.data.dataset.datasets.smartwatch_study.single_slice - INFO - processing slice_length_in_seconds: 3600.0\n",
      "\n",
      "\n"
     ]
    },
    {
     "name": "stdout",
     "output_type": "stream",
     "text": [
      "remaining timespan: 6120.0 seconds == 1.70 hours            \r"
     ]
    },
    {
     "name": "stderr",
     "output_type": "stream",
     "text": [
      " 75%|█████████████████████████████████▊           | 3/4 [02:17<00:46, 46.52s/it]2022-02-18 09:40:50,354 - nowoe.deep_learning.data.dataset.datasets.smartwatch_study.single_slice - INFO - processing subject_id: SWS_04\n",
      "2022-02-18 09:40:50,394 - nowoe.deep_learning.data.dataset.datasets.smartwatch_study.single_slice - INFO - processing slice_length_in_seconds: 3600.0\n",
      "\n",
      "\n"
     ]
    },
    {
     "name": "stdout",
     "output_type": "stream",
     "text": [
      "remaining timespan: 4320.0 seconds == 1.20 hours            \r"
     ]
    },
    {
     "name": "stderr",
     "output_type": "stream",
     "text": [
      "100%|█████████████████████████████████████████████| 4/4 [03:42<00:00, 55.58s/it]\n",
      "2022-02-18 09:42:15,218 - nowoe.deep_learning.data.dataset.datasets.smartwatch_study.single_slice - INFO - \n",
      "Dataset metadata built.\n",
      "\n",
      "2022-02-18 09:42:15,218 - nowoe.deep_learning.data.dataset.datasets.smartwatch_study.single_slice - INFO - \n",
      "Caching dataset metadata...\n",
      "\n",
      "2022-02-18 09:42:15,471 - nowoe.deep_learning.data.dataset.datasets.smartwatch_study.single_slice - INFO - \n",
      "Cached it. File is stored at f/home/shayan/phoenix/nowoe_framework/nowoe_framework/notebooks/smartwatch/train-dataset-cache-test.pkl.gz\n",
      "\n"
     ]
    },
    {
     "name": "stdout",
     "output_type": "stream",
     "text": [
      "CPU times: user 3min 43s, sys: 263 ms, total: 3min 43s\n",
      "Wall time: 3min 42s\n"
     ]
    }
   ],
   "source": [
    "%%time\n",
    "cache_file = 'train-dataset-cache-test.pkl.gz'\n",
    "# os.system(f'rm {cache_file}')\n",
    "dataset = SmartwatchStudySingleSliceDataset(\n",
    "    data_manager=data_manager,\n",
    "    slice_lengths=[3600],\n",
    "    slice_time_step=(15*60),\n",
    "    label_milestone_per_window=1.0,\n",
    "    metadata_cache_filepath=cache_file,\n",
    "    no_cache=False\n",
    ")"
   ]
  },
  {
   "cell_type": "code",
   "execution_count": 7,
   "id": "0c556e47-5035-4b6f-8aef-1789cc9700eb",
   "metadata": {
    "tags": [],
    "pycharm": {
     "name": "#%%\n"
    }
   },
   "outputs": [
    {
     "data": {
      "text/plain": [
       "{'total': 3767,\n",
       " 'overall/bin-0/0.00-0.26': 3521,\n",
       " 'overall/bin-1/0.26-0.51': 62,\n",
       " 'overall/bin-2/0.51-0.77': 53,\n",
       " 'overall/bin-3/0.77-1.03': 64,\n",
       " 'overall/bin-4/1.03-1.29': 11,\n",
       " 'overall/bin-5/1.29-1.54': 7,\n",
       " 'overall/bin-6/1.54-1.80': 13,\n",
       " 'overall/bin-7/1.80-2.06': 15,\n",
       " 'overall/bin-8/2.06-2.31': 0,\n",
       " 'overall/bin-9/2.31-2.57': 2,\n",
       " 'overall/bin-10/2.57-2.83': 8,\n",
       " 'overall/bin-11/2.83-3.09': 3,\n",
       " 'overall/bin-12/3.09-3.34': 2,\n",
       " 'overall/bin-13/3.34-3.60': 3,\n",
       " 'overall/bin-14/3.60-3.86': 3,\n",
       " 'overall/bin-15/3.86-4.11': 0,\n",
       " 'overall/bin-16/4.11-4.37': 0,\n",
       " 'overall/bin-17/4.37-4.63': 0,\n",
       " 'overall/bin-18/4.63-4.89': 0,\n",
       " 'overall/bin-19/4.89-5.14': 0,\n",
       " 'overall/bin-20/5.14-5.40': 0,\n",
       " 'overall/bin-21/5.40-5.66': 0,\n",
       " 'overall/bin-22/5.66-5.91': 0,\n",
       " 'overall/bin-23/5.91-6.17': 0,\n",
       " 'overall/bin-24/6.17-6.43': 0,\n",
       " 'overall/bin-25/6.43-6.69': 0,\n",
       " 'overall/bin-26/6.69-6.94': 0,\n",
       " 'overall/bin-27/6.94-7.20': 0,\n",
       " 'overall/bin-28/7.20-7.46': 0,\n",
       " 'overall/bin-29/7.46-7.71': 0,\n",
       " 'overall/bin-30/7.71-7.97': 0,\n",
       " 'overall/bin-31/7.97-8.23': 0,\n",
       " 'overall/bin-32/8.23-8.49': 0,\n",
       " 'overall/bin-33/8.49-8.74': 0,\n",
       " 'overall/bin-34/8.74-9.00': 0,\n",
       " 'overall/bin-35/9.00-9.00': 0,\n",
       " 'general/bin-0/0.00-0.27': 3665,\n",
       " 'general/bin-1/0.27-0.55': 25,\n",
       " 'general/bin-2/0.55-0.82': 24,\n",
       " 'general/bin-3/0.82-1.09': 33,\n",
       " 'general/bin-4/1.09-1.36': 4,\n",
       " 'general/bin-5/1.36-1.64': 0,\n",
       " 'general/bin-6/1.64-1.91': 8,\n",
       " 'general/bin-7/1.91-2.18': 2,\n",
       " 'general/bin-8/2.18-2.45': 0,\n",
       " 'general/bin-9/2.45-2.73': 4,\n",
       " 'general/bin-10/2.73-3.00': 0,\n",
       " 'general/bin-11/3.00-9.00': 2,\n",
       " 'induced/bin-0/0.00-0.27': 3711,\n",
       " 'induced/bin-1/0.27-0.55': 12,\n",
       " 'induced/bin-2/0.55-0.82': 16,\n",
       " 'induced/bin-3/0.82-1.09': 18,\n",
       " 'induced/bin-4/1.09-1.36': 4,\n",
       " 'induced/bin-5/1.36-1.64': 0,\n",
       " 'induced/bin-6/1.64-1.91': 4,\n",
       " 'induced/bin-7/1.91-2.18': 2,\n",
       " 'induced/bin-8/2.18-2.45': 0,\n",
       " 'induced/bin-9/2.45-2.73': 0,\n",
       " 'induced/bin-10/2.73-3.00': 0,\n",
       " 'induced/bin-11/3.00-9.00': 0,\n",
       " 'interpersonal/bin-0/0.00-0.27': 3679,\n",
       " 'interpersonal/bin-1/0.27-0.55': 16,\n",
       " 'interpersonal/bin-2/0.55-0.82': 16,\n",
       " 'interpersonal/bin-3/0.82-1.09': 20,\n",
       " 'interpersonal/bin-4/1.09-1.36': 6,\n",
       " 'interpersonal/bin-5/1.36-1.64': 2,\n",
       " 'interpersonal/bin-6/1.64-1.91': 15,\n",
       " 'interpersonal/bin-7/1.91-2.18': 4,\n",
       " 'interpersonal/bin-8/2.18-2.45': 0,\n",
       " 'interpersonal/bin-9/2.45-2.73': 6,\n",
       " 'interpersonal/bin-10/2.73-3.00': 0,\n",
       " 'interpersonal/bin-11/3.00-9.00': 3}"
      ]
     },
     "execution_count": 7,
     "metadata": {},
     "output_type": "execute_result"
    }
   ],
   "source": [
    "dataset.datapoint_counts"
   ]
  },
  {
   "cell_type": "code",
   "execution_count": null,
   "id": "50f55e2f-6c58-476f-b2ab-bc4d52272e76",
   "metadata": {
    "pycharm": {
     "name": "#%%\n"
    }
   },
   "outputs": [],
   "source": [
    "class BalancedStressLevelSampler(torch.utils.data.sampler.Sampler):\n",
    "    def __init__(self, metadata, datapoint_counts):\n",
    "        \"\"\"\n",
    "        We want to build the probability distribution of retaining an element from each one of the bins.\n",
    "        \n",
    "        Thus, we will follow the approach below:\n",
    "        \"\"\"\n",
    "        super(BalancedStressLevelSampler, self).__init__()\n",
    "        self.metadata = metadata\n",
    "        self.datapoint_counts = datapoint_counts\n",
    "        self.prepare_binner(datapoint_counts)\n",
    "        self.prepare_bin_retain_probabilities()\n",
    "        \n",
    "    def prepare_bin_retain_probabilities(self):\n",
    "        \n",
    "        \n",
    "    def prepare_binner(self, ):\n",
    "        bins_per_category = dict()\n",
    "        for stress_bin in [for e in self.datapoint_counts.keys() if not e == 'total']:\n",
    "            stress_category, bin_range = stress_bin.split('/') \n",
    "            bin_low, bin_high = [float(e) for e in bin_range.split('-')]\n",
    "            bins_per_category[stress_bin] = (bin_low, bin_high)\n",
    "        \n",
    "        def binner(stress_category: str, value: float):\n",
    "            for k in [e for e in bins_per_category.keys() if e.lower().startswith(stress_category.lower())]:\n",
    "                if value >= bins_per_category[k][0] and value < bins_per_category[k][1]:\n",
    "                    return k\n",
    "            raise Exception(f\"unknown bin - was not able to match value {value:.4f} for category {stress_category}\")\n",
    "        self.binner = binner\n",
    "        \n",
    "    def __iter__(self) -> Iterator[int]:\n",
    "        for i, meta in self.metadata:\n",
    "            \n",
    "        \n",
    "    def __len__(self) -> int:\n",
    "        return "
   ]
  },
  {
   "cell_type": "code",
   "execution_count": null,
   "id": "2bd92d39-bdfe-4d53-ad6d-5594215a1445",
   "metadata": {
    "pycharm": {
     "name": "#%%\n"
    }
   },
   "outputs": [],
   "source": [
    "import numpy as np\n",
    "import math\n",
    "\n",
    "a = np.array([11,75])\n",
    "# calculate histogram values\n"
   ]
  },
  {
   "cell_type": "code",
   "execution_count": null,
   "id": "01f1e738-8da4-4fcd-bee9-d4d19fdaa362",
   "metadata": {
    "pycharm": {
     "name": "#%%\n"
    }
   },
   "outputs": [],
   "source": [
    "x=2.3\n",
    "vals, bins = numpy.histogram(np.array([x]), bins = numpy.arange(0, 3.2, 0.2))\n",
    "numpy.nonzero(vals)[0][0]"
   ]
  },
  {
   "cell_type": "code",
   "execution_count": null,
   "id": "34aa309f-3a9d-4e10-85d3-a7682b26864f",
   "metadata": {
    "pycharm": {
     "name": "#%%\n"
    }
   },
   "outputs": [],
   "source": [
    "numpy.arange(0, 3.2, 0.2)[11]"
   ]
  },
  {
   "cell_type": "code",
   "execution_count": null,
   "id": "f5f7d63d-25dc-45ce-8cfd-abfa9f4d031d",
   "metadata": {
    "pycharm": {
     "name": "#%%\n"
    }
   },
   "outputs": [],
   "source": []
  },
  {
   "cell_type": "code",
   "execution_count": 8,
   "id": "064b0e2d-ec97-4c74-bb37-d2451b3f2d27",
   "metadata": {
    "pycharm": {
     "name": "#%%\n"
    }
   },
   "outputs": [],
   "source": [
    "dataset_iter = iter(dataset)"
   ]
  },
  {
   "cell_type": "code",
   "execution_count": 9,
   "id": "2de12ba6-6642-4696-bf8a-c1797870e740",
   "metadata": {
    "pycharm": {
     "name": "#%%\n"
    }
   },
   "outputs": [],
   "source": [
    "item = next(dataset_iter)"
   ]
  },
  {
   "cell_type": "code",
   "execution_count": 10,
   "id": "59957069-95e4-41e0-ac9b-28e9835c23b2",
   "metadata": {
    "pycharm": {
     "name": "#%%\n"
    }
   },
   "outputs": [
    {
     "data": {
      "text/plain": [
       "{'subject_id': 'SWS_01',\n",
       " 'utc_timestamp_window': (1614924000.0, 1614927600.0),\n",
       " 'overall_stress_value': 0.0,\n",
       " 'general_stress_value': 0.0,\n",
       " 'interpersonal_stress_value': 0.0,\n",
       " 'utc_timestamp_for_stress_query': 1614927600.0,\n",
       " 'induced_stress_value': 0.0,\n",
       " 'general_quantized_stress_value': 0.0,\n",
       " 'induced_quantized_stress_value': 0.0,\n",
       " 'interpersonal_quantized_stress_value': 0.0,\n",
       " 'overall_quantized_stress_value': 0.0}"
      ]
     },
     "execution_count": 10,
     "metadata": {},
     "output_type": "execute_result"
    }
   ],
   "source": [
    "item['meta']"
   ]
  },
  {
   "cell_type": "code",
   "execution_count": 12,
   "id": "5d2419c7-5f40-45c5-8cc4-8649bf8b1c1d",
   "metadata": {
    "pycharm": {
     "name": "#%%\n"
    }
   },
   "outputs": [
    {
     "data": {
      "text/plain": [
       "dict_keys(['daily', 'respiration', 'stress', 'pulseOx'])"
      ]
     },
     "execution_count": 12,
     "metadata": {},
     "output_type": "execute_result"
    }
   ],
   "source": [
    "item['slice'].keys()"
   ]
  },
  {
   "cell_type": "code",
   "execution_count": 13,
   "id": "41cd0f3c-76ea-4cf9-a010-8b3c2297db6a",
   "metadata": {
    "pycharm": {
     "name": "#%%\n"
    }
   },
   "outputs": [
    {
     "data": {
      "text/html": [
       "<div>\n",
       "<style scoped>\n",
       "    .dataframe tbody tr th:only-of-type {\n",
       "        vertical-align: middle;\n",
       "    }\n",
       "\n",
       "    .dataframe tbody tr th {\n",
       "        vertical-align: top;\n",
       "    }\n",
       "\n",
       "    .dataframe thead th {\n",
       "        text-align: right;\n",
       "    }\n",
       "</style>\n",
       "<table border=\"1\" class=\"dataframe\">\n",
       "  <thead>\n",
       "    <tr style=\"text-align: right;\">\n",
       "      <th></th>\n",
       "      <th>utc_timestamp</th>\n",
       "      <th>heart_rate_tsvalue</th>\n",
       "      <th>floorsClimbed</th>\n",
       "      <th>maxHeartRateInBeatsPerMinute</th>\n",
       "      <th>averageStressLevel</th>\n",
       "      <th>user_id</th>\n",
       "      <th>averageHeartRateInBeatsPerMinute</th>\n",
       "      <th>calendarDate</th>\n",
       "      <th>distanceInMeters</th>\n",
       "      <th>stressDurationInSeconds</th>\n",
       "      <th>...</th>\n",
       "      <th>steps</th>\n",
       "      <th>intensityDurationGoalInSeconds</th>\n",
       "      <th>floorsClimbedGoal</th>\n",
       "      <th>summaryId</th>\n",
       "      <th>mediumStressDurationInSeconds</th>\n",
       "      <th>activeTimeInSeconds</th>\n",
       "      <th>stressQualifier</th>\n",
       "      <th>startTimeInSeconds</th>\n",
       "      <th>stepsGoal</th>\n",
       "      <th>utc_date</th>\n",
       "    </tr>\n",
       "  </thead>\n",
       "  <tbody>\n",
       "    <tr>\n",
       "      <th>17268</th>\n",
       "      <td>1614924000</td>\n",
       "      <td>56</td>\n",
       "      <td>34</td>\n",
       "      <td>181</td>\n",
       "      <td>24</td>\n",
       "      <td>SWS_01</td>\n",
       "      <td>72</td>\n",
       "      <td>2021-03-05</td>\n",
       "      <td>14234.0</td>\n",
       "      <td>18900</td>\n",
       "      <td>...</td>\n",
       "      <td>15521</td>\n",
       "      <td>9000</td>\n",
       "      <td>10</td>\n",
       "      <td>x38a008e-6041bad0-f99c-6</td>\n",
       "      <td>8040</td>\n",
       "      <td>7088</td>\n",
       "      <td>balanced</td>\n",
       "      <td>1614920400</td>\n",
       "      <td>7480</td>\n",
       "      <td>2021-03-05 06:00:00+00:00</td>\n",
       "    </tr>\n",
       "    <tr>\n",
       "      <th>17269</th>\n",
       "      <td>1614924000</td>\n",
       "      <td>56</td>\n",
       "      <td>11</td>\n",
       "      <td>116</td>\n",
       "      <td>21</td>\n",
       "      <td>SWS_01</td>\n",
       "      <td>65</td>\n",
       "      <td>2021-03-05</td>\n",
       "      <td>3301.0</td>\n",
       "      <td>11580</td>\n",
       "      <td>...</td>\n",
       "      <td>4267</td>\n",
       "      <td>9000</td>\n",
       "      <td>10</td>\n",
       "      <td>x38a008e-6041bad0-c06c-6</td>\n",
       "      <td>5700</td>\n",
       "      <td>2960</td>\n",
       "      <td>unknown</td>\n",
       "      <td>1614920400</td>\n",
       "      <td>7480</td>\n",
       "      <td>2021-03-05 06:00:00+00:00</td>\n",
       "    </tr>\n",
       "    <tr>\n",
       "      <th>17270</th>\n",
       "      <td>1614924000</td>\n",
       "      <td>56</td>\n",
       "      <td>11</td>\n",
       "      <td>116</td>\n",
       "      <td>21</td>\n",
       "      <td>SWS_01</td>\n",
       "      <td>65</td>\n",
       "      <td>2021-03-05</td>\n",
       "      <td>3301.0</td>\n",
       "      <td>11580</td>\n",
       "      <td>...</td>\n",
       "      <td>4267</td>\n",
       "      <td>9000</td>\n",
       "      <td>10</td>\n",
       "      <td>x38a008e-6041bad0-c06c-6</td>\n",
       "      <td>5700</td>\n",
       "      <td>2960</td>\n",
       "      <td>unknown</td>\n",
       "      <td>1614920400</td>\n",
       "      <td>7480</td>\n",
       "      <td>2021-03-05 06:00:00+00:00</td>\n",
       "    </tr>\n",
       "    <tr>\n",
       "      <th>17271</th>\n",
       "      <td>1614924000</td>\n",
       "      <td>56</td>\n",
       "      <td>11</td>\n",
       "      <td>116</td>\n",
       "      <td>21</td>\n",
       "      <td>SWS_01</td>\n",
       "      <td>65</td>\n",
       "      <td>2021-03-05</td>\n",
       "      <td>3301.0</td>\n",
       "      <td>11520</td>\n",
       "      <td>...</td>\n",
       "      <td>4267</td>\n",
       "      <td>9000</td>\n",
       "      <td>10</td>\n",
       "      <td>x38a008e-6041bad0-c030-6</td>\n",
       "      <td>5640</td>\n",
       "      <td>2960</td>\n",
       "      <td>unknown</td>\n",
       "      <td>1614920400</td>\n",
       "      <td>7480</td>\n",
       "      <td>2021-03-05 06:00:00+00:00</td>\n",
       "    </tr>\n",
       "    <tr>\n",
       "      <th>17272</th>\n",
       "      <td>1614924000</td>\n",
       "      <td>56</td>\n",
       "      <td>35</td>\n",
       "      <td>181</td>\n",
       "      <td>28</td>\n",
       "      <td>SWS_01</td>\n",
       "      <td>74</td>\n",
       "      <td>2021-03-05</td>\n",
       "      <td>15196.0</td>\n",
       "      <td>27780</td>\n",
       "      <td>...</td>\n",
       "      <td>16765</td>\n",
       "      <td>9000</td>\n",
       "      <td>10</td>\n",
       "      <td>x38a008e-6041bad0-15180-6</td>\n",
       "      <td>12900</td>\n",
       "      <td>7884</td>\n",
       "      <td>balanced</td>\n",
       "      <td>1614920400</td>\n",
       "      <td>7480</td>\n",
       "      <td>2021-03-05 06:00:00+00:00</td>\n",
       "    </tr>\n",
       "  </tbody>\n",
       "</table>\n",
       "<p>5 rows × 34 columns</p>\n",
       "</div>"
      ],
      "text/plain": [
       "       utc_timestamp  heart_rate_tsvalue  floorsClimbed  \\\n",
       "17268     1614924000                  56             34   \n",
       "17269     1614924000                  56             11   \n",
       "17270     1614924000                  56             11   \n",
       "17271     1614924000                  56             11   \n",
       "17272     1614924000                  56             35   \n",
       "\n",
       "       maxHeartRateInBeatsPerMinute  averageStressLevel user_id  \\\n",
       "17268                           181                  24  SWS_01   \n",
       "17269                           116                  21  SWS_01   \n",
       "17270                           116                  21  SWS_01   \n",
       "17271                           116                  21  SWS_01   \n",
       "17272                           181                  28  SWS_01   \n",
       "\n",
       "       averageHeartRateInBeatsPerMinute calendarDate  distanceInMeters  \\\n",
       "17268                                72   2021-03-05           14234.0   \n",
       "17269                                65   2021-03-05            3301.0   \n",
       "17270                                65   2021-03-05            3301.0   \n",
       "17271                                65   2021-03-05            3301.0   \n",
       "17272                                74   2021-03-05           15196.0   \n",
       "\n",
       "       stressDurationInSeconds  ...  steps  intensityDurationGoalInSeconds  \\\n",
       "17268                    18900  ...  15521                            9000   \n",
       "17269                    11580  ...   4267                            9000   \n",
       "17270                    11580  ...   4267                            9000   \n",
       "17271                    11520  ...   4267                            9000   \n",
       "17272                    27780  ...  16765                            9000   \n",
       "\n",
       "       floorsClimbedGoal                  summaryId  \\\n",
       "17268                 10   x38a008e-6041bad0-f99c-6   \n",
       "17269                 10   x38a008e-6041bad0-c06c-6   \n",
       "17270                 10   x38a008e-6041bad0-c06c-6   \n",
       "17271                 10   x38a008e-6041bad0-c030-6   \n",
       "17272                 10  x38a008e-6041bad0-15180-6   \n",
       "\n",
       "      mediumStressDurationInSeconds  activeTimeInSeconds  stressQualifier  \\\n",
       "17268                          8040                 7088         balanced   \n",
       "17269                          5700                 2960          unknown   \n",
       "17270                          5700                 2960          unknown   \n",
       "17271                          5640                 2960          unknown   \n",
       "17272                         12900                 7884         balanced   \n",
       "\n",
       "       startTimeInSeconds  stepsGoal                   utc_date  \n",
       "17268          1614920400       7480  2021-03-05 06:00:00+00:00  \n",
       "17269          1614920400       7480  2021-03-05 06:00:00+00:00  \n",
       "17270          1614920400       7480  2021-03-05 06:00:00+00:00  \n",
       "17271          1614920400       7480  2021-03-05 06:00:00+00:00  \n",
       "17272          1614920400       7480  2021-03-05 06:00:00+00:00  \n",
       "\n",
       "[5 rows x 34 columns]"
      ]
     },
     "execution_count": 13,
     "metadata": {},
     "output_type": "execute_result"
    }
   ],
   "source": [
    "item['slice']['daily'].head()"
   ]
  },
  {
   "cell_type": "code",
   "execution_count": 17,
   "id": "0ae7de71-c652-452f-904d-3db37d38edc1",
   "metadata": {
    "pycharm": {
     "name": "#%%\n"
    }
   },
   "outputs": [
    {
     "data": {
      "text/plain": [
       "array([2, 1, 1, 2, 3])"
      ]
     },
     "execution_count": 17,
     "metadata": {},
     "output_type": "execute_result"
    }
   ],
   "source": [
    "import numpy as np\n",
    "np.digitize(np.array([2.5, 0.1, 1.9, 2., 3.]), bins=[0, 2, 3])"
   ]
  },
  {
   "cell_type": "code",
   "execution_count": 2,
   "id": "c41315d4-6153-4370-b011-c2eed1790ef3",
   "metadata": {
    "pycharm": {
     "name": "#%%\n"
    }
   },
   "outputs": [
    {
     "data": {
      "text/plain": [
       "{2}"
      ]
     },
     "execution_count": 2,
     "metadata": {},
     "output_type": "execute_result"
    }
   ],
   "source": []
  },
  {
   "cell_type": "code",
   "execution_count": 1,
   "id": "b66a61fc-948f-46ef-9093-71fc49c49674",
   "metadata": {
    "pycharm": {
     "name": "#%%\n"
    }
   },
   "outputs": [],
   "source": [
    "a = set()\n",
    "a.add(2)\n"
   ]
  },
  {
   "cell_type": "code",
   "execution_count": null,
   "id": "3671b56c-1745-4f6f-b782-265ab8b496cd",
   "metadata": {
    "pycharm": {
     "name": "#%%\n"
    }
   },
   "outputs": [],
   "source": [
    "meta_distributions = dict()\n",
    "for k in item['meta'].keys():\n",
    "    meta_distributions[k] = [e[k] for e in dataset.metadata]\n",
    "meta_distributions = pandas.DataFrame(meta_distributions)\n",
    "meta_distributions.head()"
   ]
  },
  {
   "cell_type": "code",
   "execution_count": null,
   "id": "c4ee8db8-1041-4d48-adc3-01869c3e76c0",
   "metadata": {
    "tags": [],
    "pycharm": {
     "name": "#%%\n"
    }
   },
   "outputs": [],
   "source": [
    "fig = px.violin(meta_distributions, y='overall_stress_value', box=True)\n",
    "fig.show()"
   ]
  },
  {
   "cell_type": "markdown",
   "id": "d5711044-1917-406f-86cc-ee313cb4ed5a",
   "metadata": {
    "pycharm": {
     "name": "#%% md\n"
    }
   },
   "source": [
    "We need to do a 'binning', and we need to subsample accordingly by writing a sampler."
   ]
  },
  {
   "cell_type": "code",
   "execution_count": null,
   "id": "63ab09b1-cfde-4d87-8d3d-2183d1b1898f",
   "metadata": {
    "pycharm": {
     "name": "#%%\n"
    }
   },
   "outputs": [],
   "source": []
  },
  {
   "cell_type": "code",
   "execution_count": null,
   "id": "7b439f99-2825-4c4f-8b61-41f7b23cf65d",
   "metadata": {
    "pycharm": {
     "name": "#%%\n"
    }
   },
   "outputs": [],
   "source": [
    "%%time\n",
    "c = 0\n",
    "for item_meta in tqdm(dataset.metadata):\n",
    "    if item_meta['overall_stress_value'] > 0.5:\n",
    "        c += 1\n",
    "print(c)"
   ]
  },
  {
   "cell_type": "code",
   "execution_count": null,
   "id": "44a706e1-f485-4cc8-a738-a024934e43fc",
   "metadata": {
    "pycharm": {
     "name": "#%%\n"
    }
   },
   "outputs": [],
   "source": [
    "item['meta']"
   ]
  },
  {
   "cell_type": "code",
   "execution_count": null,
   "id": "945369f7-5e63-4b5b-8f02-eedd171fdd41",
   "metadata": {
    "pycharm": {
     "name": "#%%\n"
    }
   },
   "outputs": [],
   "source": [
    "item['slice'].keys()"
   ]
  },
  {
   "cell_type": "code",
   "execution_count": null,
   "id": "86ff434a-e752-4bfc-b856-a56aa8e328ff",
   "metadata": {
    "pycharm": {
     "name": "#%%\n"
    }
   },
   "outputs": [],
   "source": [
    "item['slice']['stress']"
   ]
  },
  {
   "cell_type": "code",
   "execution_count": null,
   "id": "1e3c7df1-25f7-410b-aced-3bb4e38e78bc",
   "metadata": {
    "pycharm": {
     "name": "#%%\n"
    }
   },
   "outputs": [],
   "source": [
    "from collections import defaultdict\n",
    "from typing import List\n",
    "import copy\n",
    "import functools\n",
    "from nowoe.data.api.smartwatch.utilities.timestamp import get_utc_date_from_utc_timestamp, \\\n",
    "    get_utc_timestamp_from_naive_datetime\n",
    "d = defaultdict(lambda: [])\n",
    "d['a']"
   ]
  },
  {
   "cell_type": "code",
   "execution_count": null,
   "id": "82c34d0b-d99c-4eb2-bec8-bf3765893582",
   "metadata": {
    "pycharm": {
     "name": "#%%\n"
    }
   },
   "outputs": [],
   "source": [
    "d.keys()"
   ]
  },
  {
   "cell_type": "code",
   "execution_count": 27,
   "id": "5d9dffd1-0f6b-4de2-960f-ce73f0640b60",
   "metadata": {
    "pycharm": {
     "name": "#%%\n"
    }
   },
   "outputs": [],
   "source": [
    "df = pandas.DataFrame(dataset.data_manager.json_contents['daily'])\n",
    "df = df[df.user_id == 'SWS_01']"
   ]
  },
  {
   "cell_type": "code",
   "execution_count": 28,
   "id": "43b21f63-2656-48a9-a352-ab951ba57218",
   "metadata": {
    "pycharm": {
     "name": "#%%\n"
    }
   },
   "outputs": [
    {
     "data": {
      "text/html": [
       "<div>\n",
       "<style scoped>\n",
       "    .dataframe tbody tr th:only-of-type {\n",
       "        vertical-align: middle;\n",
       "    }\n",
       "\n",
       "    .dataframe tbody tr th {\n",
       "        vertical-align: top;\n",
       "    }\n",
       "\n",
       "    .dataframe thead th {\n",
       "        text-align: right;\n",
       "    }\n",
       "</style>\n",
       "<table border=\"1\" class=\"dataframe\">\n",
       "  <thead>\n",
       "    <tr style=\"text-align: right;\">\n",
       "      <th></th>\n",
       "      <th>mediumStressDurationInSeconds</th>\n",
       "      <th>intensityDurationGoalInSeconds</th>\n",
       "      <th>steps</th>\n",
       "      <th>summaryId</th>\n",
       "      <th>averageStressLevel</th>\n",
       "      <th>user_id</th>\n",
       "      <th>minHeartRateInBeatsPerMinute</th>\n",
       "      <th>restStressDurationInSeconds</th>\n",
       "      <th>lowStressDurationInSeconds</th>\n",
       "      <th>averageHeartRateInBeatsPerMinute</th>\n",
       "      <th>...</th>\n",
       "      <th>highStressDurationInSeconds</th>\n",
       "      <th>vigorousIntensityDurationInSeconds</th>\n",
       "      <th>activityType</th>\n",
       "      <th>activeKilocalories</th>\n",
       "      <th>timeOffsetHeartRateSamples</th>\n",
       "      <th>stepsGoal</th>\n",
       "      <th>activityStressDurationInSeconds</th>\n",
       "      <th>stressQualifier</th>\n",
       "      <th>activeTimeInSeconds</th>\n",
       "      <th>calendarDate</th>\n",
       "    </tr>\n",
       "  </thead>\n",
       "  <tbody>\n",
       "    <tr>\n",
       "      <th>336</th>\n",
       "      <td>12900.0</td>\n",
       "      <td>9000</td>\n",
       "      <td>16765</td>\n",
       "      <td>x38a008e-6041bad0-15180-6</td>\n",
       "      <td>28.0</td>\n",
       "      <td>SWS_01</td>\n",
       "      <td>45.0</td>\n",
       "      <td>33480.0</td>\n",
       "      <td>13140.0</td>\n",
       "      <td>74.0</td>\n",
       "      <td>...</td>\n",
       "      <td>1740.0</td>\n",
       "      <td>3840</td>\n",
       "      <td>WALKING</td>\n",
       "      <td>1142</td>\n",
       "      <td>{'22365': 53, '50430': 87, '41820': 94, '40590...</td>\n",
       "      <td>7480</td>\n",
       "      <td>15060.0</td>\n",
       "      <td>balanced</td>\n",
       "      <td>7884</td>\n",
       "      <td>2021-03-05</td>\n",
       "    </tr>\n",
       "    <tr>\n",
       "      <th>337</th>\n",
       "      <td>5640.0</td>\n",
       "      <td>9000</td>\n",
       "      <td>4267</td>\n",
       "      <td>x38a008e-6041bad0-c030-6</td>\n",
       "      <td>21.0</td>\n",
       "      <td>SWS_01</td>\n",
       "      <td>45.0</td>\n",
       "      <td>28740.0</td>\n",
       "      <td>4620.0</td>\n",
       "      <td>65.0</td>\n",
       "      <td>...</td>\n",
       "      <td>1260.0</td>\n",
       "      <td>0</td>\n",
       "      <td>WALKING</td>\n",
       "      <td>250</td>\n",
       "      <td>{'14895': 52, '44055': 80, '9870': 49, '20310'...</td>\n",
       "      <td>7480</td>\n",
       "      <td>6540.0</td>\n",
       "      <td>unknown</td>\n",
       "      <td>2960</td>\n",
       "      <td>2021-03-05</td>\n",
       "    </tr>\n",
       "    <tr>\n",
       "      <th>338</th>\n",
       "      <td>5700.0</td>\n",
       "      <td>9000</td>\n",
       "      <td>4267</td>\n",
       "      <td>x38a008e-6041bad0-c06c-6</td>\n",
       "      <td>21.0</td>\n",
       "      <td>SWS_01</td>\n",
       "      <td>45.0</td>\n",
       "      <td>28740.0</td>\n",
       "      <td>4620.0</td>\n",
       "      <td>65.0</td>\n",
       "      <td>...</td>\n",
       "      <td>1260.0</td>\n",
       "      <td>0</td>\n",
       "      <td>WALKING</td>\n",
       "      <td>250</td>\n",
       "      <td>{'5880': 54, '7320': 54, '26175': 51, '12480':...</td>\n",
       "      <td>7480</td>\n",
       "      <td>6540.0</td>\n",
       "      <td>unknown</td>\n",
       "      <td>2960</td>\n",
       "      <td>2021-03-05</td>\n",
       "    </tr>\n",
       "    <tr>\n",
       "      <th>339</th>\n",
       "      <td>5760.0</td>\n",
       "      <td>9000</td>\n",
       "      <td>4267</td>\n",
       "      <td>x38a008e-6041bad0-c0a8-6</td>\n",
       "      <td>21.0</td>\n",
       "      <td>SWS_01</td>\n",
       "      <td>45.0</td>\n",
       "      <td>28740.0</td>\n",
       "      <td>4620.0</td>\n",
       "      <td>65.0</td>\n",
       "      <td>...</td>\n",
       "      <td>1260.0</td>\n",
       "      <td>0</td>\n",
       "      <td>WALKING</td>\n",
       "      <td>250</td>\n",
       "      <td>{'33825': 70, '47145': 83, '2505': 52, '35700'...</td>\n",
       "      <td>7480</td>\n",
       "      <td>6540.0</td>\n",
       "      <td>unknown</td>\n",
       "      <td>2960</td>\n",
       "      <td>2021-03-05</td>\n",
       "    </tr>\n",
       "    <tr>\n",
       "      <th>340</th>\n",
       "      <td>6120.0</td>\n",
       "      <td>9000</td>\n",
       "      <td>4267</td>\n",
       "      <td>x38a008e-6041bad0-c210-6</td>\n",
       "      <td>21.0</td>\n",
       "      <td>SWS_01</td>\n",
       "      <td>45.0</td>\n",
       "      <td>28740.0</td>\n",
       "      <td>4620.0</td>\n",
       "      <td>65.0</td>\n",
       "      <td>...</td>\n",
       "      <td>1260.0</td>\n",
       "      <td>0</td>\n",
       "      <td>WALKING</td>\n",
       "      <td>250</td>\n",
       "      <td>{'31560': 69, '18225': 52, '6195': 52, '16125'...</td>\n",
       "      <td>7480</td>\n",
       "      <td>6540.0</td>\n",
       "      <td>unknown</td>\n",
       "      <td>2960</td>\n",
       "      <td>2021-03-05</td>\n",
       "    </tr>\n",
       "  </tbody>\n",
       "</table>\n",
       "<p>5 rows × 32 columns</p>\n",
       "</div>"
      ],
      "text/plain": [
       "     mediumStressDurationInSeconds  intensityDurationGoalInSeconds  steps  \\\n",
       "336                        12900.0                            9000  16765   \n",
       "337                         5640.0                            9000   4267   \n",
       "338                         5700.0                            9000   4267   \n",
       "339                         5760.0                            9000   4267   \n",
       "340                         6120.0                            9000   4267   \n",
       "\n",
       "                     summaryId  averageStressLevel user_id  \\\n",
       "336  x38a008e-6041bad0-15180-6                28.0  SWS_01   \n",
       "337   x38a008e-6041bad0-c030-6                21.0  SWS_01   \n",
       "338   x38a008e-6041bad0-c06c-6                21.0  SWS_01   \n",
       "339   x38a008e-6041bad0-c0a8-6                21.0  SWS_01   \n",
       "340   x38a008e-6041bad0-c210-6                21.0  SWS_01   \n",
       "\n",
       "     minHeartRateInBeatsPerMinute  restStressDurationInSeconds  \\\n",
       "336                          45.0                      33480.0   \n",
       "337                          45.0                      28740.0   \n",
       "338                          45.0                      28740.0   \n",
       "339                          45.0                      28740.0   \n",
       "340                          45.0                      28740.0   \n",
       "\n",
       "     lowStressDurationInSeconds  averageHeartRateInBeatsPerMinute  ...  \\\n",
       "336                     13140.0                              74.0  ...   \n",
       "337                      4620.0                              65.0  ...   \n",
       "338                      4620.0                              65.0  ...   \n",
       "339                      4620.0                              65.0  ...   \n",
       "340                      4620.0                              65.0  ...   \n",
       "\n",
       "     highStressDurationInSeconds  vigorousIntensityDurationInSeconds  \\\n",
       "336                       1740.0                                3840   \n",
       "337                       1260.0                                   0   \n",
       "338                       1260.0                                   0   \n",
       "339                       1260.0                                   0   \n",
       "340                       1260.0                                   0   \n",
       "\n",
       "     activityType  activeKilocalories  \\\n",
       "336       WALKING                1142   \n",
       "337       WALKING                 250   \n",
       "338       WALKING                 250   \n",
       "339       WALKING                 250   \n",
       "340       WALKING                 250   \n",
       "\n",
       "                            timeOffsetHeartRateSamples  stepsGoal  \\\n",
       "336  {'22365': 53, '50430': 87, '41820': 94, '40590...       7480   \n",
       "337  {'14895': 52, '44055': 80, '9870': 49, '20310'...       7480   \n",
       "338  {'5880': 54, '7320': 54, '26175': 51, '12480':...       7480   \n",
       "339  {'33825': 70, '47145': 83, '2505': 52, '35700'...       7480   \n",
       "340  {'31560': 69, '18225': 52, '6195': 52, '16125'...       7480   \n",
       "\n",
       "     activityStressDurationInSeconds  stressQualifier  activeTimeInSeconds  \\\n",
       "336                          15060.0         balanced                 7884   \n",
       "337                           6540.0          unknown                 2960   \n",
       "338                           6540.0          unknown                 2960   \n",
       "339                           6540.0          unknown                 2960   \n",
       "340                           6540.0          unknown                 2960   \n",
       "\n",
       "     calendarDate  \n",
       "336    2021-03-05  \n",
       "337    2021-03-05  \n",
       "338    2021-03-05  \n",
       "339    2021-03-05  \n",
       "340    2021-03-05  \n",
       "\n",
       "[5 rows x 32 columns]"
      ]
     },
     "execution_count": 28,
     "metadata": {},
     "output_type": "execute_result"
    }
   ],
   "source": [
    "df.head()"
   ]
  },
  {
   "cell_type": "markdown",
   "id": "b6908c36-92b0-49d3-b94c-a74ac7615601",
   "metadata": {
    "pycharm": {
     "name": "#%% md\n"
    }
   },
   "source": [
    "#### `daily`"
   ]
  },
  {
   "cell_type": "code",
   "execution_count": 30,
   "id": "64ef8a44-6649-435f-8a64-b1ad8ab09b9d",
   "metadata": {
    "pycharm": {
     "name": "#%%\n"
    }
   },
   "outputs": [
    {
     "name": "stdout",
     "output_type": "stream",
     "text": [
      "2880\n"
     ]
    },
    {
     "data": {
      "text/html": [
       "<div>\n",
       "<style scoped>\n",
       "    .dataframe tbody tr th:only-of-type {\n",
       "        vertical-align: middle;\n",
       "    }\n",
       "\n",
       "    .dataframe tbody tr th {\n",
       "        vertical-align: top;\n",
       "    }\n",
       "\n",
       "    .dataframe thead th {\n",
       "        text-align: right;\n",
       "    }\n",
       "</style>\n",
       "<table border=\"1\" class=\"dataframe\">\n",
       "  <thead>\n",
       "    <tr style=\"text-align: right;\">\n",
       "      <th></th>\n",
       "      <th>utc_timestamp</th>\n",
       "      <th>heart_rate_tsvalue</th>\n",
       "      <th>floorsClimbed</th>\n",
       "      <th>maxHeartRateInBeatsPerMinute</th>\n",
       "      <th>averageStressLevel</th>\n",
       "      <th>user_id</th>\n",
       "      <th>averageHeartRateInBeatsPerMinute</th>\n",
       "      <th>calendarDate</th>\n",
       "      <th>distanceInMeters</th>\n",
       "      <th>stressDurationInSeconds</th>\n",
       "      <th>...</th>\n",
       "      <th>steps</th>\n",
       "      <th>intensityDurationGoalInSeconds</th>\n",
       "      <th>floorsClimbedGoal</th>\n",
       "      <th>summaryId</th>\n",
       "      <th>mediumStressDurationInSeconds</th>\n",
       "      <th>activeTimeInSeconds</th>\n",
       "      <th>stressQualifier</th>\n",
       "      <th>startTimeInSeconds</th>\n",
       "      <th>stepsGoal</th>\n",
       "      <th>utc_date</th>\n",
       "    </tr>\n",
       "  </thead>\n",
       "  <tbody>\n",
       "    <tr>\n",
       "      <th>18045</th>\n",
       "      <td>1614924960</td>\n",
       "      <td>55</td>\n",
       "      <td>11</td>\n",
       "      <td>116</td>\n",
       "      <td>21</td>\n",
       "      <td>SWS_01</td>\n",
       "      <td>65</td>\n",
       "      <td>2021-03-05</td>\n",
       "      <td>3301.0</td>\n",
       "      <td>11520</td>\n",
       "      <td>...</td>\n",
       "      <td>4267</td>\n",
       "      <td>9000</td>\n",
       "      <td>10</td>\n",
       "      <td>x38a008e-6041bad0-c030-6</td>\n",
       "      <td>5640</td>\n",
       "      <td>2960</td>\n",
       "      <td>unknown</td>\n",
       "      <td>1614920400</td>\n",
       "      <td>7480</td>\n",
       "      <td>2021-03-05 06:16:00+00:00</td>\n",
       "    </tr>\n",
       "    <tr>\n",
       "      <th>19848</th>\n",
       "      <td>1614927225</td>\n",
       "      <td>53</td>\n",
       "      <td>11</td>\n",
       "      <td>116</td>\n",
       "      <td>21</td>\n",
       "      <td>SWS_01</td>\n",
       "      <td>65</td>\n",
       "      <td>2021-03-05</td>\n",
       "      <td>3301.0</td>\n",
       "      <td>11520</td>\n",
       "      <td>...</td>\n",
       "      <td>4267</td>\n",
       "      <td>9000</td>\n",
       "      <td>10</td>\n",
       "      <td>x38a008e-6041bad0-c030-6</td>\n",
       "      <td>5640</td>\n",
       "      <td>2960</td>\n",
       "      <td>unknown</td>\n",
       "      <td>1614920400</td>\n",
       "      <td>7480</td>\n",
       "      <td>2021-03-05 06:53:45+00:00</td>\n",
       "    </tr>\n",
       "    <tr>\n",
       "      <th>18018</th>\n",
       "      <td>1614924930</td>\n",
       "      <td>55</td>\n",
       "      <td>11</td>\n",
       "      <td>116</td>\n",
       "      <td>21</td>\n",
       "      <td>SWS_01</td>\n",
       "      <td>65</td>\n",
       "      <td>2021-03-05</td>\n",
       "      <td>3301.0</td>\n",
       "      <td>11520</td>\n",
       "      <td>...</td>\n",
       "      <td>4267</td>\n",
       "      <td>9000</td>\n",
       "      <td>10</td>\n",
       "      <td>x38a008e-6041bad0-c030-6</td>\n",
       "      <td>5640</td>\n",
       "      <td>2960</td>\n",
       "      <td>unknown</td>\n",
       "      <td>1614920400</td>\n",
       "      <td>7480</td>\n",
       "      <td>2021-03-05 06:15:30+00:00</td>\n",
       "    </tr>\n",
       "    <tr>\n",
       "      <th>18022</th>\n",
       "      <td>1614924930</td>\n",
       "      <td>55</td>\n",
       "      <td>11</td>\n",
       "      <td>116</td>\n",
       "      <td>21</td>\n",
       "      <td>SWS_01</td>\n",
       "      <td>65</td>\n",
       "      <td>2021-03-05</td>\n",
       "      <td>3301.0</td>\n",
       "      <td>11520</td>\n",
       "      <td>...</td>\n",
       "      <td>4267</td>\n",
       "      <td>9000</td>\n",
       "      <td>10</td>\n",
       "      <td>x38a008e-6041bad0-c030-6</td>\n",
       "      <td>5640</td>\n",
       "      <td>2960</td>\n",
       "      <td>unknown</td>\n",
       "      <td>1614920400</td>\n",
       "      <td>7480</td>\n",
       "      <td>2021-03-05 06:15:30+00:00</td>\n",
       "    </tr>\n",
       "    <tr>\n",
       "      <th>18027</th>\n",
       "      <td>1614924945</td>\n",
       "      <td>55</td>\n",
       "      <td>11</td>\n",
       "      <td>116</td>\n",
       "      <td>21</td>\n",
       "      <td>SWS_01</td>\n",
       "      <td>65</td>\n",
       "      <td>2021-03-05</td>\n",
       "      <td>3301.0</td>\n",
       "      <td>11520</td>\n",
       "      <td>...</td>\n",
       "      <td>4267</td>\n",
       "      <td>9000</td>\n",
       "      <td>10</td>\n",
       "      <td>x38a008e-6041bad0-c030-6</td>\n",
       "      <td>5640</td>\n",
       "      <td>2960</td>\n",
       "      <td>unknown</td>\n",
       "      <td>1614920400</td>\n",
       "      <td>7480</td>\n",
       "      <td>2021-03-05 06:15:45+00:00</td>\n",
       "    </tr>\n",
       "    <tr>\n",
       "      <th>...</th>\n",
       "      <td>...</td>\n",
       "      <td>...</td>\n",
       "      <td>...</td>\n",
       "      <td>...</td>\n",
       "      <td>...</td>\n",
       "      <td>...</td>\n",
       "      <td>...</td>\n",
       "      <td>...</td>\n",
       "      <td>...</td>\n",
       "      <td>...</td>\n",
       "      <td>...</td>\n",
       "      <td>...</td>\n",
       "      <td>...</td>\n",
       "      <td>...</td>\n",
       "      <td>...</td>\n",
       "      <td>...</td>\n",
       "      <td>...</td>\n",
       "      <td>...</td>\n",
       "      <td>...</td>\n",
       "      <td>...</td>\n",
       "      <td>...</td>\n",
       "    </tr>\n",
       "    <tr>\n",
       "      <th>18449</th>\n",
       "      <td>1614925470</td>\n",
       "      <td>52</td>\n",
       "      <td>35</td>\n",
       "      <td>181</td>\n",
       "      <td>28</td>\n",
       "      <td>SWS_01</td>\n",
       "      <td>74</td>\n",
       "      <td>2021-03-05</td>\n",
       "      <td>15196.0</td>\n",
       "      <td>27780</td>\n",
       "      <td>...</td>\n",
       "      <td>16765</td>\n",
       "      <td>9000</td>\n",
       "      <td>10</td>\n",
       "      <td>x38a008e-6041bad0-15180-6</td>\n",
       "      <td>12900</td>\n",
       "      <td>7884</td>\n",
       "      <td>balanced</td>\n",
       "      <td>1614920400</td>\n",
       "      <td>7480</td>\n",
       "      <td>2021-03-05 06:24:30+00:00</td>\n",
       "    </tr>\n",
       "    <tr>\n",
       "      <th>19676</th>\n",
       "      <td>1614927000</td>\n",
       "      <td>52</td>\n",
       "      <td>35</td>\n",
       "      <td>181</td>\n",
       "      <td>28</td>\n",
       "      <td>SWS_01</td>\n",
       "      <td>74</td>\n",
       "      <td>2021-03-05</td>\n",
       "      <td>15196.0</td>\n",
       "      <td>27780</td>\n",
       "      <td>...</td>\n",
       "      <td>16765</td>\n",
       "      <td>9000</td>\n",
       "      <td>10</td>\n",
       "      <td>x38a008e-6041bad0-15180-6</td>\n",
       "      <td>12900</td>\n",
       "      <td>7884</td>\n",
       "      <td>balanced</td>\n",
       "      <td>1614920400</td>\n",
       "      <td>7480</td>\n",
       "      <td>2021-03-05 06:50:00+00:00</td>\n",
       "    </tr>\n",
       "    <tr>\n",
       "      <th>18443</th>\n",
       "      <td>1614925455</td>\n",
       "      <td>52</td>\n",
       "      <td>35</td>\n",
       "      <td>181</td>\n",
       "      <td>28</td>\n",
       "      <td>SWS_01</td>\n",
       "      <td>74</td>\n",
       "      <td>2021-03-05</td>\n",
       "      <td>15196.0</td>\n",
       "      <td>27780</td>\n",
       "      <td>...</td>\n",
       "      <td>16765</td>\n",
       "      <td>9000</td>\n",
       "      <td>10</td>\n",
       "      <td>x38a008e-6041bad0-15180-6</td>\n",
       "      <td>12900</td>\n",
       "      <td>7884</td>\n",
       "      <td>balanced</td>\n",
       "      <td>1614920400</td>\n",
       "      <td>7480</td>\n",
       "      <td>2021-03-05 06:24:15+00:00</td>\n",
       "    </tr>\n",
       "    <tr>\n",
       "      <th>18435</th>\n",
       "      <td>1614925455</td>\n",
       "      <td>52</td>\n",
       "      <td>35</td>\n",
       "      <td>181</td>\n",
       "      <td>28</td>\n",
       "      <td>SWS_01</td>\n",
       "      <td>74</td>\n",
       "      <td>2021-03-05</td>\n",
       "      <td>15196.0</td>\n",
       "      <td>27780</td>\n",
       "      <td>...</td>\n",
       "      <td>16765</td>\n",
       "      <td>9000</td>\n",
       "      <td>10</td>\n",
       "      <td>x38a008e-6041bad0-15180-6</td>\n",
       "      <td>12900</td>\n",
       "      <td>7884</td>\n",
       "      <td>balanced</td>\n",
       "      <td>1614920400</td>\n",
       "      <td>7480</td>\n",
       "      <td>2021-03-05 06:24:15+00:00</td>\n",
       "    </tr>\n",
       "    <tr>\n",
       "      <th>20147</th>\n",
       "      <td>1614927585</td>\n",
       "      <td>59</td>\n",
       "      <td>35</td>\n",
       "      <td>181</td>\n",
       "      <td>28</td>\n",
       "      <td>SWS_01</td>\n",
       "      <td>74</td>\n",
       "      <td>2021-03-05</td>\n",
       "      <td>15196.0</td>\n",
       "      <td>27780</td>\n",
       "      <td>...</td>\n",
       "      <td>16765</td>\n",
       "      <td>9000</td>\n",
       "      <td>10</td>\n",
       "      <td>x38a008e-6041bad0-15180-6</td>\n",
       "      <td>12900</td>\n",
       "      <td>7884</td>\n",
       "      <td>balanced</td>\n",
       "      <td>1614920400</td>\n",
       "      <td>7480</td>\n",
       "      <td>2021-03-05 06:59:45+00:00</td>\n",
       "    </tr>\n",
       "  </tbody>\n",
       "</table>\n",
       "<p>2880 rows × 34 columns</p>\n",
       "</div>"
      ],
      "text/plain": [
       "       utc_timestamp  heart_rate_tsvalue  floorsClimbed  \\\n",
       "18045     1614924960                  55             11   \n",
       "19848     1614927225                  53             11   \n",
       "18018     1614924930                  55             11   \n",
       "18022     1614924930                  55             11   \n",
       "18027     1614924945                  55             11   \n",
       "...              ...                 ...            ...   \n",
       "18449     1614925470                  52             35   \n",
       "19676     1614927000                  52             35   \n",
       "18443     1614925455                  52             35   \n",
       "18435     1614925455                  52             35   \n",
       "20147     1614927585                  59             35   \n",
       "\n",
       "       maxHeartRateInBeatsPerMinute  averageStressLevel user_id  \\\n",
       "18045                           116                  21  SWS_01   \n",
       "19848                           116                  21  SWS_01   \n",
       "18018                           116                  21  SWS_01   \n",
       "18022                           116                  21  SWS_01   \n",
       "18027                           116                  21  SWS_01   \n",
       "...                             ...                 ...     ...   \n",
       "18449                           181                  28  SWS_01   \n",
       "19676                           181                  28  SWS_01   \n",
       "18443                           181                  28  SWS_01   \n",
       "18435                           181                  28  SWS_01   \n",
       "20147                           181                  28  SWS_01   \n",
       "\n",
       "       averageHeartRateInBeatsPerMinute calendarDate  distanceInMeters  \\\n",
       "18045                                65   2021-03-05            3301.0   \n",
       "19848                                65   2021-03-05            3301.0   \n",
       "18018                                65   2021-03-05            3301.0   \n",
       "18022                                65   2021-03-05            3301.0   \n",
       "18027                                65   2021-03-05            3301.0   \n",
       "...                                 ...          ...               ...   \n",
       "18449                                74   2021-03-05           15196.0   \n",
       "19676                                74   2021-03-05           15196.0   \n",
       "18443                                74   2021-03-05           15196.0   \n",
       "18435                                74   2021-03-05           15196.0   \n",
       "20147                                74   2021-03-05           15196.0   \n",
       "\n",
       "       stressDurationInSeconds  ...  steps  intensityDurationGoalInSeconds  \\\n",
       "18045                    11520  ...   4267                            9000   \n",
       "19848                    11520  ...   4267                            9000   \n",
       "18018                    11520  ...   4267                            9000   \n",
       "18022                    11520  ...   4267                            9000   \n",
       "18027                    11520  ...   4267                            9000   \n",
       "...                        ...  ...    ...                             ...   \n",
       "18449                    27780  ...  16765                            9000   \n",
       "19676                    27780  ...  16765                            9000   \n",
       "18443                    27780  ...  16765                            9000   \n",
       "18435                    27780  ...  16765                            9000   \n",
       "20147                    27780  ...  16765                            9000   \n",
       "\n",
       "       floorsClimbedGoal                  summaryId  \\\n",
       "18045                 10   x38a008e-6041bad0-c030-6   \n",
       "19848                 10   x38a008e-6041bad0-c030-6   \n",
       "18018                 10   x38a008e-6041bad0-c030-6   \n",
       "18022                 10   x38a008e-6041bad0-c030-6   \n",
       "18027                 10   x38a008e-6041bad0-c030-6   \n",
       "...                  ...                        ...   \n",
       "18449                 10  x38a008e-6041bad0-15180-6   \n",
       "19676                 10  x38a008e-6041bad0-15180-6   \n",
       "18443                 10  x38a008e-6041bad0-15180-6   \n",
       "18435                 10  x38a008e-6041bad0-15180-6   \n",
       "20147                 10  x38a008e-6041bad0-15180-6   \n",
       "\n",
       "      mediumStressDurationInSeconds  activeTimeInSeconds  stressQualifier  \\\n",
       "18045                          5640                 2960          unknown   \n",
       "19848                          5640                 2960          unknown   \n",
       "18018                          5640                 2960          unknown   \n",
       "18022                          5640                 2960          unknown   \n",
       "18027                          5640                 2960          unknown   \n",
       "...                             ...                  ...              ...   \n",
       "18449                         12900                 7884         balanced   \n",
       "19676                         12900                 7884         balanced   \n",
       "18443                         12900                 7884         balanced   \n",
       "18435                         12900                 7884         balanced   \n",
       "20147                         12900                 7884         balanced   \n",
       "\n",
       "       startTimeInSeconds  stepsGoal                   utc_date  \n",
       "18045          1614920400       7480  2021-03-05 06:16:00+00:00  \n",
       "19848          1614920400       7480  2021-03-05 06:53:45+00:00  \n",
       "18018          1614920400       7480  2021-03-05 06:15:30+00:00  \n",
       "18022          1614920400       7480  2021-03-05 06:15:30+00:00  \n",
       "18027          1614920400       7480  2021-03-05 06:15:45+00:00  \n",
       "...                   ...        ...                        ...  \n",
       "18449          1614920400       7480  2021-03-05 06:24:30+00:00  \n",
       "19676          1614920400       7480  2021-03-05 06:50:00+00:00  \n",
       "18443          1614920400       7480  2021-03-05 06:24:15+00:00  \n",
       "18435          1614920400       7480  2021-03-05 06:24:15+00:00  \n",
       "20147          1614920400       7480  2021-03-05 06:59:45+00:00  \n",
       "\n",
       "[2880 rows x 34 columns]"
      ]
     },
     "execution_count": 30,
     "metadata": {},
     "output_type": "execute_result"
    }
   ],
   "source": [
    "print(item['slice']['daily'].shape[0])\n",
    "item['slice']['daily'].sort_values(by='durationInSeconds')"
   ]
  },
  {
   "cell_type": "code",
   "execution_count": 20,
   "id": "2337f5f8-1745-4b95-9fe7-fad93091b7a5",
   "metadata": {
    "pycharm": {
     "name": "#%%\n"
    }
   },
   "outputs": [
    {
     "name": "stdout",
     "output_type": "stream",
     "text": [
      "2880\n"
     ]
    },
    {
     "data": {
      "text/html": [
       "<div>\n",
       "<style scoped>\n",
       "    .dataframe tbody tr th:only-of-type {\n",
       "        vertical-align: middle;\n",
       "    }\n",
       "\n",
       "    .dataframe tbody tr th {\n",
       "        vertical-align: top;\n",
       "    }\n",
       "\n",
       "    .dataframe thead th {\n",
       "        text-align: right;\n",
       "    }\n",
       "</style>\n",
       "<table border=\"1\" class=\"dataframe\">\n",
       "  <thead>\n",
       "    <tr style=\"text-align: right;\">\n",
       "      <th></th>\n",
       "      <th>utc_timestamp</th>\n",
       "      <th>heart_rate_tsvalue</th>\n",
       "      <th>floorsClimbed</th>\n",
       "      <th>maxHeartRateInBeatsPerMinute</th>\n",
       "      <th>averageStressLevel</th>\n",
       "      <th>user_id</th>\n",
       "      <th>averageHeartRateInBeatsPerMinute</th>\n",
       "      <th>calendarDate</th>\n",
       "      <th>distanceInMeters</th>\n",
       "      <th>stressDurationInSeconds</th>\n",
       "      <th>...</th>\n",
       "      <th>steps</th>\n",
       "      <th>intensityDurationGoalInSeconds</th>\n",
       "      <th>floorsClimbedGoal</th>\n",
       "      <th>summaryId</th>\n",
       "      <th>mediumStressDurationInSeconds</th>\n",
       "      <th>activeTimeInSeconds</th>\n",
       "      <th>stressQualifier</th>\n",
       "      <th>startTimeInSeconds</th>\n",
       "      <th>stepsGoal</th>\n",
       "      <th>utc_date</th>\n",
       "    </tr>\n",
       "  </thead>\n",
       "  <tbody>\n",
       "    <tr>\n",
       "      <th>17268</th>\n",
       "      <td>1614924000</td>\n",
       "      <td>56</td>\n",
       "      <td>34</td>\n",
       "      <td>181</td>\n",
       "      <td>24</td>\n",
       "      <td>SWS_01</td>\n",
       "      <td>72</td>\n",
       "      <td>2021-03-05</td>\n",
       "      <td>14234.0</td>\n",
       "      <td>18900</td>\n",
       "      <td>...</td>\n",
       "      <td>15521</td>\n",
       "      <td>9000</td>\n",
       "      <td>10</td>\n",
       "      <td>x38a008e-6041bad0-f99c-6</td>\n",
       "      <td>8040</td>\n",
       "      <td>7088</td>\n",
       "      <td>balanced</td>\n",
       "      <td>1614920400</td>\n",
       "      <td>7480</td>\n",
       "      <td>2021-03-05 06:00:00+00:00</td>\n",
       "    </tr>\n",
       "    <tr>\n",
       "      <th>17269</th>\n",
       "      <td>1614924000</td>\n",
       "      <td>56</td>\n",
       "      <td>11</td>\n",
       "      <td>116</td>\n",
       "      <td>21</td>\n",
       "      <td>SWS_01</td>\n",
       "      <td>65</td>\n",
       "      <td>2021-03-05</td>\n",
       "      <td>3301.0</td>\n",
       "      <td>11580</td>\n",
       "      <td>...</td>\n",
       "      <td>4267</td>\n",
       "      <td>9000</td>\n",
       "      <td>10</td>\n",
       "      <td>x38a008e-6041bad0-c06c-6</td>\n",
       "      <td>5700</td>\n",
       "      <td>2960</td>\n",
       "      <td>unknown</td>\n",
       "      <td>1614920400</td>\n",
       "      <td>7480</td>\n",
       "      <td>2021-03-05 06:00:00+00:00</td>\n",
       "    </tr>\n",
       "    <tr>\n",
       "      <th>17270</th>\n",
       "      <td>1614924000</td>\n",
       "      <td>56</td>\n",
       "      <td>11</td>\n",
       "      <td>116</td>\n",
       "      <td>21</td>\n",
       "      <td>SWS_01</td>\n",
       "      <td>65</td>\n",
       "      <td>2021-03-05</td>\n",
       "      <td>3301.0</td>\n",
       "      <td>11580</td>\n",
       "      <td>...</td>\n",
       "      <td>4267</td>\n",
       "      <td>9000</td>\n",
       "      <td>10</td>\n",
       "      <td>x38a008e-6041bad0-c06c-6</td>\n",
       "      <td>5700</td>\n",
       "      <td>2960</td>\n",
       "      <td>unknown</td>\n",
       "      <td>1614920400</td>\n",
       "      <td>7480</td>\n",
       "      <td>2021-03-05 06:00:00+00:00</td>\n",
       "    </tr>\n",
       "    <tr>\n",
       "      <th>17271</th>\n",
       "      <td>1614924000</td>\n",
       "      <td>56</td>\n",
       "      <td>11</td>\n",
       "      <td>116</td>\n",
       "      <td>21</td>\n",
       "      <td>SWS_01</td>\n",
       "      <td>65</td>\n",
       "      <td>2021-03-05</td>\n",
       "      <td>3301.0</td>\n",
       "      <td>11520</td>\n",
       "      <td>...</td>\n",
       "      <td>4267</td>\n",
       "      <td>9000</td>\n",
       "      <td>10</td>\n",
       "      <td>x38a008e-6041bad0-c030-6</td>\n",
       "      <td>5640</td>\n",
       "      <td>2960</td>\n",
       "      <td>unknown</td>\n",
       "      <td>1614920400</td>\n",
       "      <td>7480</td>\n",
       "      <td>2021-03-05 06:00:00+00:00</td>\n",
       "    </tr>\n",
       "    <tr>\n",
       "      <th>17272</th>\n",
       "      <td>1614924000</td>\n",
       "      <td>56</td>\n",
       "      <td>35</td>\n",
       "      <td>181</td>\n",
       "      <td>28</td>\n",
       "      <td>SWS_01</td>\n",
       "      <td>74</td>\n",
       "      <td>2021-03-05</td>\n",
       "      <td>15196.0</td>\n",
       "      <td>27780</td>\n",
       "      <td>...</td>\n",
       "      <td>16765</td>\n",
       "      <td>9000</td>\n",
       "      <td>10</td>\n",
       "      <td>x38a008e-6041bad0-15180-6</td>\n",
       "      <td>12900</td>\n",
       "      <td>7884</td>\n",
       "      <td>balanced</td>\n",
       "      <td>1614920400</td>\n",
       "      <td>7480</td>\n",
       "      <td>2021-03-05 06:00:00+00:00</td>\n",
       "    </tr>\n",
       "  </tbody>\n",
       "</table>\n",
       "<p>5 rows × 34 columns</p>\n",
       "</div>"
      ],
      "text/plain": [
       "       utc_timestamp  heart_rate_tsvalue  floorsClimbed  \\\n",
       "17268     1614924000                  56             34   \n",
       "17269     1614924000                  56             11   \n",
       "17270     1614924000                  56             11   \n",
       "17271     1614924000                  56             11   \n",
       "17272     1614924000                  56             35   \n",
       "\n",
       "       maxHeartRateInBeatsPerMinute  averageStressLevel user_id  \\\n",
       "17268                           181                  24  SWS_01   \n",
       "17269                           116                  21  SWS_01   \n",
       "17270                           116                  21  SWS_01   \n",
       "17271                           116                  21  SWS_01   \n",
       "17272                           181                  28  SWS_01   \n",
       "\n",
       "       averageHeartRateInBeatsPerMinute calendarDate  distanceInMeters  \\\n",
       "17268                                72   2021-03-05           14234.0   \n",
       "17269                                65   2021-03-05            3301.0   \n",
       "17270                                65   2021-03-05            3301.0   \n",
       "17271                                65   2021-03-05            3301.0   \n",
       "17272                                74   2021-03-05           15196.0   \n",
       "\n",
       "       stressDurationInSeconds  ...  steps  intensityDurationGoalInSeconds  \\\n",
       "17268                    18900  ...  15521                            9000   \n",
       "17269                    11580  ...   4267                            9000   \n",
       "17270                    11580  ...   4267                            9000   \n",
       "17271                    11520  ...   4267                            9000   \n",
       "17272                    27780  ...  16765                            9000   \n",
       "\n",
       "       floorsClimbedGoal                  summaryId  \\\n",
       "17268                 10   x38a008e-6041bad0-f99c-6   \n",
       "17269                 10   x38a008e-6041bad0-c06c-6   \n",
       "17270                 10   x38a008e-6041bad0-c06c-6   \n",
       "17271                 10   x38a008e-6041bad0-c030-6   \n",
       "17272                 10  x38a008e-6041bad0-15180-6   \n",
       "\n",
       "      mediumStressDurationInSeconds  activeTimeInSeconds  stressQualifier  \\\n",
       "17268                          8040                 7088         balanced   \n",
       "17269                          5700                 2960          unknown   \n",
       "17270                          5700                 2960          unknown   \n",
       "17271                          5640                 2960          unknown   \n",
       "17272                         12900                 7884         balanced   \n",
       "\n",
       "       startTimeInSeconds  stepsGoal                   utc_date  \n",
       "17268          1614920400       7480  2021-03-05 06:00:00+00:00  \n",
       "17269          1614920400       7480  2021-03-05 06:00:00+00:00  \n",
       "17270          1614920400       7480  2021-03-05 06:00:00+00:00  \n",
       "17271          1614920400       7480  2021-03-05 06:00:00+00:00  \n",
       "17272          1614920400       7480  2021-03-05 06:00:00+00:00  \n",
       "\n",
       "[5 rows x 34 columns]"
      ]
     },
     "execution_count": 20,
     "metadata": {},
     "output_type": "execute_result"
    }
   ],
   "source": [
    "print(item['slice']['daily'].shape[0])\n",
    "item['slice']['daily'].head()"
   ]
  },
  {
   "cell_type": "code",
   "execution_count": 21,
   "id": "f8ed453d-b402-4e46-966a-8e31d4bb0071",
   "metadata": {
    "pycharm": {
     "name": "#%%\n"
    }
   },
   "outputs": [
    {
     "data": {
      "text/plain": [
       "17268    1614924000\n",
       "17269    1614924000\n",
       "17270    1614924000\n",
       "17271    1614924000\n",
       "17272    1614924000\n",
       "            ...    \n",
       "20143    1614927585\n",
       "20144    1614927585\n",
       "20145    1614927585\n",
       "20146    1614927585\n",
       "20147    1614927585\n",
       "Name: utc_timestamp, Length: 2880, dtype: int64"
      ]
     },
     "execution_count": 21,
     "metadata": {},
     "output_type": "execute_result"
    }
   ],
   "source": [
    "item['slice']['daily'].utc_timestamp"
   ]
  },
  {
   "cell_type": "markdown",
   "id": "b220bb92-d863-4ac3-94b2-da4b24012aee",
   "metadata": {
    "pycharm": {
     "name": "#%% md\n"
    }
   },
   "source": [
    "#### `respiration`"
   ]
  },
  {
   "cell_type": "code",
   "execution_count": 15,
   "id": "b93c4239-650f-4887-8ddf-19e551062e30",
   "metadata": {
    "pycharm": {
     "name": "#%%\n"
    }
   },
   "outputs": [
    {
     "data": {
      "text/html": [
       "<div>\n",
       "<style scoped>\n",
       "    .dataframe tbody tr th:only-of-type {\n",
       "        vertical-align: middle;\n",
       "    }\n",
       "\n",
       "    .dataframe tbody tr th {\n",
       "        vertical-align: top;\n",
       "    }\n",
       "\n",
       "    .dataframe thead th {\n",
       "        text-align: right;\n",
       "    }\n",
       "</style>\n",
       "<table border=\"1\" class=\"dataframe\">\n",
       "  <thead>\n",
       "    <tr style=\"text-align: right;\">\n",
       "      <th></th>\n",
       "      <th>utc_timestamp</th>\n",
       "      <th>epoch_to_breath_tsvalue</th>\n",
       "      <th>user_id</th>\n",
       "      <th>durationInSeconds</th>\n",
       "      <th>startTimeOffsetInSeconds</th>\n",
       "      <th>startTimeInSeconds</th>\n",
       "      <th>summaryId</th>\n",
       "      <th>utc_date</th>\n",
       "    </tr>\n",
       "  </thead>\n",
       "  <tbody>\n",
       "  </tbody>\n",
       "</table>\n",
       "</div>"
      ],
      "text/plain": [
       "Empty DataFrame\n",
       "Columns: [utc_timestamp, epoch_to_breath_tsvalue, user_id, durationInSeconds, startTimeOffsetInSeconds, startTimeInSeconds, summaryId, utc_date]\n",
       "Index: []"
      ]
     },
     "execution_count": 15,
     "metadata": {},
     "output_type": "execute_result"
    }
   ],
   "source": [
    "item['slice']['respiration'].head()"
   ]
  },
  {
   "cell_type": "markdown",
   "id": "6aa0188d-4acf-402a-a4e0-45033872e049",
   "metadata": {
    "pycharm": {
     "name": "#%% md\n"
    }
   },
   "source": [
    "#### `stress`"
   ]
  },
  {
   "cell_type": "code",
   "execution_count": 17,
   "id": "71ba939f-0d4f-4a76-84b8-0d996e942c3e",
   "metadata": {
    "pycharm": {
     "name": "#%%\n"
    }
   },
   "outputs": [
    {
     "data": {
      "text/html": [
       "<div>\n",
       "<style scoped>\n",
       "    .dataframe tbody tr th:only-of-type {\n",
       "        vertical-align: middle;\n",
       "    }\n",
       "\n",
       "    .dataframe tbody tr th {\n",
       "        vertical-align: top;\n",
       "    }\n",
       "\n",
       "    .dataframe thead th {\n",
       "        text-align: right;\n",
       "    }\n",
       "</style>\n",
       "<table border=\"1\" class=\"dataframe\">\n",
       "  <thead>\n",
       "    <tr style=\"text-align: right;\">\n",
       "      <th></th>\n",
       "      <th>utc_timestamp</th>\n",
       "      <th>stress_level_tsvalue</th>\n",
       "      <th>startTimeOffsetInSeconds</th>\n",
       "      <th>calendarDate</th>\n",
       "      <th>startTimeInSeconds</th>\n",
       "      <th>durationInSeconds</th>\n",
       "      <th>user_id</th>\n",
       "      <th>summaryId</th>\n",
       "      <th>utc_date</th>\n",
       "      <th>body_battery_tsvalue</th>\n",
       "    </tr>\n",
       "  </thead>\n",
       "  <tbody>\n",
       "    <tr>\n",
       "      <th>960</th>\n",
       "      <td>1614924000</td>\n",
       "      <td>13</td>\n",
       "      <td>-18000</td>\n",
       "      <td>2021-03-05</td>\n",
       "      <td>1614920400</td>\n",
       "      <td>30660</td>\n",
       "      <td>SWS_01</td>\n",
       "      <td>x38a008e-6041bad0-77c4</td>\n",
       "      <td>2021-03-05 06:00:00+00:00</td>\n",
       "      <td>100.0</td>\n",
       "    </tr>\n",
       "    <tr>\n",
       "      <th>961</th>\n",
       "      <td>1614924000</td>\n",
       "      <td>13</td>\n",
       "      <td>-18000</td>\n",
       "      <td>2021-03-05</td>\n",
       "      <td>1614920400</td>\n",
       "      <td>49200</td>\n",
       "      <td>SWS_01</td>\n",
       "      <td>x38a008e-6041bad0-c030</td>\n",
       "      <td>2021-03-05 06:00:00+00:00</td>\n",
       "      <td>100.0</td>\n",
       "    </tr>\n",
       "    <tr>\n",
       "      <th>962</th>\n",
       "      <td>1614924000</td>\n",
       "      <td>13</td>\n",
       "      <td>-18000</td>\n",
       "      <td>2021-03-05</td>\n",
       "      <td>1614920400</td>\n",
       "      <td>49680</td>\n",
       "      <td>SWS_01</td>\n",
       "      <td>x38a008e-6041bad0-c210</td>\n",
       "      <td>2021-03-05 06:00:00+00:00</td>\n",
       "      <td>100.0</td>\n",
       "    </tr>\n",
       "    <tr>\n",
       "      <th>963</th>\n",
       "      <td>1614924000</td>\n",
       "      <td>13</td>\n",
       "      <td>-18000</td>\n",
       "      <td>2021-03-05</td>\n",
       "      <td>1614920400</td>\n",
       "      <td>49260</td>\n",
       "      <td>SWS_01</td>\n",
       "      <td>x38a008e-6041bad0-c06c</td>\n",
       "      <td>2021-03-05 06:00:00+00:00</td>\n",
       "      <td>100.0</td>\n",
       "    </tr>\n",
       "    <tr>\n",
       "      <th>964</th>\n",
       "      <td>1614924000</td>\n",
       "      <td>13</td>\n",
       "      <td>-18000</td>\n",
       "      <td>2021-03-05</td>\n",
       "      <td>1614920400</td>\n",
       "      <td>78780</td>\n",
       "      <td>SWS_01</td>\n",
       "      <td>x38a008e-6041bad0-133bc</td>\n",
       "      <td>2021-03-05 06:00:00+00:00</td>\n",
       "      <td>100.0</td>\n",
       "    </tr>\n",
       "  </tbody>\n",
       "</table>\n",
       "</div>"
      ],
      "text/plain": [
       "     utc_timestamp  stress_level_tsvalue  startTimeOffsetInSeconds  \\\n",
       "960     1614924000                    13                    -18000   \n",
       "961     1614924000                    13                    -18000   \n",
       "962     1614924000                    13                    -18000   \n",
       "963     1614924000                    13                    -18000   \n",
       "964     1614924000                    13                    -18000   \n",
       "\n",
       "    calendarDate  startTimeInSeconds  durationInSeconds user_id  \\\n",
       "960   2021-03-05          1614920400              30660  SWS_01   \n",
       "961   2021-03-05          1614920400              49200  SWS_01   \n",
       "962   2021-03-05          1614920400              49680  SWS_01   \n",
       "963   2021-03-05          1614920400              49260  SWS_01   \n",
       "964   2021-03-05          1614920400              78780  SWS_01   \n",
       "\n",
       "                   summaryId                   utc_date  body_battery_tsvalue  \n",
       "960   x38a008e-6041bad0-77c4  2021-03-05 06:00:00+00:00                 100.0  \n",
       "961   x38a008e-6041bad0-c030  2021-03-05 06:00:00+00:00                 100.0  \n",
       "962   x38a008e-6041bad0-c210  2021-03-05 06:00:00+00:00                 100.0  \n",
       "963   x38a008e-6041bad0-c06c  2021-03-05 06:00:00+00:00                 100.0  \n",
       "964  x38a008e-6041bad0-133bc  2021-03-05 06:00:00+00:00                 100.0  "
      ]
     },
     "execution_count": 17,
     "metadata": {},
     "output_type": "execute_result"
    }
   ],
   "source": [
    "item['slice']['stress'].head()"
   ]
  },
  {
   "cell_type": "markdown",
   "id": "8e591b74-7927-4481-b88c-ecce5de8154d",
   "metadata": {
    "pycharm": {
     "name": "#%% md\n"
    }
   },
   "source": [
    "#### `pulseOx`"
   ]
  },
  {
   "cell_type": "code",
   "execution_count": 18,
   "id": "c5d76c82-c983-4761-9d87-1ea65b375db1",
   "metadata": {
    "pycharm": {
     "name": "#%%\n"
    }
   },
   "outputs": [
    {
     "data": {
      "text/html": [
       "<div>\n",
       "<style scoped>\n",
       "    .dataframe tbody tr th:only-of-type {\n",
       "        vertical-align: middle;\n",
       "    }\n",
       "\n",
       "    .dataframe tbody tr th {\n",
       "        vertical-align: top;\n",
       "    }\n",
       "\n",
       "    .dataframe thead th {\n",
       "        text-align: right;\n",
       "    }\n",
       "</style>\n",
       "<table border=\"1\" class=\"dataframe\">\n",
       "  <thead>\n",
       "    <tr style=\"text-align: right;\">\n",
       "      <th></th>\n",
       "      <th>utc_timestamp</th>\n",
       "      <th>spo2_tsvalue</th>\n",
       "      <th>summaryId</th>\n",
       "      <th>calendarDate</th>\n",
       "      <th>user_id</th>\n",
       "      <th>onDemand</th>\n",
       "      <th>startTimeOffsetInSeconds</th>\n",
       "      <th>durationInSeconds</th>\n",
       "      <th>startTimeInSeconds</th>\n",
       "      <th>utc_date</th>\n",
       "    </tr>\n",
       "  </thead>\n",
       "  <tbody>\n",
       "  </tbody>\n",
       "</table>\n",
       "</div>"
      ],
      "text/plain": [
       "Empty DataFrame\n",
       "Columns: [utc_timestamp, spo2_tsvalue, summaryId, calendarDate, user_id, onDemand, startTimeOffsetInSeconds, durationInSeconds, startTimeInSeconds, utc_date]\n",
       "Index: []"
      ]
     },
     "execution_count": 18,
     "metadata": {},
     "output_type": "execute_result"
    }
   ],
   "source": [
    "item['slice']['pulseOx'].head()"
   ]
  },
  {
   "cell_type": "code",
   "execution_count": null,
   "id": "dc3e69d9-0d46-43da-98cb-5e9d08b670a1",
   "metadata": {
    "pycharm": {
     "name": "#%%\n"
    }
   },
   "outputs": [],
   "source": [
    "dataloader = torch.utils.data.dataloader.DataLoader(dataset, shuffle=True, batch_size=50, collate_fn=single_slice_collate_fn)"
   ]
  },
  {
   "cell_type": "code",
   "execution_count": null,
   "id": "cc0386ad-de05-4898-a449-4b9be56ddc9e",
   "metadata": {
    "pycharm": {
     "name": "#%%\n"
    }
   },
   "outputs": [],
   "source": [
    "dl = iter(dataloader)\n",
    "b = next(dl)"
   ]
  },
  {
   "cell_type": "code",
   "execution_count": null,
   "id": "502f2bed-e001-4b3b-9be5-e74df1234151",
   "metadata": {
    "pycharm": {
     "name": "#%%\n"
    }
   },
   "outputs": [],
   "source": [
    "len(b['slice'])"
   ]
  },
  {
   "cell_type": "code",
   "execution_count": null,
   "id": "1f033a20-8478-42e8-8ca9-ad48a98a3d8e",
   "metadata": {
    "pycharm": {
     "name": "#%%\n"
    }
   },
   "outputs": [],
   "source": [
    "len(dataset.metadata)"
   ]
  },
  {
   "cell_type": "code",
   "execution_count": null,
   "id": "c0dd4c47-5093-445c-bb0e-1c4cb975b7e8",
   "metadata": {
    "pycharm": {
     "name": "#%%\n"
    }
   },
   "outputs": [],
   "source": [
    "dataset.datapoint_counts"
   ]
  },
  {
   "cell_type": "code",
   "execution_count": null,
   "id": "d0623fe2-10bc-44c6-8a06-bbe4378f5916",
   "metadata": {
    "pycharm": {
     "name": "#%%\n"
    }
   },
   "outputs": [],
   "source": [
    "numpy.mean([e['overall_stress_value'] for e in dataset.metadata])"
   ]
  },
  {
   "cell_type": "code",
   "execution_count": null,
   "id": "0a6d7cd9-f15d-4846-a426-5a41cf4757df",
   "metadata": {
    "pycharm": {
     "name": "#%%\n"
    }
   },
   "outputs": [],
   "source": [
    "numpy.quantile([e['overall_stress_value'] for e in dataset.metadata], q=0.89)"
   ]
  }
 ],
 "metadata": {
  "kernelspec": {
   "display_name": "Python 3 (ipykernel)",
   "language": "python",
   "name": "python3"
  },
  "language_info": {
   "codemirror_mode": {
    "name": "ipython",
    "version": 3
   },
   "file_extension": ".py",
   "mimetype": "text/x-python",
   "name": "python",
   "nbconvert_exporter": "python",
   "pygments_lexer": "ipython3",
   "version": "3.7.11"
  }
 },
 "nbformat": 4,
 "nbformat_minor": 5
}