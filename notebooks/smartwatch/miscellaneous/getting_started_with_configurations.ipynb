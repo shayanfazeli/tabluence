{
 "cells": [
  {
   "cell_type": "markdown",
   "id": "89bfeccc-3229-4a2b-9b82-5f68d9106cf6",
   "metadata": {},
   "source": [
    "# Configurations: Getting Started"
   ]
  },
  {
   "cell_type": "markdown",
   "id": "37ab6de7-a2cf-49f8-abca-b49fc120bcac",
   "metadata": {},
   "source": [
    "In `tabluence` framework, we follow `mmcv`'s configuration format stored in `.py` files."
   ]
  },
  {
   "cell_type": "code",
   "execution_count": 5,
   "id": "0ead698e-c5a0-44ee-b842-990cbd44ab42",
   "metadata": {},
   "outputs": [],
   "source": [
    "from mmcv import Config, DictAction\n",
    "cfg = Config.fromfile('/home/shayan/phoenix/tabluence/tabluence/configs/late_fused_separate_rnns/classification/two_bin/exp1.py')"
   ]
  },
  {
   "cell_type": "code",
   "execution_count": 6,
   "id": "d2a257a8-0e81-4e3a-b31c-d17716502240",
   "metadata": {},
   "outputs": [
    {
     "data": {
      "text/plain": [
       "{'data': {'interface': 'smartwatch_study_single_slice_dataloaders',\n",
       "  'args': {'batch_size': 50,\n",
       "   'data_manager_cache_filepath': '/home/shayan/phoenix/nowoe_framework/nowoe_framework/resources/smartwatch_study/dataset_cache/window_1hour_stride_1second-datamanger001.pkl.gz',\n",
       "   'root_dir': '/home/shayan/phoenix/nowoe_framework/nowoe_framework/resources/warrior_wellness/Analysis/local_repo/',\n",
       "   'subject_splits': {'train': ['SWS_01',\n",
       "     'SWS_02',\n",
       "     'SWS_03',\n",
       "     'SWS_04',\n",
       "     'SWS_05',\n",
       "     'SWS_06',\n",
       "     'SWS_07',\n",
       "     'SWS_08',\n",
       "     'SWS_09'],\n",
       "    'test': ['SWS_10', 'SWS_11', 'SWS_12', 'SWS_13', 'SWS_14']},\n",
       "   'dataset_config': {'slice_lengths': [3600],\n",
       "    'slice_time_step': 300,\n",
       "    'label_milestone_per_window': 1.0,\n",
       "    'metadata_cache_filepath': '/home/shayan/phoenix/nowoe_framework/nowoe_framework/resources/smartwatch_study/dataset_cache/window_1hour_stride_1second.pkl.gz',\n",
       "    'no_cache': False,\n",
       "    'parallel_threads': 10,\n",
       "    'overall_stress_quantization_bins': [0.0, 0.5, 10.0],\n",
       "    'specific_stress_quantization_bins': [0.0, 0.5, 10.0]},\n",
       "   'sampler_configs': {'train': {'negative_sample_count': 10000,\n",
       "     'positive_sample_count': 10000,\n",
       "     'target_variable': 'overall_quantized_stress_value',\n",
       "     'split_name': 'train'},\n",
       "    'test': {'negative_sample_count': 1000,\n",
       "     'positive_sample_count': 1000,\n",
       "     'target_variable': 'overall_quantized_stress_value',\n",
       "     'split_name': 'test'}}}},\n",
       " 'dataside_pipeline': {'type': 'StandardDataSidePipeline',\n",
       "  'args': {'module_configs': [{'type': 'MinMaxSingleSliceNormalization',\n",
       "     'lib': 'preprocessing',\n",
       "     'config': {'feature_names_per_data_source': {'daily': ['heart_rate_tsvalue',\n",
       "        'distanceInMeters',\n",
       "        'floorsClimbed',\n",
       "        'bmrKilocalories',\n",
       "        'durationInSeconds',\n",
       "        'activeTimeInSeconds',\n",
       "        'activityStressDurationInSeconds',\n",
       "        'minHeartRateInBeatsPerMinute',\n",
       "        'stressDurationInSeconds',\n",
       "        'highStressDurationInSeconds',\n",
       "        'maxStressLevel',\n",
       "        'averageHeartRateInBeatsPerMinute'],\n",
       "       'pulseOx': ['durationInSeconds', 'spo2_tsvalue'],\n",
       "       'respiration': ['durationInSeconds', 'epoch_to_breath_tsvalue'],\n",
       "       'stress': ['durationInSeconds', 'stress_level_tsvalue']}}}]}},\n",
       " 'tensorizer': {'type': 'CustomTensorizer',\n",
       "  'config': {'timestamp_column': 'utc_timestamp',\n",
       "   'value_config': {'daily': {'embed': {'columns': ['activityType'],\n",
       "      'embedding_dim': [8]},\n",
       "     'bring': ['durationInSeconds',\n",
       "      'heart_rate_tsvalue',\n",
       "      'distanceInMeters',\n",
       "      'floorsClimbed',\n",
       "      'bmrKilocalories',\n",
       "      'activeTimeInSeconds',\n",
       "      'activityStressDurationInSeconds',\n",
       "      'minHeartRateInBeatsPerMinute',\n",
       "      'stressDurationInSeconds',\n",
       "      'highStressDurationInSeconds',\n",
       "      'maxStressLevel',\n",
       "      'averageHeartRateInBeatsPerMinute']},\n",
       "    'pulseOx': {'bring': ['durationInSeconds', 'spo2_tsvalue']},\n",
       "    'respiration': {'bring': ['durationInSeconds', 'epoch_to_breath_tsvalue']},\n",
       "    'stress': {'bring': ['durationInSeconds', 'stress_level_tsvalue']}}}},\n",
       " 'model': {'type': 'LateFusedSeparateRNNSliceModel',\n",
       "  'config': {'branches': {'daily': {'rnn_model': 'LSTM',\n",
       "     'rnn_args': {'input_size': 20,\n",
       "      'hidden_size': 64,\n",
       "      'bidirectional': True,\n",
       "      'batch_first': True,\n",
       "      'bias': False,\n",
       "      'dropout': 0.5},\n",
       "     'project_args': {'input_dim': 128, 'projection_dim': 32}},\n",
       "    'respiration': {'rnn_model': 'LSTM',\n",
       "     'rnn_args': {'input_size': 2,\n",
       "      'hidden_size': 8,\n",
       "      'bidirectional': True,\n",
       "      'batch_first': True,\n",
       "      'bias': False,\n",
       "      'dropout': 0.2},\n",
       "     'project_args': {'input_dim': 16, 'projection_dim': 4}},\n",
       "    'pulseOx': {'rnn_model': 'LSTM',\n",
       "     'rnn_args': {'input_size': 2,\n",
       "      'hidden_size': 8,\n",
       "      'bidirectional': True,\n",
       "      'batch_first': True,\n",
       "      'bias': False,\n",
       "      'dropout': 0.2},\n",
       "     'project_args': {'input_dim': 16, 'projection_dim': 4}},\n",
       "    'stress': {'rnn_model': 'LSTM',\n",
       "     'rnn_args': {'input_size': 2,\n",
       "      'hidden_size': 8,\n",
       "      'bidirectional': True,\n",
       "      'batch_first': True,\n",
       "      'bias': False,\n",
       "      'dropout': 0.2},\n",
       "     'project_args': {'input_dim': 16, 'projection_dim': 4}}},\n",
       "   'aggregation': {'method': 'concatenate',\n",
       "    'project_args': {'input_dim': 44, 'projection_dim': 50}},\n",
       "   'task': {'target_in_meta': 'overall_quantized_stress_value',\n",
       "    'type': 'classification',\n",
       "    'loss_class': 'CrossEntropyLoss',\n",
       "    'loss_args': {}}}},\n",
       " 'trainer': {'type': 'StandardTrainer',\n",
       "  'config': {'optimizer': {'type': 'Adam',\n",
       "    'args': {'lr': 0.0001, 'weight_decay': 0.0001}},\n",
       "   'max_epochs': 100,\n",
       "   'checkpointing': {'checkpointing_interval': 5,\n",
       "    'repo': '/home/shayan/warehouse/nowoe_framework/late_fused_separate_rnns/classification/two_bin/exp1/'}}}}"
      ]
     },
     "execution_count": 6,
     "metadata": {},
     "output_type": "execute_result"
    }
   ],
   "source": [
    "dict(cfg)"
   ]
  }
 ],
 "metadata": {
  "kernelspec": {
   "display_name": "Python 3 (ipykernel)",
   "language": "python",
   "name": "python3"
  },
  "language_info": {
   "codemirror_mode": {
    "name": "ipython",
    "version": 3
   },
   "file_extension": ".py",
   "mimetype": "text/x-python",
   "name": "python",
   "nbconvert_exporter": "python",
   "pygments_lexer": "ipython3",
   "version": "3.7.11"
  }
 },
 "nbformat": 4,
 "nbformat_minor": 5
}
