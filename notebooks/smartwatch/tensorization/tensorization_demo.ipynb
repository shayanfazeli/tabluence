{
 "cells": [
  {
   "cell_type": "code",
   "execution_count": 1,
   "id": "36db9d44-51ac-44e4-aa71-00141a22a47a",
   "metadata": {},
   "outputs": [],
   "source": [
    "import os\n",
    "import sys\n",
    "sys.path.append(os.path.abspath('../..'))\n",
    "from nowoe.data.api.smartwatch.utilities.preparations import *\n",
    "import pandas\n",
    "import plotly_express as px\n",
    "import numpy\n",
    "import json\n",
    "import pickle\n",
    "import gzip\n",
    "import matplotlib.pyplot as plt\n",
    "from copy import deepcopy\n",
    "from functools import reduce\n",
    "from tqdm import tqdm\n",
    "from datetime import datetime, timezone\n",
    "from typing import Dict, List, Tuple, Union, Any, Iterator\n",
    "import torch.utils.data.dataloader\n",
    "from nowoe.data.api.smartwatch.utilities.timestamp import get_utc_date_from_utc_timestamp\n",
    "from nowoe.data.api.smartwatch.data_manager.module import SmartwatchDataManager\n",
    "from nowoe.deep_learning.data.dataset.smartwatch_study.single_slice import get_dataloaders, SmartwatchStudySingleSliceDataset, single_slice_collate_fn\n",
    "from nowoe.deep_learning.data.preprocessing.single_slice.normalization import MinMaxSingleSliceNormalization\n",
    "from nowoe.deep_learning.data.tensorizer.single_slice import CustomTensorizer"
   ]
  },
  {
   "cell_type": "code",
   "execution_count": 2,
   "id": "7d692009-4e40-4f5d-98f6-885d03e8b053",
   "metadata": {},
   "outputs": [
    {
     "name": "stderr",
     "output_type": "stream",
     "text": [
      "2022-02-25 10:40:09,114 - nowoe.deep_learning.data.dataset.smartwatch_study.single_slice.interface - INFO - initializing data manager...\n",
      "2022-02-25 10:40:51,729 - nowoe.deep_learning.data.dataset.smartwatch_study.single_slice.interface - INFO - preparing the dataset...\n",
      "2022-02-25 10:40:52,028 - nowoe.deep_learning.data.dataset.smartwatch_study.single_slice.dataset - INFO - Loaded metadata from cache file: /home/shayan/phoenix/nowoe_framework/nowoe_framework/notebooks/smartwatch/dataset_cache/dataset-cache-2.pkl.gz\n",
      "2022-02-25 10:40:52,029 - nowoe.deep_learning.data.dataset.smartwatch_study.single_slice.interface - INFO - preparing samplers...\n",
      "2022-02-25 10:40:52,101 - nowoe.deep_learning.data.dataset.smartwatch_study.single_slice.sampler - WARNING - no samples for label 3.5999999999999996 was found in the split: train\n"
     ]
    }
   ],
   "source": [
    "dataloaders = get_dataloaders(\n",
    "    batch_size=50,\n",
    "    root_dir='../../resources/warrior_wellness/Analysis/local_repo/',\n",
    "    subject_splits={\n",
    "        \"train\": [f'SWS_{i:02d}' for i in range(0,4)],\n",
    "        \"test\": [f'SWS_{i:02d}' for i in range(4,5)]},\n",
    "    dataset_config={\n",
    "        'slice_lengths': [3600],\n",
    "        'slice_time_step': (5 * 60),\n",
    "        'label_milestone_per_window': 1.0,\n",
    "        'metadata_cache_filepath': './dataset_cache/dataset-cache-2.pkl.gz',\n",
    "        'no_cache': False,\n",
    "        'parallel_threads': 10\n",
    "    },\n",
    "    sampler_configs=dict(\n",
    "       train=dict(\n",
    "           negative_sample_count=100,\n",
    "            positive_sample_count=50,\n",
    "            target_variable='overall_quantized_stress_value',\n",
    "           split_name=\"train\"\n",
    "       ),\n",
    "       test=dict(\n",
    "               negative_sample_count=100,\n",
    "            positive_sample_count=50,\n",
    "            target_variable='overall_quantized_stress_value',\n",
    "           split_name=\"test\"\n",
    "       )\n",
    "        )\n",
    ")"
   ]
  },
  {
   "cell_type": "code",
   "execution_count": 3,
   "id": "9c7090a0-41fe-4c88-b985-c7bbae0d6da0",
   "metadata": {},
   "outputs": [],
   "source": [
    "config=dict(\n",
    "            timestamp_column='utc_timestamp',\n",
    "           value_config=dict(\n",
    "               daily=dict(\n",
    "                    embed=dict(\n",
    "                        columns=['heart_rate_tsvalue'],\n",
    "                        embedding_dim=[10],\n",
    "                    ),\n",
    "                    bring=['heart_rate_tsvalue']\n",
    "               )\n",
    "           )\n",
    "       )\n",
    "tensorizer = CustomTensorizer(\n",
    "       config=config\n",
    ")"
   ]
  },
  {
   "cell_type": "code",
   "execution_count": 4,
   "id": "2aaf4a45-ced8-43f3-819d-7c94973a343c",
   "metadata": {},
   "outputs": [
    {
     "name": "stderr",
     "output_type": "stream",
     "text": [
      "100%|███████████████████████████████████████████| 15/15 [00:05<00:00,  2.81it/s]\n"
     ]
    }
   ],
   "source": [
    "tensorizer.learn(dataloaders['train'])"
   ]
  },
  {
   "cell_type": "code",
   "execution_count": 5,
   "id": "a6b8a649-6f60-4fec-9b67-a7727b923c0b",
   "metadata": {},
   "outputs": [],
   "source": [
    "tensorizer.build_embeddings()"
   ]
  },
  {
   "cell_type": "code",
   "execution_count": 6,
   "id": "6ee748d2-b206-48b1-af96-e91ad47e49d4",
   "metadata": {},
   "outputs": [],
   "source": [
    "my_iter = iter(dataloaders['test'])"
   ]
  },
  {
   "cell_type": "code",
   "execution_count": 7,
   "id": "19573deb-5647-4996-9a99-4e4a01c2b3c4",
   "metadata": {},
   "outputs": [],
   "source": [
    "batch = next(my_iter)"
   ]
  },
  {
   "cell_type": "code",
   "execution_count": 8,
   "id": "f7e58b28-fd4c-4282-9210-51b59fba3fab",
   "metadata": {},
   "outputs": [],
   "source": [
    "tensorized_batch = tensorizer(batch)"
   ]
  },
  {
   "cell_type": "code",
   "execution_count": 9,
   "id": "d0454074-d551-42bd-8c2d-fd1ebeef7aeb",
   "metadata": {},
   "outputs": [
    {
     "data": {
      "text/plain": [
       "(240, 34)"
      ]
     },
     "execution_count": 9,
     "metadata": {},
     "output_type": "execute_result"
    }
   ],
   "source": [
    "batch['slice'][0]['daily'].shape"
   ]
  },
  {
   "cell_type": "code",
   "execution_count": 10,
   "id": "418ad5c9-7235-4ad0-987a-a3a50cc25076",
   "metadata": {},
   "outputs": [
    {
     "data": {
      "text/plain": [
       "torch.Size([240, 10])"
      ]
     },
     "execution_count": 10,
     "metadata": {},
     "output_type": "execute_result"
    }
   ],
   "source": [
    "tensorized_batch['slice'][0]['daily'].shape"
   ]
  }
 ],
 "metadata": {
  "kernelspec": {
   "display_name": "Python 3 (ipykernel)",
   "language": "python",
   "name": "python3"
  },
  "language_info": {
   "codemirror_mode": {
    "name": "ipython",
    "version": 3
   },
   "file_extension": ".py",
   "mimetype": "text/x-python",
   "name": "python",
   "nbconvert_exporter": "python",
   "pygments_lexer": "ipython3",
   "version": "3.7.11"
  }
 },
 "nbformat": 4,
 "nbformat_minor": 5
}
