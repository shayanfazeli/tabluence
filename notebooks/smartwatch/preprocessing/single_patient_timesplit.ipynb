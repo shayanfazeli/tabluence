{
 "cells": [
  {
   "cell_type": "markdown",
   "id": "f51e50e6-5e48-4c95-ae9f-ea2566b8c97d",
   "metadata": {},
   "source": [
    "# Single Patient Timesplit: figuring out what to do"
   ]
  },
  {
   "cell_type": "code",
   "execution_count": 2,
   "id": "381cfe1a-bf55-4a34-932e-6242558e40a3",
   "metadata": {},
   "outputs": [],
   "source": [
    "import os\n",
    "import sys\n",
    "sys.path.append(os.path.abspath('../..'))\n",
    "# from tabluence.data.api.smartwatch.utilities.preparations import *\n",
    "import pandas\n",
    "import plotly_express as px\n",
    "import numpy\n",
    "import json\n",
    "import pickle\n",
    "import gzip\n",
    "import matplotlib.pyplot as plt\n",
    "from copy import deepcopy\n",
    "from functools import reduce\n",
    "from tqdm import tqdm\n",
    "from datetime import datetime, timezone\n",
    "from typing import Dict, List, Tuple, Union, Any, Iterator\n",
    "import torch.utils.data.dataloader\n",
    "from tabluence.data.api.smartwatch.utilities.timestamp import get_utc_date_from_utc_timestamp\n",
    "from tabluence.data.api.smartwatch.data_manager.module import SmartwatchDataManager\n",
    "from tabluence.deep_learning.data.dataset.smartwatch_study.single_slice import get_dataloaders, SmartwatchStudySingleSliceDataset, single_slice_collate_fn\n",
    "from tabluence.deep_learning.data.pipeline.fusion.single_slice import SliceToSliceFusion"
   ]
  },
  {
   "cell_type": "markdown",
   "id": "cbf9a8ed-3b30-4653-9102-22f5bbfc13d1",
   "metadata": {},
   "source": [
    "Building the dataloaders"
   ]
  },
  {
   "cell_type": "code",
   "execution_count": 3,
   "id": "deaf77f6-caed-424d-87a7-1b926b667de8",
   "metadata": {},
   "outputs": [
    {
     "name": "stderr",
     "output_type": "stream",
     "text": [
      "2022-08-01 17:21:38,372 - tabluence.deep_learning.data.dataset.smartwatch_study.single_slice.interface - INFO - initializing data manager...\n",
      "2022-08-01 17:21:40,238 - tabluence.deep_learning.data.dataset.smartwatch_study.single_slice.interface - INFO - preparing the dataset...\n",
      "2022-08-01 17:21:44,704 - tabluence.deep_learning.data.dataset.smartwatch_study.single_slice.dataset - INFO - \n",
      "\t~> processing the metadata for building quantization based label layout\n",
      "100%|██████████████████████████████| 1036509/1036509 [01:06<00:00, 15674.98it/s]\n",
      "2022-08-01 17:22:50,832 - tabluence.deep_learning.data.dataset.smartwatch_study.single_slice.dataset - INFO - \n",
      "\t\t~> label layout for general_quantized_stress_value stress category: [0.0, 0.5]\n",
      "2022-08-01 17:22:50,832 - tabluence.deep_learning.data.dataset.smartwatch_study.single_slice.dataset - INFO - \n",
      "\t\t~> label layout for induced_quantized_stress_value stress category: [0.0, 0.5]\n",
      "2022-08-01 17:22:50,833 - tabluence.deep_learning.data.dataset.smartwatch_study.single_slice.dataset - INFO - \n",
      "\t\t~> label layout for interpersonal_quantized_stress_value stress category: [0.0, 0.5]\n",
      "2022-08-01 17:22:50,833 - tabluence.deep_learning.data.dataset.smartwatch_study.single_slice.dataset - INFO - \n",
      "\t\t~> label layout for overall_quantized_stress_value stress category: [0.0, 0.5]\n",
      "2022-08-01 17:22:50,833 - tabluence.deep_learning.data.dataset.smartwatch_study.single_slice.dataset - INFO - ~> loaded / processed metadata from cache file: /home/shayan/phoenix/tabluence/tabluence/resources/smartwatch_study/dataset_cache/window_1hour_stride_1second.pkl.gz\n",
      "2022-08-01 17:22:50,834 - tabluence.deep_learning.data.dataset.smartwatch_study.single_slice.interface - INFO - preparing samplers...\n"
     ]
    }
   ],
   "source": [
    "dataloaders = get_dataloaders(\n",
    "    batch_size=50,\n",
    "    root_dir='../../resources/warrior_wellness/Analysis/local_repo/',\n",
    "    data_manager_cache_filepath='../../resources/smartwatch_study/dataset_cache/window_1hour_stride_1second-datamanger001.pkl.gz',\n",
    "    subject_splits={\n",
    "        \"train\": [f'SWS_{i:02d}' for i in range(0,10)],\n",
    "        \"test\": [f'SWS_{i:02d}' for i in range(10,15)]},\n",
    "    dataset_config={\n",
    "        'slice_lengths': [3600],\n",
    "        'slice_time_step': 1,\n",
    "        'label_milestone_per_window': 1.0,\n",
    "        'metadata_cache_filepath': '../../resources/smartwatch_study/dataset_cache/window_1hour_stride_1second.pkl.gz',\n",
    "        'no_cache': False,\n",
    "        'parallel_threads': 10,\n",
    "        'specific_stress_quantization_bins': [0.0, 0.5, 10.0],\n",
    "        'overall_stress_quantization_bins': [0.0, 0.5, 10.0]\n",
    "    },\n",
    "    sampler_configs=dict(\n",
    "       train=dict(\n",
    "           negative_sample_count=1000,\n",
    "            positive_sample_count=500,\n",
    "            target_variable='overall_quantized_stress_value',\n",
    "           split_name=\"train\"\n",
    "       ),\n",
    "       test=dict(\n",
    "               negative_sample_count=200,\n",
    "            positive_sample_count=100,\n",
    "            target_variable='overall_quantized_stress_value',\n",
    "           split_name=\"test\"\n",
    "       )\n",
    "        )\n",
    ")"
   ]
  },
  {
   "cell_type": "markdown",
   "id": "294f523e-a74f-40f6-87ee-48c2a63014c9",
   "metadata": {},
   "source": [
    "Getting access to the data manager object:"
   ]
  },
  {
   "cell_type": "code",
   "execution_count": 4,
   "id": "4163f079-2433-42bb-a0ed-f8e637e95daf",
   "metadata": {},
   "outputs": [],
   "source": [
    "data_manager = dataloaders['train'].dataset.data_manager"
   ]
  },
  {
   "cell_type": "markdown",
   "id": "29d2d58a-7450-45a4-ac2a-02099acef887",
   "metadata": {},
   "source": [
    "Now for one of the subjects, we get the time-range for which we have data:"
   ]
  },
  {
   "cell_type": "code",
   "execution_count": 5,
   "id": "e74be3ce-da9b-4bcb-9bb1-d136371b9519",
   "metadata": {},
   "outputs": [],
   "source": [
    "[t_start, t_end] = data_manager.get_utc_timestamp_range_for_subject('SWS_13')"
   ]
  },
  {
   "cell_type": "markdown",
   "id": "cefbed43-1a17-4ec1-9774-b0bdce40c85d",
   "metadata": {},
   "source": [
    "This timeline for this subject will be split in an 80-20 ratio:"
   ]
  },
  {
   "cell_type": "code",
   "execution_count": 6,
   "id": "4a785bf8-126a-403f-8cfb-2ee04d385171",
   "metadata": {},
   "outputs": [],
   "source": [
    "train_window = (t_start, t_start + 0.8 * (t_end - t_start))\n",
    "test_window = (0.8 * (t_end - t_start), t_end)"
   ]
  },
  {
   "cell_type": "code",
   "execution_count": 9,
   "id": "5bb5cd96-a84a-48c0-8d47-be8eb383ed56",
   "metadata": {},
   "outputs": [],
   "source": [
    "number_of_windows = dict(train=0, test=0)"
   ]
  },
  {
   "cell_type": "markdown",
   "id": "50931566-f7b0-4f66-9244-5d5b0d1bca48",
   "metadata": {},
   "source": [
    "We can see an example batch metadata using the following code:"
   ]
  },
  {
   "cell_type": "code",
   "execution_count": 10,
   "id": "b8f3dede-ae48-4924-8fd5-8078918e1252",
   "metadata": {},
   "outputs": [],
   "source": [
    "for meta in dataloaders['train'].dataset.metadata:\n",
    "    break"
   ]
  },
  {
   "cell_type": "code",
   "execution_count": 11,
   "id": "af1e86d9-3230-4225-bb59-69bf987b07b5",
   "metadata": {},
   "outputs": [
    {
     "data": {
      "text/plain": [
       "{'subject_id': 'SWS_01',\n",
       " 'utc_timestamp_window': (1614924000.0, 1614927600.0),\n",
       " 'overall_stress_value': 0.0,\n",
       " 'general_stress_value': 0.0,\n",
       " 'interpersonal_stress_value': 0.0,\n",
       " 'utc_timestamp_for_stress_query': 1614927600.0,\n",
       " 'induced_stress_value': 0.0,\n",
       " 'general_quantized_stress_value': 0.0,\n",
       " 'induced_quantized_stress_value': 0.0,\n",
       " 'interpersonal_quantized_stress_value': 0.0,\n",
       " 'overall_quantized_stress_value': 0.0}"
      ]
     },
     "execution_count": 11,
     "metadata": {},
     "output_type": "execute_result"
    }
   ],
   "source": [
    "meta"
   ]
  },
  {
   "cell_type": "code",
   "execution_count": 12,
   "id": "65e79c89-868e-4a67-a710-c60934d5b272",
   "metadata": {},
   "outputs": [
    {
     "data": {
      "text/plain": [
       "1036509"
      ]
     },
     "execution_count": 12,
     "metadata": {},
     "output_type": "execute_result"
    }
   ],
   "source": [
    "len(dataloaders['train'].dataset.metadata)"
   ]
  },
  {
   "cell_type": "markdown",
   "id": "85c54802-0058-45b7-8280-a45b12e59a5f",
   "metadata": {},
   "source": [
    "The following function is the core idea of considering overlap between to intervals. The idea is that we do not want windows that overlap between test duration and train time span."
   ]
  },
  {
   "cell_type": "code",
   "execution_count": 13,
   "id": "abc69906-e353-4061-8fe9-856278cea147",
   "metadata": {},
   "outputs": [],
   "source": [
    "def get_overlap(x1, x2):\n",
    "    if x1[1] <= x2[0] or x2[1] <= x1[0]:\n",
    "        return 0\n",
    "    intersection = min(x2[1], x1[1]) - max(x2[0], x1[0])\n",
    "    total = max(x2[1], x1[1]) - min(x2[0], x1[0])\n",
    "    \n",
    "    return intersection"
   ]
  },
  {
   "cell_type": "markdown",
   "id": "6b613320-ff01-4bbc-99b1-b43ea2bb2429",
   "metadata": {},
   "source": [
    "Here is an example:"
   ]
  },
  {
   "cell_type": "code",
   "execution_count": 14,
   "id": "a66d5e35-dbdd-41c8-bd92-fde8ef541f4b",
   "metadata": {},
   "outputs": [
    {
     "data": {
      "text/plain": [
       "5"
      ]
     },
     "execution_count": 14,
     "metadata": {},
     "output_type": "execute_result"
    }
   ],
   "source": [
    "get_overlap((1, 10), (5, 12))"
   ]
  },
  {
   "cell_type": "markdown",
   "id": "e1c21d51-ee13-44d6-ae53-5918c4915848",
   "metadata": {},
   "source": [
    "Thus, we are interested ONLY in windows that fall \"entirely\" in their corresponding segments:"
   ]
  },
  {
   "cell_type": "code",
   "execution_count": 15,
   "id": "90971de3-53de-465b-a729-08ffe60ffd00",
   "metadata": {},
   "outputs": [],
   "source": [
    "output = dict()\n",
    "\n",
    "for subject_id in [f'SWS_{e:02d}' for e in range(1, 15) if not e == 10]:\n",
    "    output[subject_id] = dict(train=[], test=[])\n",
    "    t_start, t_end = data_manager.get_utc_timestamp_range_for_subject(subject_id)\n",
    "    train_window = (t_start, t_start + 0.8 * (t_end - t_start))\n",
    "    for meta in dataloaders['train'].dataset.metadata:\n",
    "        if meta['subject_id'] == subject_id:\n",
    "            intersection = get_overlap(meta['utc_timestamp_window'], train_window)\n",
    "            if (intersection / (float(meta['utc_timestamp_window'][1] - meta['utc_timestamp_window'][0]))) == 1.0:\n",
    "                output[subject_id]['train'].append(meta)\n",
    "            elif (intersection / (float(meta['utc_timestamp_window'][1] - meta['utc_timestamp_window'][0]))) == 0.0:\n",
    "                output[subject_id]['test'].append(meta)\n",
    "            else:\n",
    "                pass"
   ]
  },
  {
   "cell_type": "markdown",
   "id": "093f3a9f-2240-4cfc-83ae-8b9c1a1d1172",
   "metadata": {},
   "source": [
    "Let's check the number:"
   ]
  },
  {
   "cell_type": "code",
   "execution_count": 16,
   "id": "baa2ad20-d18e-4e3a-af4a-da7bb7eaaf09",
   "metadata": {},
   "outputs": [
    {
     "data": {
      "text/plain": [
       "34725"
      ]
     },
     "execution_count": 16,
     "metadata": {},
     "output_type": "execute_result"
    }
   ],
   "source": [
    "len(output['SWS_02']['train'])"
   ]
  },
  {
   "cell_type": "code",
   "execution_count": 17,
   "id": "2fe89f25-8e64-4ba3-bdc5-67e96f35b03f",
   "metadata": {},
   "outputs": [],
   "source": [
    "for batch in dataloaders['train']:\n",
    "    break"
   ]
  },
  {
   "cell_type": "markdown",
   "id": "0a3bb5da-5b0e-4309-a90a-6233d2195045",
   "metadata": {},
   "source": [
    "We can also look at a single batch slice, as it has information on the following data sources:"
   ]
  },
  {
   "cell_type": "code",
   "execution_count": 18,
   "id": "37b13b5d-bab5-4521-85bb-8e60882b5e8d",
   "metadata": {},
   "outputs": [
    {
     "data": {
      "text/plain": [
       "dict_keys(['daily', 'respiration', 'stress', 'pulseOx'])"
      ]
     },
     "execution_count": 18,
     "metadata": {},
     "output_type": "execute_result"
    }
   ],
   "source": [
    "batch['slice'][0].keys()"
   ]
  },
  {
   "cell_type": "markdown",
   "id": "a10c0e03-a894-4ed9-94cf-cae323a1b47b",
   "metadata": {},
   "source": [
    "We can take a look at the subjects in each partition:"
   ]
  },
  {
   "cell_type": "code",
   "execution_count": 19,
   "id": "e2b39876-a526-417f-8ed4-229289b02a3d",
   "metadata": {},
   "outputs": [
    {
     "name": "stderr",
     "output_type": "stream",
     "text": [
      "100%|███████████████████████████████████████████| 30/30 [00:09<00:00,  3.30it/s]\n"
     ]
    }
   ],
   "source": [
    "train_subject_ids = set()\n",
    "for batch in tqdm(dataloaders['train']):\n",
    "    train_subject_ids = train_subject_ids.union(set(\n",
    "        [e['subject_id'] for e in batch['meta']]))"
   ]
  },
  {
   "cell_type": "code",
   "execution_count": 20,
   "id": "2281174a-7651-4c74-b979-7dde5520a237",
   "metadata": {},
   "outputs": [
    {
     "data": {
      "text/plain": [
       "{'SWS_01',\n",
       " 'SWS_02',\n",
       " 'SWS_03',\n",
       " 'SWS_04',\n",
       " 'SWS_05',\n",
       " 'SWS_06',\n",
       " 'SWS_07',\n",
       " 'SWS_08',\n",
       " 'SWS_09'}"
      ]
     },
     "execution_count": 20,
     "metadata": {},
     "output_type": "execute_result"
    }
   ],
   "source": [
    "train_subject_ids"
   ]
  },
  {
   "cell_type": "markdown",
   "id": "b56cfb92-bee2-4571-8ee7-a1e81e954a0f",
   "metadata": {},
   "source": [
    "Example data source information:"
   ]
  },
  {
   "cell_type": "code",
   "execution_count": 21,
   "id": "69f1ff72-f457-4868-a94f-1d2eacfeadd2",
   "metadata": {},
   "outputs": [
    {
     "data": {
      "text/html": [
       "<div>\n",
       "<style scoped>\n",
       "    .dataframe tbody tr th:only-of-type {\n",
       "        vertical-align: middle;\n",
       "    }\n",
       "\n",
       "    .dataframe tbody tr th {\n",
       "        vertical-align: top;\n",
       "    }\n",
       "\n",
       "    .dataframe thead th {\n",
       "        text-align: right;\n",
       "    }\n",
       "</style>\n",
       "<table border=\"1\" class=\"dataframe\">\n",
       "  <thead>\n",
       "    <tr style=\"text-align: right;\">\n",
       "      <th></th>\n",
       "      <th>utc_timestamp</th>\n",
       "      <th>stress_level_tsvalue</th>\n",
       "      <th>durationInSeconds</th>\n",
       "      <th>user_id</th>\n",
       "      <th>startTimeInSeconds</th>\n",
       "      <th>summaryId</th>\n",
       "      <th>startTimeOffsetInSeconds</th>\n",
       "      <th>calendarDate</th>\n",
       "      <th>utc_date</th>\n",
       "      <th>body_battery_tsvalue</th>\n",
       "    </tr>\n",
       "  </thead>\n",
       "  <tbody>\n",
       "    <tr>\n",
       "      <th>5600</th>\n",
       "      <td>1620404280</td>\n",
       "      <td>-1</td>\n",
       "      <td>60540</td>\n",
       "      <td>SWS_05</td>\n",
       "      <td>1620370800</td>\n",
       "      <td>x3a513ce-6094e570-ec7c</td>\n",
       "      <td>-25200</td>\n",
       "      <td>2021-05-07</td>\n",
       "      <td>2021-05-07 16:18:00+00:00</td>\n",
       "      <td>54.0</td>\n",
       "    </tr>\n",
       "    <tr>\n",
       "      <th>5601</th>\n",
       "      <td>1620404460</td>\n",
       "      <td>-1</td>\n",
       "      <td>60540</td>\n",
       "      <td>SWS_05</td>\n",
       "      <td>1620370800</td>\n",
       "      <td>x3a513ce-6094e570-ec7c</td>\n",
       "      <td>-25200</td>\n",
       "      <td>2021-05-07</td>\n",
       "      <td>2021-05-07 16:21:00+00:00</td>\n",
       "      <td>54.0</td>\n",
       "    </tr>\n",
       "    <tr>\n",
       "      <th>5602</th>\n",
       "      <td>1620404640</td>\n",
       "      <td>-1</td>\n",
       "      <td>60540</td>\n",
       "      <td>SWS_05</td>\n",
       "      <td>1620370800</td>\n",
       "      <td>x3a513ce-6094e570-ec7c</td>\n",
       "      <td>-25200</td>\n",
       "      <td>2021-05-07</td>\n",
       "      <td>2021-05-07 16:24:00+00:00</td>\n",
       "      <td>54.0</td>\n",
       "    </tr>\n",
       "    <tr>\n",
       "      <th>5603</th>\n",
       "      <td>1620404820</td>\n",
       "      <td>-2</td>\n",
       "      <td>60540</td>\n",
       "      <td>SWS_05</td>\n",
       "      <td>1620370800</td>\n",
       "      <td>x3a513ce-6094e570-ec7c</td>\n",
       "      <td>-25200</td>\n",
       "      <td>2021-05-07</td>\n",
       "      <td>2021-05-07 16:27:00+00:00</td>\n",
       "      <td>54.0</td>\n",
       "    </tr>\n",
       "    <tr>\n",
       "      <th>5604</th>\n",
       "      <td>1620405000</td>\n",
       "      <td>-2</td>\n",
       "      <td>60540</td>\n",
       "      <td>SWS_05</td>\n",
       "      <td>1620370800</td>\n",
       "      <td>x3a513ce-6094e570-ec7c</td>\n",
       "      <td>-25200</td>\n",
       "      <td>2021-05-07</td>\n",
       "      <td>2021-05-07 16:30:00+00:00</td>\n",
       "      <td>54.0</td>\n",
       "    </tr>\n",
       "  </tbody>\n",
       "</table>\n",
       "</div>"
      ],
      "text/plain": [
       "      utc_timestamp  stress_level_tsvalue  durationInSeconds user_id  \\\n",
       "5600     1620404280                    -1              60540  SWS_05   \n",
       "5601     1620404460                    -1              60540  SWS_05   \n",
       "5602     1620404640                    -1              60540  SWS_05   \n",
       "5603     1620404820                    -2              60540  SWS_05   \n",
       "5604     1620405000                    -2              60540  SWS_05   \n",
       "\n",
       "      startTimeInSeconds               summaryId  startTimeOffsetInSeconds  \\\n",
       "5600          1620370800  x3a513ce-6094e570-ec7c                    -25200   \n",
       "5601          1620370800  x3a513ce-6094e570-ec7c                    -25200   \n",
       "5602          1620370800  x3a513ce-6094e570-ec7c                    -25200   \n",
       "5603          1620370800  x3a513ce-6094e570-ec7c                    -25200   \n",
       "5604          1620370800  x3a513ce-6094e570-ec7c                    -25200   \n",
       "\n",
       "     calendarDate                   utc_date  body_battery_tsvalue  \n",
       "5600   2021-05-07  2021-05-07 16:18:00+00:00                  54.0  \n",
       "5601   2021-05-07  2021-05-07 16:21:00+00:00                  54.0  \n",
       "5602   2021-05-07  2021-05-07 16:24:00+00:00                  54.0  \n",
       "5603   2021-05-07  2021-05-07 16:27:00+00:00                  54.0  \n",
       "5604   2021-05-07  2021-05-07 16:30:00+00:00                  54.0  "
      ]
     },
     "execution_count": 21,
     "metadata": {},
     "output_type": "execute_result"
    }
   ],
   "source": [
    "batch['slice'][0]['stress'].head()"
   ]
  },
  {
   "cell_type": "markdown",
   "id": "388987f0-7305-48b6-ae9f-3661e17d25e3",
   "metadata": {},
   "source": [
    "Let's fuse this information into one, and try an early-fusion model on it:"
   ]
  },
  {
   "cell_type": "code",
   "execution_count": 22,
   "id": "0b1ea563-a888-4c93-9595-9cd3c71022cb",
   "metadata": {},
   "outputs": [],
   "source": [
    "fusion = SliceToSliceFusion(\n",
    "    config={\n",
    "                'timestamp_column': 'utc_timestamp',\n",
    "                'sources': {\n",
    "                    'all_timeseries': {\n",
    "                        'daily': ['heart_rate_tsvalue'],\n",
    "                        'pulseOx': ['spo2_tsvalue'],\n",
    "                        'respiration': ['epoch_to_breath_tsvalue'],\n",
    "                        'stress': ['stress_level_tsvalue']\n",
    "                    }\n",
    "                },\n",
    "                'nan_fill_method': ['ffill', 'bfill', 'fill_constant_0']\n",
    "            }\n",
    ")"
   ]
  },
  {
   "cell_type": "code",
   "execution_count": 23,
   "id": "a5da8c99-a7e2-44f2-8656-d3f3fff74089",
   "metadata": {},
   "outputs": [],
   "source": [
    "fused_batch = fusion(batch)"
   ]
  },
  {
   "cell_type": "code",
   "execution_count": 24,
   "id": "ee69d7fc-96c3-460e-824f-2f07160a4cd4",
   "metadata": {},
   "outputs": [
    {
     "data": {
      "text/plain": [
       "dict_keys(['all_timeseries'])"
      ]
     },
     "execution_count": 24,
     "metadata": {},
     "output_type": "execute_result"
    }
   ],
   "source": [
    "fused_batch['slice'][0].keys()"
   ]
  },
  {
   "cell_type": "code",
   "execution_count": 25,
   "id": "18743474-05f4-423a-bb82-94ffaf934d51",
   "metadata": {},
   "outputs": [
    {
     "data": {
      "text/html": [
       "<div>\n",
       "<style scoped>\n",
       "    .dataframe tbody tr th:only-of-type {\n",
       "        vertical-align: middle;\n",
       "    }\n",
       "\n",
       "    .dataframe tbody tr th {\n",
       "        vertical-align: top;\n",
       "    }\n",
       "\n",
       "    .dataframe thead th {\n",
       "        text-align: right;\n",
       "    }\n",
       "</style>\n",
       "<table border=\"1\" class=\"dataframe\">\n",
       "  <thead>\n",
       "    <tr style=\"text-align: right;\">\n",
       "      <th></th>\n",
       "      <th>utc_timestamp</th>\n",
       "      <th>heart_rate_tsvalue</th>\n",
       "      <th>spo2_tsvalue</th>\n",
       "      <th>epoch_to_breath_tsvalue</th>\n",
       "      <th>stress_level_tsvalue</th>\n",
       "    </tr>\n",
       "  </thead>\n",
       "  <tbody>\n",
       "    <tr>\n",
       "      <th>0</th>\n",
       "      <td>1620404160</td>\n",
       "      <td>75</td>\n",
       "      <td>95.0</td>\n",
       "      <td>14.23</td>\n",
       "      <td>-1.0</td>\n",
       "    </tr>\n",
       "    <tr>\n",
       "      <th>1</th>\n",
       "      <td>1620404175</td>\n",
       "      <td>77</td>\n",
       "      <td>95.0</td>\n",
       "      <td>14.23</td>\n",
       "      <td>-1.0</td>\n",
       "    </tr>\n",
       "    <tr>\n",
       "      <th>2</th>\n",
       "      <td>1620404190</td>\n",
       "      <td>77</td>\n",
       "      <td>95.0</td>\n",
       "      <td>14.23</td>\n",
       "      <td>-1.0</td>\n",
       "    </tr>\n",
       "    <tr>\n",
       "      <th>3</th>\n",
       "      <td>1620404205</td>\n",
       "      <td>77</td>\n",
       "      <td>95.0</td>\n",
       "      <td>14.23</td>\n",
       "      <td>-1.0</td>\n",
       "    </tr>\n",
       "    <tr>\n",
       "      <th>4</th>\n",
       "      <td>1620404220</td>\n",
       "      <td>77</td>\n",
       "      <td>95.0</td>\n",
       "      <td>14.53</td>\n",
       "      <td>-1.0</td>\n",
       "    </tr>\n",
       "  </tbody>\n",
       "</table>\n",
       "</div>"
      ],
      "text/plain": [
       "   utc_timestamp  heart_rate_tsvalue  spo2_tsvalue  epoch_to_breath_tsvalue  \\\n",
       "0     1620404160                  75          95.0                    14.23   \n",
       "1     1620404175                  77          95.0                    14.23   \n",
       "2     1620404190                  77          95.0                    14.23   \n",
       "3     1620404205                  77          95.0                    14.23   \n",
       "4     1620404220                  77          95.0                    14.53   \n",
       "\n",
       "   stress_level_tsvalue  \n",
       "0                  -1.0  \n",
       "1                  -1.0  \n",
       "2                  -1.0  \n",
       "3                  -1.0  \n",
       "4                  -1.0  "
      ]
     },
     "execution_count": 25,
     "metadata": {},
     "output_type": "execute_result"
    }
   ],
   "source": [
    "fused_batch['slice'][0]['all_timeseries'].head()"
   ]
  },
  {
   "cell_type": "code",
   "execution_count": 26,
   "id": "7961ff09-30f0-4c2a-8d26-e140d248d929",
   "metadata": {},
   "outputs": [],
   "source": [
    "from tabluence.deep_learning.pipeline.model import EarlyFusedSingleRNNSliceModel\n",
    "from tabluence.deep_learning.data.tensorizer import CustomTensorizer"
   ]
  },
  {
   "cell_type": "code",
   "execution_count": 27,
   "id": "6f592f2a-59a9-4acf-9fb1-8ff57965cccb",
   "metadata": {},
   "outputs": [],
   "source": [
    "tensorizer = CustomTensorizer(\n",
    "    config=dict(\n",
    "        timestamp_column='utc_timestamp',\n",
    "        value_config=dict(\n",
    "            all_timeseries=dict(\n",
    "                bring=[\n",
    "                    'heart_rate_tsvalue',\n",
    "                    'spo2_tsvalue',\n",
    "                    'epoch_to_breath_tsvalue',\n",
    "                    'stress_level_tsvalue'\n",
    "                ]\n",
    "            ),\n",
    "        )),\n",
    "    device=torch.device('cpu')\n",
    ")"
   ]
  },
  {
   "cell_type": "code",
   "execution_count": 28,
   "id": "45437b63-2438-4ff2-bddf-7428274aae6e",
   "metadata": {},
   "outputs": [],
   "source": [
    "t_batch = tensorizer(fused_batch)"
   ]
  },
  {
   "cell_type": "markdown",
   "id": "f7e824cc-6fa2-4888-b631-1cc781a5b376",
   "metadata": {},
   "source": [
    "The fused and tensorized input would look like this:"
   ]
  },
  {
   "cell_type": "code",
   "execution_count": 30,
   "id": "a0f4c336-3018-4bef-aed9-d4c1b94590ce",
   "metadata": {
    "tags": []
   },
   "outputs": [
    {
     "data": {
      "text/plain": [
       "torch.Size([240, 4])"
      ]
     },
     "execution_count": 30,
     "metadata": {},
     "output_type": "execute_result"
    }
   ],
   "source": [
    "t_batch['slice'][4]['all_timeseries'].shape"
   ]
  },
  {
   "cell_type": "code",
   "execution_count": 33,
   "id": "2088ffb9-b36a-4dc4-a137-bcf62637b716",
   "metadata": {},
   "outputs": [],
   "source": [
    "assert not torch.stack([torch.isnan(e['all_timeseries']).any() for e in t_batch['slice']]).any().item()"
   ]
  },
  {
   "cell_type": "code",
   "execution_count": 34,
   "id": "f9cd4186-c8de-46d3-bc27-44178a4228f9",
   "metadata": {},
   "outputs": [
    {
     "name": "stderr",
     "output_type": "stream",
     "text": [
      "/home/shayan/anaconda3/envs/marrovision/lib/python3.7/site-packages/torch/nn/modules/rnn.py:65: UserWarning: dropout option adds dropout after all but last recurrent layer, so non-zero dropout expects num_layers greater than 1, but got dropout=0.2 and num_layers=1\n",
      "  \"num_layers={}\".format(dropout, num_layers))\n"
     ]
    }
   ],
   "source": [
    "model = EarlyFusedSingleRNNSliceModel(\n",
    "    tensorizer=tensorizer,\n",
    "    config=dict(\n",
    "        single_source='all_timeseries',\n",
    "        main_rnn=dict(\n",
    "            rnn_model=\"LSTM\",\n",
    "            rnn_args=dict(\n",
    "                input_size=4,\n",
    "                hidden_size=32,\n",
    "                bidirectional=True,\n",
    "                batch_first=True,\n",
    "                bias=False,\n",
    "                dropout=0.2\n",
    "            ),\n",
    "            project_args=dict(\n",
    "                input_dim=64,\n",
    "                projection_dim=32\n",
    "            ),  # will be projected to this dimension if not None.\n",
    "        ),\n",
    "        task=dict(\n",
    "            target_in_meta='overall_quantized_stress_value',\n",
    "            type='classification',\n",
    "            loss_class='CrossEntropyLoss',\n",
    "            loss_args=dict(),\n",
    "            label_layout=[0, 0.5, 10]\n",
    "        )\n",
    "    ))"
   ]
  },
  {
   "cell_type": "code",
   "execution_count": 35,
   "id": "62fa8afe-611d-4d9e-bd70-c31b16d0dcf0",
   "metadata": {},
   "outputs": [
    {
     "data": {
      "text/plain": [
       "{'model_outputs': {'latent_representations': tensor([[-0.0096,  0.5900, -0.1067,  ..., -0.2954,  0.1868,  0.1734],\n",
       "          [ 0.1070,  0.4004, -0.7262,  ...,  0.1173,  0.3949, -0.2548],\n",
       "          [ 0.0186,  0.1601, -0.2656,  ..., -0.2858, -0.2714,  0.0910],\n",
       "          ...,\n",
       "          [-0.2599,  0.3213, -0.0394,  ..., -0.5897, -0.1214,  0.5590],\n",
       "          [ 0.2039,  0.5406, -0.2500,  ..., -0.0175,  0.1893, -0.1058],\n",
       "          [-0.0972,  0.5198,  0.0722,  ..., -0.1392,  0.0211,  0.3065]],\n",
       "         grad_fn=<AddmmBackward0>),\n",
       "  'logits': tensor([[-0.1088, -0.3289,  0.1109],\n",
       "          [ 0.6571, -1.0732,  0.4330],\n",
       "          [ 0.2694,  0.0743,  0.6358],\n",
       "          [ 0.7517, -0.9526,  0.1351],\n",
       "          [ 0.0844, -0.1456,  0.9376],\n",
       "          [ 0.1084, -1.3155,  0.5628],\n",
       "          [-0.1592, -0.9316,  0.4992],\n",
       "          [-0.1427, -1.2851,  0.3928],\n",
       "          [ 0.0633, -0.4916,  0.7749],\n",
       "          [-0.3571, -1.2318, -0.0147],\n",
       "          [-0.1199, -0.8002,  0.5573],\n",
       "          [ 0.6839, -0.9750,  0.3872],\n",
       "          [-0.3168, -1.0629,  0.1831],\n",
       "          [ 1.0559, -0.9235,  0.3639],\n",
       "          [ 0.0755,  0.0461,  0.5050],\n",
       "          [ 0.1052, -0.3973,  0.5398],\n",
       "          [-0.1341, -0.2863,  0.3069],\n",
       "          [ 0.1102, -0.2073,  0.2881],\n",
       "          [ 0.1445, -0.7793,  0.3539],\n",
       "          [ 0.0498, -0.1583,  0.0277],\n",
       "          [-0.2276, -0.5079,  0.5784],\n",
       "          [ 0.1751, -0.2011,  0.8656],\n",
       "          [ 0.3388,  0.2832,  0.1449],\n",
       "          [ 0.7477, -0.3051,  0.2197],\n",
       "          [-0.3157, -0.8134,  0.7265],\n",
       "          [ 0.0904, -0.4604,  0.4988],\n",
       "          [ 0.6689, -0.9898,  0.5352],\n",
       "          [-0.1314, -0.5885,  0.6797],\n",
       "          [-0.0045,  0.0223, -0.0250],\n",
       "          [-0.3606, -0.8245,  0.4698],\n",
       "          [-0.3644, -0.6126,  0.4543],\n",
       "          [ 0.5253,  0.0221,  0.8023],\n",
       "          [ 0.7626, -1.1167,  0.5738],\n",
       "          [ 0.7085, -0.8179,  0.1115],\n",
       "          [ 0.0017, -0.1995,  0.8991],\n",
       "          [-0.2307, -0.7068,  0.9412],\n",
       "          [-0.2050, -0.9285,  0.8144],\n",
       "          [ 0.0088, -0.3607,  0.1065],\n",
       "          [ 0.2636,  0.2385,  0.9124],\n",
       "          [-0.3801, -0.8643,  0.6822],\n",
       "          [ 1.0488, -0.3332,  0.2307],\n",
       "          [ 0.0554, -0.1361, -0.0293],\n",
       "          [ 0.9977, -0.4272,  0.2846],\n",
       "          [ 0.7541, -0.3910,  0.3679],\n",
       "          [ 0.9376, -0.9379,  0.5739],\n",
       "          [ 0.1537, -0.5811,  0.4741],\n",
       "          [ 0.3526,  0.1319,  1.1301],\n",
       "          [ 0.0614, -0.0884,  0.6190],\n",
       "          [-0.1766, -0.5631,  0.5117],\n",
       "          [-0.2099, -0.6482,  0.5567]], grad_fn=<AddmmBackward0>),\n",
       "  'targets': tensor([1, 0, 1, 0, 0, 0, 1, 0, 1, 0, 0, 0, 1, 0, 1, 1, 0, 1, 0, 0, 1, 0, 0, 1,\n",
       "          0, 0, 1, 0, 0, 0, 1, 0, 1, 1, 0, 1, 0, 0, 1, 0, 1, 0, 0, 0, 1, 0, 0, 1,\n",
       "          1, 0]),\n",
       "  'y_hat': tensor([2, 0, 2, 0, 2, 2, 2, 2, 2, 2, 2, 0, 2, 0, 2, 2, 2, 2, 2, 0, 2, 2, 0, 0,\n",
       "          2, 2, 0, 2, 1, 2, 2, 2, 0, 0, 2, 2, 2, 2, 2, 2, 0, 0, 0, 0, 0, 2, 2, 2,\n",
       "          2, 2]),\n",
       "  'y_score': tensor([[0.3281, 0.2633, 0.4087],\n",
       "          [0.5059, 0.0897, 0.4044],\n",
       "          [0.3062, 0.2520, 0.4418],\n",
       "          [0.5808, 0.1056, 0.3135],\n",
       "          [0.2414, 0.1918, 0.5667],\n",
       "          [0.3551, 0.0855, 0.5594],\n",
       "          [0.2947, 0.1361, 0.5692],\n",
       "          [0.3303, 0.1054, 0.5643],\n",
       "          [0.2769, 0.1590, 0.5641],\n",
       "          [0.3539, 0.1476, 0.4985],\n",
       "          [0.2878, 0.1458, 0.5665],\n",
       "          [0.5172, 0.0984, 0.3844],\n",
       "          [0.3202, 0.1519, 0.5279],\n",
       "          [0.6102, 0.0843, 0.3055],\n",
       "          [0.2851, 0.2768, 0.4381],\n",
       "          [0.3175, 0.1921, 0.4904],\n",
       "          [0.2930, 0.2516, 0.4554],\n",
       "          [0.3422, 0.2491, 0.4088],\n",
       "          [0.3802, 0.1510, 0.4688],\n",
       "          [0.3584, 0.2910, 0.3506],\n",
       "          [0.2503, 0.1891, 0.5605],\n",
       "          [0.2717, 0.1865, 0.5419],\n",
       "          [0.3610, 0.3415, 0.2974],\n",
       "          [0.5158, 0.1800, 0.3042],\n",
       "          [0.2251, 0.1368, 0.6381],\n",
       "          [0.3246, 0.1871, 0.4883],\n",
       "          [0.4842, 0.0922, 0.4236],\n",
       "          [0.2575, 0.1630, 0.5795],\n",
       "          [0.3326, 0.3416, 0.3258],\n",
       "          [0.2549, 0.1603, 0.5848],\n",
       "          [0.2471, 0.1928, 0.5602],\n",
       "          [0.3420, 0.2068, 0.4512],\n",
       "          [0.5049, 0.0771, 0.4180],\n",
       "          [0.5657, 0.1229, 0.3114],\n",
       "          [0.2341, 0.1915, 0.5744],\n",
       "          [0.2062, 0.1281, 0.6657],\n",
       "          [0.2349, 0.1140, 0.6511],\n",
       "          [0.3579, 0.2474, 0.3947],\n",
       "          [0.2572, 0.2508, 0.4920],\n",
       "          [0.2218, 0.1367, 0.6416],\n",
       "          [0.5909, 0.1484, 0.2608],\n",
       "          [0.3644, 0.3009, 0.3348],\n",
       "          [0.5778, 0.1390, 0.2832],\n",
       "          [0.5005, 0.1593, 0.3402],\n",
       "          [0.5410, 0.0829, 0.3761],\n",
       "          [0.3500, 0.1679, 0.4822],\n",
       "          [0.2514, 0.2016, 0.5470],\n",
       "          [0.2772, 0.2386, 0.4841],\n",
       "          [0.2725, 0.1851, 0.5424],\n",
       "          [0.2633, 0.1699, 0.5668]], grad_fn=<SoftmaxBackward0>)},\n",
       " 'loss_outputs': {'loss': tensor(1.3702, grad_fn=<NllLossBackward0>)}}"
      ]
     },
     "execution_count": 35,
     "metadata": {},
     "output_type": "execute_result"
    }
   ],
   "source": [
    "model(fused_batch, mode='train')"
   ]
  }
 ],
 "metadata": {
  "kernelspec": {
   "display_name": "Python 3 (ipykernel)",
   "language": "python",
   "name": "python3"
  },
  "language_info": {
   "codemirror_mode": {
    "name": "ipython",
    "version": 3
   },
   "file_extension": ".py",
   "mimetype": "text/x-python",
   "name": "python",
   "nbconvert_exporter": "python",
   "pygments_lexer": "ipython3",
   "version": "3.7.11"
  }
 },
 "nbformat": 4,
 "nbformat_minor": 5
}
