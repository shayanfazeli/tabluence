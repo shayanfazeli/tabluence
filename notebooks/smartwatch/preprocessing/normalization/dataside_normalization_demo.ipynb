{
 "cells": [
  {
   "cell_type": "code",
   "execution_count": 1,
   "id": "36db9d44-51ac-44e4-aa71-00141a22a47a",
   "metadata": {},
   "outputs": [],
   "source": [
    "import os\n",
    "import sys\n",
    "sys.path.append(os.path.abspath('../..'))\n",
    "from nowoe.data.api.smartwatch.utilities.preparations import *\n",
    "import pandas\n",
    "import plotly_express as px\n",
    "import numpy\n",
    "import json\n",
    "import pickle\n",
    "import gzip\n",
    "import matplotlib.pyplot as plt\n",
    "from copy import deepcopy\n",
    "from functools import reduce\n",
    "from tqdm import tqdm\n",
    "from datetime import datetime, timezone\n",
    "from typing import Dict, List, Tuple, Union, Any, Iterator\n",
    "import torch.utils.data.dataloader\n",
    "from nowoe.data.api.smartwatch.utilities.timestamp import get_utc_date_from_utc_timestamp\n",
    "from nowoe.data.api.smartwatch.data_manager.module import SmartwatchDataManager\n",
    "from nowoe.deep_learning.data.dataset.smartwatch_study.single_slice import get_dataloaders, SmartwatchStudySingleSliceDataset, single_slice_collate_fn\n",
    "from nowoe.deep_learning.data.preprocessing.single_slice.normalization import MinMaxSingleSliceNormalization"
   ]
  },
  {
   "cell_type": "code",
   "execution_count": 2,
   "id": "7d692009-4e40-4f5d-98f6-885d03e8b053",
   "metadata": {},
   "outputs": [
    {
     "name": "stderr",
     "output_type": "stream",
     "text": [
      "2022-02-25 07:54:11,858 - nowoe.deep_learning.data.dataset.smartwatch_study.single_slice.interface - INFO - initializing data manager...\n",
      "2022-02-25 07:56:48,013 - nowoe.deep_learning.data.dataset.smartwatch_study.single_slice.interface - INFO - preparing the dataset...\n",
      "2022-02-25 07:56:48,411 - nowoe.deep_learning.data.dataset.smartwatch_study.single_slice.dataset - INFO - Loaded metadata from cache file: /home/shayan/phoenix/nowoe_framework/nowoe_framework/notebooks/smartwatch/dataset_cache/dataset-cache-2.pkl.gz\n",
      "2022-02-25 07:56:48,411 - nowoe.deep_learning.data.dataset.smartwatch_study.single_slice.interface - INFO - preparing samplers...\n",
      "2022-02-25 07:56:48,551 - nowoe.deep_learning.data.dataset.smartwatch_study.single_slice.sampler - WARNING - no samples for label 2.057142857142857 was found in the split: test\n",
      "2022-02-25 07:56:48,551 - nowoe.deep_learning.data.dataset.smartwatch_study.single_slice.sampler - WARNING - no samples for label 2.314285714285714 was found in the split: test\n",
      "2022-02-25 07:56:48,552 - nowoe.deep_learning.data.dataset.smartwatch_study.single_slice.sampler - WARNING - no samples for label 2.571428571428571 was found in the split: test\n",
      "2022-02-25 07:56:48,552 - nowoe.deep_learning.data.dataset.smartwatch_study.single_slice.sampler - WARNING - no samples for label 2.8285714285714283 was found in the split: test\n",
      "2022-02-25 07:56:48,553 - nowoe.deep_learning.data.dataset.smartwatch_study.single_slice.sampler - WARNING - no samples for label 3.0857142857142854 was found in the split: test\n",
      "2022-02-25 07:56:48,553 - nowoe.deep_learning.data.dataset.smartwatch_study.single_slice.sampler - WARNING - no samples for label 3.3428571428571425 was found in the split: test\n",
      "2022-02-25 07:56:48,553 - nowoe.deep_learning.data.dataset.smartwatch_study.single_slice.sampler - WARNING - no samples for label 3.5999999999999996 was found in the split: test\n"
     ]
    }
   ],
   "source": [
    "normalizer = MinMaxSingleSliceNormalization(feature_names_per_data_source=dict(daily=['heart_rate_tsvalue']))\n",
    "\n",
    "dataloaders = get_dataloaders(\n",
    "    batch_size=50,\n",
    "    root_dir='../../resources/warrior_wellness/Analysis/local_repo/',\n",
    "    subject_splits={\n",
    "        \"train\": [f'SWS_{i:02d}' for i in range(0,10)],\n",
    "        \"test\": [f'SWS_{i:02d}' for i in range(10,15)]},\n",
    "    dataset_config={\n",
    "        'slice_lengths': [3600],\n",
    "        'slice_time_step': (5 * 60),\n",
    "        'label_milestone_per_window': 1.0,\n",
    "        'metadata_cache_filepath': './dataset_cache/dataset-cache-2.pkl.gz',\n",
    "        'no_cache': False,\n",
    "        'parallel_threads': 10\n",
    "    },\n",
    "    sampler_configs=dict(\n",
    "       train=dict(\n",
    "           negative_sample_count=1000,\n",
    "            positive_sample_count=500,\n",
    "            target_variable='overall_quantized_stress_value',\n",
    "           split_name=\"train\"\n",
    "       ),\n",
    "       test=dict(\n",
    "               negative_sample_count=200,\n",
    "            positive_sample_count=100,\n",
    "            target_variable='overall_quantized_stress_value',\n",
    "           split_name=\"test\"\n",
    "       )\n",
    "        )\n",
    ")"
   ]
  },
  {
   "cell_type": "code",
   "execution_count": 3,
   "id": "a384ccec-6057-467b-b8d1-13205fb5e8e7",
   "metadata": {},
   "outputs": [
    {
     "name": "stderr",
     "output_type": "stream",
     "text": [
      "2022-02-25 07:56:48,557 - nowoe.deep_learning.data.preprocessing.single_slice.normalization.base - INFO - [learning normalizers] sampling from the given dataloader...\n",
      "100%|█████████████████████████████████████████| 160/160 [01:04<00:00,  2.47it/s]\n",
      "2022-02-25 07:57:53,289 - nowoe.deep_learning.data.preprocessing.single_slice.normalization.base - INFO - [learning distributions] fitting models (of class <class 'sklearn.preprocessing._data.MinMaxScaler'>) to the distributions...\n",
      "2022-02-25 07:57:53,297 - nowoe.deep_learning.data.preprocessing.single_slice.normalization.base - INFO - [learning distributions] completed.\n"
     ]
    }
   ],
   "source": [
    "normalizer.learn(dataloaders['train'])"
   ]
  },
  {
   "cell_type": "code",
   "execution_count": 4,
   "id": "7d4c2f75-8c8b-4bcc-9533-46b1cebf68f7",
   "metadata": {},
   "outputs": [],
   "source": [
    "my_iter = iter(dataloaders['test'])"
   ]
  },
  {
   "cell_type": "code",
   "execution_count": 5,
   "id": "6c097f17-6587-42bf-8414-2658cd54f6a9",
   "metadata": {},
   "outputs": [],
   "source": [
    "batch = next(my_iter)"
   ]
  },
  {
   "cell_type": "code",
   "execution_count": 6,
   "id": "b3092196-7b8b-46b3-9b5b-a55f45c449f7",
   "metadata": {},
   "outputs": [
    {
     "data": {
      "text/plain": [
       "34591    83.0\n",
       "34592    79.0\n",
       "34593    79.0\n",
       "34594    79.0\n",
       "34595    79.0\n",
       "         ... \n",
       "34826    66.0\n",
       "34827    66.0\n",
       "34828    67.0\n",
       "34829    67.0\n",
       "34830    67.0\n",
       "Name: heart_rate_tsvalue, Length: 240, dtype: float64"
      ]
     },
     "execution_count": 6,
     "metadata": {},
     "output_type": "execute_result"
    }
   ],
   "source": [
    "batch['slice'][1]['daily'].heart_rate_tsvalue"
   ]
  },
  {
   "cell_type": "code",
   "execution_count": 7,
   "id": "4330a36f-ee3c-4b50-b61b-4ae681bb09a7",
   "metadata": {},
   "outputs": [],
   "source": [
    "batch_normalized = normalizer(batch)"
   ]
  },
  {
   "cell_type": "code",
   "execution_count": 8,
   "id": "24235142-b437-4751-8fe2-81e15ffee94d",
   "metadata": {},
   "outputs": [
    {
     "data": {
      "text/plain": [
       "34591    0.272109\n",
       "34592    0.244898\n",
       "34593    0.244898\n",
       "34594    0.244898\n",
       "34595    0.244898\n",
       "           ...   \n",
       "34826    0.156463\n",
       "34827    0.156463\n",
       "34828    0.163265\n",
       "34829    0.163265\n",
       "34830    0.163265\n",
       "Name: heart_rate_tsvalue, Length: 240, dtype: float64"
      ]
     },
     "execution_count": 8,
     "metadata": {},
     "output_type": "execute_result"
    }
   ],
   "source": [
    "batch_normalized['slice'][1]['daily'].heart_rate_tsvalue"
   ]
  }
 ],
 "metadata": {
  "kernelspec": {
   "display_name": "Python 3 (ipykernel)",
   "language": "python",
   "name": "python3"
  },
  "language_info": {
   "codemirror_mode": {
    "name": "ipython",
    "version": 3
   },
   "file_extension": ".py",
   "mimetype": "text/x-python",
   "name": "python",
   "nbconvert_exporter": "python",
   "pygments_lexer": "ipython3",
   "version": "3.7.11"
  }
 },
 "nbformat": 4,
 "nbformat_minor": 5
}
