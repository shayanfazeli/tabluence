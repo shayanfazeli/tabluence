{
 "cells": [
  {
   "cell_type": "markdown",
   "id": "f51e50e6-5e48-4c95-ae9f-ea2566b8c97d",
   "metadata": {},
   "source": [
    "# Data-side Pipelining: Fusion [Demo]"
   ]
  },
  {
   "cell_type": "markdown",
   "id": "7339a2ba-9ff7-4260-a347-bcddbe139969",
   "metadata": {},
   "source": [
    "In this document, we demo the *Fusion* module in our on-the-fly data pipelinings."
   ]
  },
  {
   "cell_type": "markdown",
   "id": "f45a3ec1-7934-4ed1-b51f-8c705157043e",
   "metadata": {},
   "source": [
    "## Preparations"
   ]
  },
  {
   "cell_type": "code",
   "execution_count": 1,
   "id": "381cfe1a-bf55-4a34-932e-6242558e40a3",
   "metadata": {},
   "outputs": [],
   "source": [
    "import os\n",
    "import sys\n",
    "sys.path.append(os.path.abspath('../..'))\n",
    "# from tabluence.data.api.smartwatch.utilities.preparations import *\n",
    "import pandas\n",
    "import plotly_express as px\n",
    "import numpy\n",
    "import json\n",
    "import pickle\n",
    "import gzip\n",
    "import matplotlib.pyplot as plt\n",
    "from copy import deepcopy\n",
    "from functools import reduce\n",
    "from tqdm import tqdm\n",
    "from datetime import datetime, timezone\n",
    "from typing import Dict, List, Tuple, Union, Any, Iterator\n",
    "import torch.utils.data.dataloader\n",
    "from tabluence.data.api.smartwatch.utilities.timestamp import get_utc_date_from_utc_timestamp\n",
    "from tabluence.data.api.smartwatch.data_manager.module import SmartwatchDataManager\n",
    "from tabluence.deep_learning.data.dataset.smartwatch_study.single_slice import get_dataloaders, SmartwatchStudySingleSliceDataset, single_slice_collate_fn\n",
    "from tabluence.deep_learning.data.pipeline.fusion.single_slice import SliceToSliceFusion"
   ]
  },
  {
   "cell_type": "markdown",
   "id": "d9a3d99b-e237-4eed-821a-315f2f8560b2",
   "metadata": {},
   "source": [
    "## Preparing data"
   ]
  },
  {
   "cell_type": "code",
   "execution_count": 2,
   "id": "d747571e-618b-4a58-9962-1c5ccdc70bf5",
   "metadata": {},
   "outputs": [
    {
     "name": "stderr",
     "output_type": "stream",
     "text": [
      "2022-07-27 10:29:50,695 - tabluence.deep_learning.data.dataset.smartwatch_study.single_slice.interface - INFO - initializing data manager...\n",
      "2022-07-27 10:29:52,570 - tabluence.deep_learning.data.dataset.smartwatch_study.single_slice.interface - INFO - preparing the dataset...\n",
      "2022-07-27 10:29:56,976 - tabluence.deep_learning.data.dataset.smartwatch_study.single_slice.dataset - INFO - \n",
      "\t~> processing the metadata for building quantization based label layout\n",
      "100%|██████████████████████████████| 1036509/1036509 [01:06<00:00, 15592.19it/s]\n",
      "2022-07-27 10:31:03,454 - tabluence.deep_learning.data.dataset.smartwatch_study.single_slice.dataset - INFO - \n",
      "\t\t~> label layout for general_quantized_stress_value stress category: [0.0, 0.5]\n",
      "2022-07-27 10:31:03,455 - tabluence.deep_learning.data.dataset.smartwatch_study.single_slice.dataset - INFO - \n",
      "\t\t~> label layout for induced_quantized_stress_value stress category: [0.0, 0.5]\n",
      "2022-07-27 10:31:03,455 - tabluence.deep_learning.data.dataset.smartwatch_study.single_slice.dataset - INFO - \n",
      "\t\t~> label layout for interpersonal_quantized_stress_value stress category: [0.0, 0.5]\n",
      "2022-07-27 10:31:03,455 - tabluence.deep_learning.data.dataset.smartwatch_study.single_slice.dataset - INFO - \n",
      "\t\t~> label layout for overall_quantized_stress_value stress category: [0.0, 0.5]\n",
      "2022-07-27 10:31:03,456 - tabluence.deep_learning.data.dataset.smartwatch_study.single_slice.dataset - INFO - ~> loaded / processed metadata from cache file: /home/shayan/phoenix/tabluence/tabluence/resources/smartwatch_study/dataset_cache/window_1hour_stride_1second.pkl.gz\n",
      "2022-07-27 10:31:03,456 - tabluence.deep_learning.data.dataset.smartwatch_study.single_slice.interface - INFO - preparing samplers...\n"
     ]
    }
   ],
   "source": [
    "dataloaders = get_dataloaders(\n",
    "    batch_size=50,\n",
    "    root_dir='../../resources/warrior_wellness/Analysis/local_repo/',\n",
    "    data_manager_cache_filepath='../../resources/smartwatch_study/dataset_cache/window_1hour_stride_1second-datamanger001.pkl.gz',\n",
    "    subject_splits={\n",
    "        \"train\": [f'SWS_{i:02d}' for i in range(0,10)],\n",
    "        \"test\": [f'SWS_{i:02d}' for i in range(10,15)]},\n",
    "    dataset_config={\n",
    "        'slice_lengths': [3600],\n",
    "        'slice_time_step': 1,\n",
    "        'label_milestone_per_window': 1.0,\n",
    "        'metadata_cache_filepath': '../../resources/smartwatch_study/dataset_cache/window_1hour_stride_1second.pkl.gz',\n",
    "        'no_cache': False,\n",
    "        'parallel_threads': 10,\n",
    "        'specific_stress_quantization_bins': [0.0, 0.5, 10.0],\n",
    "        'overall_stress_quantization_bins': [0.0, 0.5, 10.0]\n",
    "    },\n",
    "    sampler_configs=dict(\n",
    "       train=dict(\n",
    "           negative_sample_count=1000,\n",
    "            positive_sample_count=500,\n",
    "            target_variable='overall_quantized_stress_value',\n",
    "           split_name=\"train\"\n",
    "       ),\n",
    "       test=dict(\n",
    "               negative_sample_count=200,\n",
    "            positive_sample_count=100,\n",
    "            target_variable='overall_quantized_stress_value',\n",
    "           split_name=\"test\"\n",
    "       )\n",
    "        )\n",
    ")"
   ]
  },
  {
   "cell_type": "markdown",
   "id": "8678ec87-e30a-4025-9e5b-3949727b9244",
   "metadata": {},
   "source": [
    "Let's read a single batch and analyze it:"
   ]
  },
  {
   "cell_type": "code",
   "execution_count": 3,
   "id": "2fe89f25-8e64-4ba3-bdc5-67e96f35b03f",
   "metadata": {},
   "outputs": [],
   "source": [
    "for batch in dataloaders['train']:\n",
    "    break"
   ]
  },
  {
   "cell_type": "markdown",
   "id": "5e279f11-2bcf-45d1-857b-cf12a4b5ee0b",
   "metadata": {},
   "source": [
    "Here we see the different keys associated with different physiological signal types."
   ]
  },
  {
   "cell_type": "code",
   "execution_count": 4,
   "id": "37b13b5d-bab5-4521-85bb-8e60882b5e8d",
   "metadata": {},
   "outputs": [
    {
     "data": {
      "text/plain": [
       "dict_keys(['daily', 'respiration', 'stress', 'pulseOx'])"
      ]
     },
     "execution_count": 4,
     "metadata": {},
     "output_type": "execute_result"
    }
   ],
   "source": [
    "batch['slice'][0].keys()"
   ]
  },
  {
   "cell_type": "markdown",
   "id": "438830fd-8eab-4fc9-a511-c8c0ba86473a",
   "metadata": {},
   "source": [
    "Now let's confirm that the splits have taken place correctly (please note that the provided set of subjects is the `super-set` and a `constraint`, therefore it is possible that some of them don't appear in the data on the account of the subject id not existing in the dataset."
   ]
  },
  {
   "cell_type": "code",
   "execution_count": 5,
   "id": "e2b39876-a526-417f-8ed4-229289b02a3d",
   "metadata": {},
   "outputs": [
    {
     "name": "stderr",
     "output_type": "stream",
     "text": [
      "100%|███████████████████████████████████████████| 30/30 [00:08<00:00,  3.37it/s]\n"
     ]
    }
   ],
   "source": [
    "train_subject_ids = set()\n",
    "for batch in tqdm(dataloaders['train']):\n",
    "    train_subject_ids = train_subject_ids.union(set(\n",
    "        [e['subject_id'] for e in batch['meta']]))"
   ]
  },
  {
   "cell_type": "code",
   "execution_count": 6,
   "id": "2281174a-7651-4c74-b979-7dde5520a237",
   "metadata": {},
   "outputs": [
    {
     "data": {
      "text/plain": [
       "{'SWS_01',\n",
       " 'SWS_02',\n",
       " 'SWS_03',\n",
       " 'SWS_04',\n",
       " 'SWS_05',\n",
       " 'SWS_06',\n",
       " 'SWS_07',\n",
       " 'SWS_08',\n",
       " 'SWS_09'}"
      ]
     },
     "execution_count": 6,
     "metadata": {},
     "output_type": "execute_result"
    }
   ],
   "source": [
    "train_subject_ids"
   ]
  },
  {
   "cell_type": "markdown",
   "id": "da59545b-0b1b-4743-b93a-8f385266ac2f",
   "metadata": {},
   "source": [
    "Given that our dataloader is a single-slice one, each batch-element is a single slice from a single subject (please note that for details such as subject_id, etc. you can refer to `batch['meta']` as follows:"
   ]
  },
  {
   "cell_type": "code",
   "execution_count": 14,
   "id": "7b8566a7-97e0-42d1-8a2d-7f47a20d0d2f",
   "metadata": {},
   "outputs": [
    {
     "data": {
      "text/plain": [
       "{'subject_id': 'SWS_07',\n",
       " 'utc_timestamp_window': (1621965634.0, 1621969234.0),\n",
       " 'overall_stress_value': 0.0,\n",
       " 'general_stress_value': 0.0,\n",
       " 'interpersonal_stress_value': 0.0,\n",
       " 'utc_timestamp_for_stress_query': 1621969234.0,\n",
       " 'induced_stress_value': 0.0,\n",
       " 'general_quantized_stress_value': 0.0,\n",
       " 'induced_quantized_stress_value': 0.0,\n",
       " 'interpersonal_quantized_stress_value': 0.0,\n",
       " 'overall_quantized_stress_value': 0.0}"
      ]
     },
     "execution_count": 14,
     "metadata": {},
     "output_type": "execute_result"
    }
   ],
   "source": [
    "batch['meta'][0]"
   ]
  },
  {
   "cell_type": "code",
   "execution_count": 15,
   "id": "69f1ff72-f457-4868-a94f-1d2eacfeadd2",
   "metadata": {},
   "outputs": [
    {
     "data": {
      "text/html": [
       "<div>\n",
       "<style scoped>\n",
       "    .dataframe tbody tr th:only-of-type {\n",
       "        vertical-align: middle;\n",
       "    }\n",
       "\n",
       "    .dataframe tbody tr th {\n",
       "        vertical-align: top;\n",
       "    }\n",
       "\n",
       "    .dataframe thead th {\n",
       "        text-align: right;\n",
       "    }\n",
       "</style>\n",
       "<table border=\"1\" class=\"dataframe\">\n",
       "  <thead>\n",
       "    <tr style=\"text-align: right;\">\n",
       "      <th></th>\n",
       "      <th>utc_timestamp</th>\n",
       "      <th>stress_level_tsvalue</th>\n",
       "      <th>durationInSeconds</th>\n",
       "      <th>calendarDate</th>\n",
       "      <th>summaryId</th>\n",
       "      <th>user_id</th>\n",
       "      <th>startTimeInSeconds</th>\n",
       "      <th>startTimeOffsetInSeconds</th>\n",
       "      <th>utc_date</th>\n",
       "      <th>body_battery_tsvalue</th>\n",
       "    </tr>\n",
       "  </thead>\n",
       "  <tbody>\n",
       "    <tr>\n",
       "      <th>9673</th>\n",
       "      <td>1621965780</td>\n",
       "      <td>82</td>\n",
       "      <td>86400</td>\n",
       "      <td>2021-05-25</td>\n",
       "      <td>x3a74ee1-60aca070-15180</td>\n",
       "      <td>SWS_07</td>\n",
       "      <td>1621926000</td>\n",
       "      <td>-25200</td>\n",
       "      <td>2021-05-25 18:03:00+00:00</td>\n",
       "      <td>NaN</td>\n",
       "    </tr>\n",
       "    <tr>\n",
       "      <th>9674</th>\n",
       "      <td>1621965960</td>\n",
       "      <td>85</td>\n",
       "      <td>86400</td>\n",
       "      <td>2021-05-25</td>\n",
       "      <td>x3a74ee1-60aca070-15180</td>\n",
       "      <td>SWS_07</td>\n",
       "      <td>1621926000</td>\n",
       "      <td>-25200</td>\n",
       "      <td>2021-05-25 18:06:00+00:00</td>\n",
       "      <td>NaN</td>\n",
       "    </tr>\n",
       "    <tr>\n",
       "      <th>9675</th>\n",
       "      <td>1621966140</td>\n",
       "      <td>82</td>\n",
       "      <td>86400</td>\n",
       "      <td>2021-05-25</td>\n",
       "      <td>x3a74ee1-60aca070-15180</td>\n",
       "      <td>SWS_07</td>\n",
       "      <td>1621926000</td>\n",
       "      <td>-25200</td>\n",
       "      <td>2021-05-25 18:09:00+00:00</td>\n",
       "      <td>NaN</td>\n",
       "    </tr>\n",
       "    <tr>\n",
       "      <th>9676</th>\n",
       "      <td>1621966320</td>\n",
       "      <td>80</td>\n",
       "      <td>86400</td>\n",
       "      <td>2021-05-25</td>\n",
       "      <td>x3a74ee1-60aca070-15180</td>\n",
       "      <td>SWS_07</td>\n",
       "      <td>1621926000</td>\n",
       "      <td>-25200</td>\n",
       "      <td>2021-05-25 18:12:00+00:00</td>\n",
       "      <td>NaN</td>\n",
       "    </tr>\n",
       "    <tr>\n",
       "      <th>9677</th>\n",
       "      <td>1621966500</td>\n",
       "      <td>76</td>\n",
       "      <td>86400</td>\n",
       "      <td>2021-05-25</td>\n",
       "      <td>x3a74ee1-60aca070-15180</td>\n",
       "      <td>SWS_07</td>\n",
       "      <td>1621926000</td>\n",
       "      <td>-25200</td>\n",
       "      <td>2021-05-25 18:15:00+00:00</td>\n",
       "      <td>NaN</td>\n",
       "    </tr>\n",
       "  </tbody>\n",
       "</table>\n",
       "</div>"
      ],
      "text/plain": [
       "      utc_timestamp  stress_level_tsvalue  durationInSeconds calendarDate  \\\n",
       "9673     1621965780                    82              86400   2021-05-25   \n",
       "9674     1621965960                    85              86400   2021-05-25   \n",
       "9675     1621966140                    82              86400   2021-05-25   \n",
       "9676     1621966320                    80              86400   2021-05-25   \n",
       "9677     1621966500                    76              86400   2021-05-25   \n",
       "\n",
       "                    summaryId user_id  startTimeInSeconds  \\\n",
       "9673  x3a74ee1-60aca070-15180  SWS_07          1621926000   \n",
       "9674  x3a74ee1-60aca070-15180  SWS_07          1621926000   \n",
       "9675  x3a74ee1-60aca070-15180  SWS_07          1621926000   \n",
       "9676  x3a74ee1-60aca070-15180  SWS_07          1621926000   \n",
       "9677  x3a74ee1-60aca070-15180  SWS_07          1621926000   \n",
       "\n",
       "      startTimeOffsetInSeconds                   utc_date  \\\n",
       "9673                    -25200  2021-05-25 18:03:00+00:00   \n",
       "9674                    -25200  2021-05-25 18:06:00+00:00   \n",
       "9675                    -25200  2021-05-25 18:09:00+00:00   \n",
       "9676                    -25200  2021-05-25 18:12:00+00:00   \n",
       "9677                    -25200  2021-05-25 18:15:00+00:00   \n",
       "\n",
       "      body_battery_tsvalue  \n",
       "9673                   NaN  \n",
       "9674                   NaN  \n",
       "9675                   NaN  \n",
       "9676                   NaN  \n",
       "9677                   NaN  "
      ]
     },
     "execution_count": 15,
     "metadata": {},
     "output_type": "execute_result"
    }
   ],
   "source": [
    "batch['slice'][0]['stress'].head()"
   ]
  },
  {
   "cell_type": "markdown",
   "id": "aa1d731a-376a-4637-9b4f-6e17f92b5f14",
   "metadata": {},
   "source": [
    "To demonstrate what `SliceToSliceFusion` does, we can first look at the instantiation described below.\n",
    "\n",
    "Here is what it means:\n",
    "* `timestamp_column`: indicating that in each one of the tables, what column-element should we use for the measurements of time.\n",
    "* `sources`: the dictionary of mappings from one to another, in this case, we want to end up with one `source` in the *output* slice called `all_timeseries`.\n",
    "    * Each element would indicate a source in the input slice and the list of columns which we want to include from it.\n",
    "* The `nan_fill_method` describes the methodologies used for dealing with nans (assuming they will be sorted by the `timestamp_column`, which is done automatically by the package). Please note that they will be done in the order they are provided."
   ]
  },
  {
   "cell_type": "code",
   "execution_count": 16,
   "id": "0b1ea563-a888-4c93-9595-9cd3c71022cb",
   "metadata": {},
   "outputs": [],
   "source": [
    "fusion = SliceToSliceFusion(\n",
    "    config={\n",
    "                'timestamp_column': 'utc_timestamp',\n",
    "                'sources': {\n",
    "                    'all_timeseries': {\n",
    "                        'daily': ['heart_rate_tsvalue'],\n",
    "                        'pulseOx': ['spo2_tsvalue'],\n",
    "                        'respiration': ['epoch_to_breath_tsvalue'],\n",
    "                        'stress': ['stress_level_tsvalue']\n",
    "                    }\n",
    "                },\n",
    "                'nan_fill_method': ['ffill', 'bfill', 'fill_constant_0']\n",
    "            }\n",
    ")"
   ]
  },
  {
   "cell_type": "markdown",
   "id": "9ed4f750-97c9-43d8-b37d-ced273e8dc5c",
   "metadata": {},
   "source": [
    "Now let's apply it on the batch"
   ]
  },
  {
   "cell_type": "code",
   "execution_count": 17,
   "id": "a5da8c99-a7e2-44f2-8656-d3f3fff74089",
   "metadata": {},
   "outputs": [],
   "source": [
    "fused_batch = fusion(batch)"
   ]
  },
  {
   "cell_type": "markdown",
   "id": "8df89882-1bdc-4560-8e67-5886aab3cd6b",
   "metadata": {},
   "source": [
    "Voila!"
   ]
  },
  {
   "cell_type": "code",
   "execution_count": 18,
   "id": "ee69d7fc-96c3-460e-824f-2f07160a4cd4",
   "metadata": {},
   "outputs": [
    {
     "data": {
      "text/plain": [
       "dict_keys(['all_timeseries'])"
      ]
     },
     "execution_count": 18,
     "metadata": {},
     "output_type": "execute_result"
    }
   ],
   "source": [
    "fused_batch['slice'][0].keys()"
   ]
  },
  {
   "cell_type": "code",
   "execution_count": 19,
   "id": "18743474-05f4-423a-bb82-94ffaf934d51",
   "metadata": {},
   "outputs": [
    {
     "data": {
      "text/html": [
       "<div>\n",
       "<style scoped>\n",
       "    .dataframe tbody tr th:only-of-type {\n",
       "        vertical-align: middle;\n",
       "    }\n",
       "\n",
       "    .dataframe tbody tr th {\n",
       "        vertical-align: top;\n",
       "    }\n",
       "\n",
       "    .dataframe thead th {\n",
       "        text-align: right;\n",
       "    }\n",
       "</style>\n",
       "<table border=\"1\" class=\"dataframe\">\n",
       "  <thead>\n",
       "    <tr style=\"text-align: right;\">\n",
       "      <th></th>\n",
       "      <th>utc_timestamp</th>\n",
       "      <th>heart_rate_tsvalue</th>\n",
       "      <th>spo2_tsvalue</th>\n",
       "      <th>epoch_to_breath_tsvalue</th>\n",
       "      <th>stress_level_tsvalue</th>\n",
       "    </tr>\n",
       "  </thead>\n",
       "  <tbody>\n",
       "    <tr>\n",
       "      <th>0</th>\n",
       "      <td>1621965645</td>\n",
       "      <td>89</td>\n",
       "      <td>0.0</td>\n",
       "      <td>0.0</td>\n",
       "      <td>82.0</td>\n",
       "    </tr>\n",
       "    <tr>\n",
       "      <th>1</th>\n",
       "      <td>1621965660</td>\n",
       "      <td>89</td>\n",
       "      <td>0.0</td>\n",
       "      <td>0.0</td>\n",
       "      <td>82.0</td>\n",
       "    </tr>\n",
       "    <tr>\n",
       "      <th>2</th>\n",
       "      <td>1621965675</td>\n",
       "      <td>92</td>\n",
       "      <td>0.0</td>\n",
       "      <td>0.0</td>\n",
       "      <td>82.0</td>\n",
       "    </tr>\n",
       "    <tr>\n",
       "      <th>3</th>\n",
       "      <td>1621965690</td>\n",
       "      <td>92</td>\n",
       "      <td>0.0</td>\n",
       "      <td>0.0</td>\n",
       "      <td>82.0</td>\n",
       "    </tr>\n",
       "    <tr>\n",
       "      <th>4</th>\n",
       "      <td>1621965705</td>\n",
       "      <td>92</td>\n",
       "      <td>0.0</td>\n",
       "      <td>0.0</td>\n",
       "      <td>82.0</td>\n",
       "    </tr>\n",
       "  </tbody>\n",
       "</table>\n",
       "</div>"
      ],
      "text/plain": [
       "   utc_timestamp  heart_rate_tsvalue  spo2_tsvalue  epoch_to_breath_tsvalue  \\\n",
       "0     1621965645                  89           0.0                      0.0   \n",
       "1     1621965660                  89           0.0                      0.0   \n",
       "2     1621965675                  92           0.0                      0.0   \n",
       "3     1621965690                  92           0.0                      0.0   \n",
       "4     1621965705                  92           0.0                      0.0   \n",
       "\n",
       "   stress_level_tsvalue  \n",
       "0                  82.0  \n",
       "1                  82.0  \n",
       "2                  82.0  \n",
       "3                  82.0  \n",
       "4                  82.0  "
      ]
     },
     "execution_count": 19,
     "metadata": {},
     "output_type": "execute_result"
    }
   ],
   "source": [
    "fused_batch['slice'][0]['all_timeseries'].head()"
   ]
  },
  {
   "cell_type": "markdown",
   "id": "b8d73c8f-1602-431e-b7fc-7a28ef36d9d0",
   "metadata": {},
   "source": [
    "Let's see it in action:"
   ]
  },
  {
   "cell_type": "code",
   "execution_count": 20,
   "id": "7961ff09-30f0-4c2a-8d26-e140d248d929",
   "metadata": {},
   "outputs": [],
   "source": [
    "from tabluence.deep_learning.pipeline.model import EarlyFusedSingleRNNSliceModel\n",
    "from tabluence.deep_learning.data.tensorizer import CustomTensorizer"
   ]
  },
  {
   "cell_type": "code",
   "execution_count": 21,
   "id": "6f592f2a-59a9-4acf-9fb1-8ff57965cccb",
   "metadata": {},
   "outputs": [],
   "source": [
    "tensorizer = CustomTensorizer(\n",
    "    config=dict(\n",
    "        timestamp_column='utc_timestamp',\n",
    "        value_config=dict(\n",
    "            all_timeseries=dict(\n",
    "                bring=[\n",
    "                    'heart_rate_tsvalue',\n",
    "                    'spo2_tsvalue',\n",
    "                    'epoch_to_breath_tsvalue',\n",
    "                    'stress_level_tsvalue'\n",
    "                ]\n",
    "            ),\n",
    "        )),\n",
    "    device=torch.device('cpu')\n",
    ")"
   ]
  },
  {
   "cell_type": "code",
   "execution_count": 22,
   "id": "45437b63-2438-4ff2-bddf-7428274aae6e",
   "metadata": {},
   "outputs": [],
   "source": [
    "t_batch = tensorizer(fused_batch)"
   ]
  },
  {
   "cell_type": "code",
   "execution_count": 24,
   "id": "a0f4c336-3018-4bef-aed9-d4c1b94590ce",
   "metadata": {
    "tags": []
   },
   "outputs": [
    {
     "data": {
      "text/plain": [
       "torch.Size([240, 4])"
      ]
     },
     "execution_count": 24,
     "metadata": {},
     "output_type": "execute_result"
    }
   ],
   "source": [
    "t_batch['slice'][4]['all_timeseries'].shape"
   ]
  },
  {
   "cell_type": "code",
   "execution_count": 25,
   "id": "2088ffb9-b36a-4dc4-a137-bcf62637b716",
   "metadata": {},
   "outputs": [
    {
     "data": {
      "text/plain": [
       "[tensor(False),\n",
       " tensor(False),\n",
       " tensor(False),\n",
       " tensor(False),\n",
       " tensor(False),\n",
       " tensor(False),\n",
       " tensor(False),\n",
       " tensor(False),\n",
       " tensor(False),\n",
       " tensor(False),\n",
       " tensor(False),\n",
       " tensor(False),\n",
       " tensor(False),\n",
       " tensor(False),\n",
       " tensor(False),\n",
       " tensor(False),\n",
       " tensor(False),\n",
       " tensor(False),\n",
       " tensor(False),\n",
       " tensor(False),\n",
       " tensor(False),\n",
       " tensor(False),\n",
       " tensor(False),\n",
       " tensor(False),\n",
       " tensor(False),\n",
       " tensor(False),\n",
       " tensor(False),\n",
       " tensor(False),\n",
       " tensor(False),\n",
       " tensor(False),\n",
       " tensor(False),\n",
       " tensor(False),\n",
       " tensor(False),\n",
       " tensor(False),\n",
       " tensor(False),\n",
       " tensor(False),\n",
       " tensor(False),\n",
       " tensor(False),\n",
       " tensor(False),\n",
       " tensor(False),\n",
       " tensor(False),\n",
       " tensor(False),\n",
       " tensor(False),\n",
       " tensor(False),\n",
       " tensor(False),\n",
       " tensor(False),\n",
       " tensor(False),\n",
       " tensor(False),\n",
       " tensor(False),\n",
       " tensor(False)]"
      ]
     },
     "execution_count": 25,
     "metadata": {},
     "output_type": "execute_result"
    }
   ],
   "source": [
    "[torch.isnan(e['all_timeseries']).any() for e in t_batch['slice']]"
   ]
  },
  {
   "cell_type": "code",
   "execution_count": 26,
   "id": "f9cd4186-c8de-46d3-bc27-44178a4228f9",
   "metadata": {},
   "outputs": [
    {
     "name": "stderr",
     "output_type": "stream",
     "text": [
      "/home/shayan/anaconda3/envs/marrovision/lib/python3.7/site-packages/torch/nn/modules/rnn.py:65: UserWarning: dropout option adds dropout after all but last recurrent layer, so non-zero dropout expects num_layers greater than 1, but got dropout=0.2 and num_layers=1\n",
      "  \"num_layers={}\".format(dropout, num_layers))\n"
     ]
    }
   ],
   "source": [
    "model = EarlyFusedSingleRNNSliceModel(\n",
    "    tensorizer=tensorizer,\n",
    "    config=dict(\n",
    "        single_source='all_timeseries',\n",
    "        main_rnn=dict(\n",
    "            rnn_model=\"LSTM\",\n",
    "            rnn_args=dict(\n",
    "                input_size=4,\n",
    "                hidden_size=32,\n",
    "                bidirectional=True,\n",
    "                batch_first=True,\n",
    "                bias=False,\n",
    "                dropout=0.2\n",
    "            ),\n",
    "            project_args=dict(\n",
    "                input_dim=64,\n",
    "                projection_dim=32\n",
    "            ),  # will be projected to this dimension if not None.\n",
    "        ),\n",
    "        task=dict(\n",
    "            target_in_meta='overall_quantized_stress_value',\n",
    "            type='classification',\n",
    "            loss_class='CrossEntropyLoss',\n",
    "            loss_args=dict(),\n",
    "            label_layout=[0, 0.5, 10]\n",
    "        )\n",
    "    ))"
   ]
  },
  {
   "cell_type": "code",
   "execution_count": 27,
   "id": "62fa8afe-611d-4d9e-bd70-c31b16d0dcf0",
   "metadata": {},
   "outputs": [
    {
     "data": {
      "text/plain": [
       "{'model_outputs': {'latent_representations': tensor([[-0.3007,  0.5111,  0.2876,  ...,  0.6876,  0.0716, -0.1069],\n",
       "          [-0.8048,  0.1494,  1.0275,  ...,  0.5339,  0.1797, -0.3993],\n",
       "          [-0.9884,  0.3648,  1.2366,  ...,  0.3502,  0.2921, -0.7258],\n",
       "          ...,\n",
       "          [-0.6736,  0.4052,  1.2037,  ...,  0.1370,  0.3265, -0.6584],\n",
       "          [-1.1156,  0.4234,  0.8974,  ...,  0.6583, -0.0040, -0.2825],\n",
       "          [-0.5121,  0.1681,  0.3052,  ...,  1.0869, -0.2166,  0.3751]],\n",
       "         grad_fn=<AddmmBackward0>),\n",
       "  'logits': tensor([[-3.0806e-01,  9.4836e-02, -4.4606e-01],\n",
       "          [ 5.5205e-01,  3.0528e-01,  3.0849e-01],\n",
       "          [ 1.1540e+00,  8.1849e-01,  5.2714e-01],\n",
       "          [ 1.6163e-01, -5.3412e-02, -2.6436e-01],\n",
       "          [ 5.4339e-01,  4.0233e-01,  2.8843e-01],\n",
       "          [ 6.0455e-01,  1.9705e-01,  4.0955e-01],\n",
       "          [-3.1678e-01, -6.2187e-02, -2.3715e-01],\n",
       "          [ 4.2760e-01, -4.5173e-01, -9.3514e-01],\n",
       "          [ 6.7722e-01, -1.2872e-01, -3.8607e-01],\n",
       "          [ 2.6735e-01,  3.6852e-01, -8.0136e-03],\n",
       "          [ 6.0561e-01,  2.6630e-01,  3.6321e-01],\n",
       "          [ 3.3231e-01, -8.7423e-02, -9.7778e-01],\n",
       "          [-4.0959e-03, -5.4602e-01, -4.6882e-01],\n",
       "          [ 1.4397e-01, -5.1386e-01, -4.6542e-01],\n",
       "          [ 4.4771e-01,  2.1509e-01, -5.3922e-01],\n",
       "          [ 1.3370e+00,  6.4233e-01,  3.1206e-01],\n",
       "          [ 7.0136e-01,  4.5503e-01,  3.7031e-01],\n",
       "          [ 1.1163e+00, -2.8186e-01, -6.4306e-01],\n",
       "          [ 6.3065e-01, -1.9378e-01, -1.0728e+00],\n",
       "          [ 5.1378e-02,  1.1533e-01,  7.8834e-04],\n",
       "          [ 8.4063e-01,  2.2323e-01, -1.3187e-01],\n",
       "          [ 6.0616e-01,  6.0142e-01,  6.4220e-01],\n",
       "          [-2.2698e-02,  2.3795e-02,  1.5778e-02],\n",
       "          [ 5.6325e-01,  1.0787e-01,  1.5362e-01],\n",
       "          [ 5.5615e-01,  3.5265e-01,  4.5826e-01],\n",
       "          [ 5.2683e-01,  3.6585e-01,  3.4528e-01],\n",
       "          [ 7.2460e-01,  2.8140e-01,  1.2254e-02],\n",
       "          [ 7.0392e-01,  4.8522e-01,  3.8345e-01],\n",
       "          [ 5.4486e-01,  5.4868e-01,  8.2936e-02],\n",
       "          [ 8.2603e-02,  1.3736e-02, -1.3332e-02],\n",
       "          [ 6.5042e-01,  4.2081e-01,  8.6705e-02],\n",
       "          [ 8.6019e-01,  2.6982e-01,  5.0082e-01],\n",
       "          [ 5.8697e-01, -2.3364e-01, -9.1899e-01],\n",
       "          [ 3.7972e-01,  1.8660e-01, -3.9477e-01],\n",
       "          [ 1.8413e-01,  1.8252e-01,  4.0937e-01],\n",
       "          [ 8.0557e-02,  1.3859e-02, -9.9618e-03],\n",
       "          [ 5.8638e-01,  3.7773e-01,  3.9276e-01],\n",
       "          [-1.4459e-02,  2.5612e-01, -1.9855e-01],\n",
       "          [-2.7286e-01,  4.5289e-02,  2.0364e-01],\n",
       "          [ 1.7293e-01, -5.2544e-01, -4.1045e-01],\n",
       "          [ 8.3776e-01,  8.5984e-02, -6.3971e-02],\n",
       "          [ 8.4253e-01, -5.8888e-01, -7.3354e-01],\n",
       "          [ 2.0942e-01, -1.4140e-01,  4.8786e-01],\n",
       "          [ 5.1355e-01,  4.2895e-01,  8.4653e-02],\n",
       "          [ 8.1179e-01, -7.1966e-02, -5.6304e-01],\n",
       "          [ 1.9700e-01,  1.7998e-01, -1.3398e+00],\n",
       "          [-1.5947e-01, -3.4245e-02, -1.0559e+00],\n",
       "          [ 7.7894e-01,  4.0422e-01,  5.4616e-01],\n",
       "          [ 2.6687e-01,  2.8662e-01,  4.3554e-01],\n",
       "          [-3.7666e-01,  1.2379e-01, -3.7308e-01]], grad_fn=<AddmmBackward0>),\n",
       "  'targets': tensor([0, 0, 1, 0, 0, 1, 0, 1, 1, 1, 0, 0, 0, 0, 0, 0, 0, 0, 0, 1, 0, 0, 0, 1,\n",
       "          0, 0, 1, 1, 0, 0, 0, 0, 1, 1, 0, 0, 0, 0, 0, 0, 0, 1, 0, 0, 0, 0, 0, 0,\n",
       "          1, 1]),\n",
       "  'y_hat': tensor([1, 0, 0, 0, 0, 0, 1, 0, 0, 1, 0, 0, 0, 0, 0, 0, 0, 0, 0, 1, 0, 2, 1, 0,\n",
       "          0, 0, 0, 0, 1, 0, 0, 0, 0, 0, 2, 0, 0, 1, 2, 0, 0, 0, 2, 0, 0, 0, 1, 0,\n",
       "          2, 1]),\n",
       "  'y_score': tensor([[0.2970, 0.4443, 0.2587],\n",
       "          [0.3898, 0.3046, 0.3056],\n",
       "          [0.4446, 0.3179, 0.2375],\n",
       "          [0.4066, 0.3279, 0.2655],\n",
       "          [0.3783, 0.3285, 0.2932],\n",
       "          [0.4019, 0.2674, 0.3307],\n",
       "          [0.2965, 0.3825, 0.3211],\n",
       "          [0.5984, 0.2484, 0.1532],\n",
       "          [0.5580, 0.2493, 0.1927],\n",
       "          [0.3489, 0.3861, 0.2650],\n",
       "          [0.4005, 0.2852, 0.3143],\n",
       "          [0.5189, 0.3411, 0.1400],\n",
       "          [0.4525, 0.2632, 0.2843],\n",
       "          [0.4850, 0.2512, 0.2637],\n",
       "          [0.4619, 0.3660, 0.1721],\n",
       "          [0.5382, 0.2687, 0.1931],\n",
       "          [0.4000, 0.3127, 0.2873],\n",
       "          [0.7046, 0.1741, 0.1213],\n",
       "          [0.6171, 0.2706, 0.1123],\n",
       "          [0.3315, 0.3534, 0.3151],\n",
       "          [0.5215, 0.2813, 0.1972],\n",
       "          [0.3298, 0.3283, 0.3419],\n",
       "          [0.3240, 0.3394, 0.3367],\n",
       "          [0.4351, 0.2760, 0.2889],\n",
       "          [0.3673, 0.2997, 0.3330],\n",
       "          [0.3724, 0.3170, 0.3106],\n",
       "          [0.4689, 0.3010, 0.2300],\n",
       "          [0.3954, 0.3177, 0.2870],\n",
       "          [0.3797, 0.3811, 0.2392],\n",
       "          [0.3519, 0.3285, 0.3197],\n",
       "          [0.4230, 0.3362, 0.2407],\n",
       "          [0.4440, 0.2460, 0.3100],\n",
       "          [0.6017, 0.2648, 0.1335],\n",
       "          [0.4376, 0.3607, 0.2017],\n",
       "          [0.3076, 0.3071, 0.3853],\n",
       "          [0.3510, 0.3284, 0.3206],\n",
       "          [0.3794, 0.3080, 0.3126],\n",
       "          [0.3182, 0.4171, 0.2647],\n",
       "          [0.2509, 0.3449, 0.4041],\n",
       "          [0.4865, 0.2420, 0.2715],\n",
       "          [0.5327, 0.2512, 0.2162],\n",
       "          [0.6917, 0.1653, 0.1430],\n",
       "          [0.3306, 0.2327, 0.4367],\n",
       "          [0.3891, 0.3575, 0.2534],\n",
       "          [0.6002, 0.2480, 0.1518],\n",
       "          [0.4549, 0.4472, 0.0978],\n",
       "          [0.3935, 0.4460, 0.1605],\n",
       "          [0.4033, 0.2772, 0.3195],\n",
       "          [0.3121, 0.3184, 0.3695],\n",
       "          [0.2737, 0.4515, 0.2747]], grad_fn=<SoftmaxBackward0>)},\n",
       " 'loss_outputs': {'loss': tensor(0.9852, grad_fn=<NllLossBackward0>)}}"
      ]
     },
     "execution_count": 27,
     "metadata": {},
     "output_type": "execute_result"
    }
   ],
   "source": [
    "model(fused_batch, mode='train')"
   ]
  }
 ],
 "metadata": {
  "kernelspec": {
   "display_name": "Python 3 (ipykernel)",
   "language": "python",
   "name": "python3"
  },
  "language_info": {
   "codemirror_mode": {
    "name": "ipython",
    "version": 3
   },
   "file_extension": ".py",
   "mimetype": "text/x-python",
   "name": "python",
   "nbconvert_exporter": "python",
   "pygments_lexer": "ipython3",
   "version": "3.7.11"
  }
 },
 "nbformat": 4,
 "nbformat_minor": 5
}
