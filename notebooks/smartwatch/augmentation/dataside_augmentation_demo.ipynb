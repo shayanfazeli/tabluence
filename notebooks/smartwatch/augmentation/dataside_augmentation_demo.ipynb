{
 "cells": [
  {
   "cell_type": "code",
   "execution_count": 1,
   "id": "eac2ece8-810e-4efc-ab07-f4c918568aec",
   "metadata": {
    "pycharm": {
     "name": "#%%\n"
    }
   },
   "outputs": [],
   "source": [
    "import os\n",
    "import sys\n",
    "sys.path.append(os.path.abspath('../..'))\n",
    "from nowoe.data.api.smartwatch.utilities.preparations import *\n",
    "import pandas\n",
    "import plotly_express as px\n",
    "import numpy\n",
    "import copy\n",
    "import json\n",
    "import pickle\n",
    "import gzip\n",
    "import matplotlib.pyplot as plt\n",
    "from copy import deepcopy\n",
    "from functools import reduce\n",
    "from tqdm import tqdm\n",
    "from datetime import datetime, timezone\n",
    "from typing import Dict, List, Tuple, Union, Any, Iterator\n",
    "import torch.utils.data.dataloader\n",
    "from nowoe.data.api.smartwatch.utilities.timestamp import get_utc_date_from_utc_timestamp\n",
    "from nowoe.data.api.smartwatch.data_manager.module import SmartwatchDataManager\n",
    "from nowoe.deep_learning.data.dataset.smartwatch_study.single_slice import get_dataloaders, SmartwatchStudySingleSliceDataset, single_slice_collate_fn\n",
    "from nowoe.deep_learning.data.augmentation.single_slice.sample_from_distribution.gaussian_mixtures import GaussianMixturesSingleSliceAugmentation"
   ]
  },
  {
   "cell_type": "code",
   "execution_count": 2,
   "id": "fc983b4a-5930-4084-a154-5c63e624acf7",
   "metadata": {
    "pycharm": {
     "name": "#%%\n"
    }
   },
   "outputs": [
    {
     "name": "stderr",
     "output_type": "stream",
     "text": [
      "2022-02-23 10:38:04,032 - nowoe.deep_learning.data.dataset.smartwatch_study.single_slice.interface - INFO - initializing data manager...\n",
      "2022-02-23 10:40:38,202 - nowoe.deep_learning.data.dataset.smartwatch_study.single_slice.interface - INFO - preparing the dataset...\n",
      "2022-02-23 10:40:38,508 - nowoe.deep_learning.data.dataset.smartwatch_study.single_slice.dataset - INFO - Loaded metadata from cache file: /home/shayan/phoenix/nowoe_framework/nowoe_framework/notebooks/smartwatch/dataset_cache/dataset-cache-2.pkl.gz\n",
      "2022-02-23 10:40:38,509 - nowoe.deep_learning.data.dataset.smartwatch_study.single_slice.interface - INFO - preparing samplers...\n",
      "2022-02-23 10:40:38,681 - nowoe.deep_learning.data.dataset.smartwatch_study.single_slice.sampler - WARNING - no samples for label 2.057142857142857 was found in the split: test\n",
      "2022-02-23 10:40:38,682 - nowoe.deep_learning.data.dataset.smartwatch_study.single_slice.sampler - WARNING - no samples for label 2.314285714285714 was found in the split: test\n",
      "2022-02-23 10:40:38,682 - nowoe.deep_learning.data.dataset.smartwatch_study.single_slice.sampler - WARNING - no samples for label 2.571428571428571 was found in the split: test\n",
      "2022-02-23 10:40:38,683 - nowoe.deep_learning.data.dataset.smartwatch_study.single_slice.sampler - WARNING - no samples for label 2.8285714285714283 was found in the split: test\n",
      "2022-02-23 10:40:38,683 - nowoe.deep_learning.data.dataset.smartwatch_study.single_slice.sampler - WARNING - no samples for label 3.0857142857142854 was found in the split: test\n",
      "2022-02-23 10:40:38,684 - nowoe.deep_learning.data.dataset.smartwatch_study.single_slice.sampler - WARNING - no samples for label 3.3428571428571425 was found in the split: test\n",
      "2022-02-23 10:40:38,684 - nowoe.deep_learning.data.dataset.smartwatch_study.single_slice.sampler - WARNING - no samples for label 3.5999999999999996 was found in the split: test\n"
     ]
    }
   ],
   "source": [
    "dataloaders = get_dataloaders(\n",
    "    batch_size=50,\n",
    "    root_dir='../../resources/warrior_wellness/Analysis/local_repo/',\n",
    "    subject_splits={\n",
    "        \"train\": [f'SWS_{i:02d}' for i in range(0,10)],\n",
    "        \"test\": [f'SWS_{i:02d}' for i in range(10,15)]},\n",
    "    dataset_config={\n",
    "        'slice_lengths': [3600],\n",
    "        'slice_time_step': (5 * 60),\n",
    "        'label_milestone_per_window': 1.0,\n",
    "        'metadata_cache_filepath': './dataset_cache/dataset-cache-2.pkl.gz',\n",
    "        'no_cache': False,\n",
    "        'parallel_threads': 10\n",
    "    },\n",
    "    sampler_configs=dict(\n",
    "       train=dict(\n",
    "           negative_sample_count=1000,\n",
    "            positive_sample_count=500,\n",
    "            target_variable='overall_quantized_stress_value',\n",
    "           split_name=\"train\"\n",
    "       ),\n",
    "       test=dict(\n",
    "               negative_sample_count=200,\n",
    "            positive_sample_count=100,\n",
    "            target_variable='overall_quantized_stress_value',\n",
    "           split_name=\"test\"\n",
    "       )\n",
    "        )\n",
    ")"
   ]
  },
  {
   "cell_type": "code",
   "execution_count": 3,
   "id": "87e75a56-ade4-4823-ab82-d52147bb6a4b",
   "metadata": {
    "pycharm": {
     "name": "#%%\n"
    }
   },
   "outputs": [],
   "source": [
    "augmentation = GaussianMixturesSingleSliceAugmentation(\n",
    "feature_names_per_data_source={'daily': ['heart_rate_tsvalue']},\n",
    "    gmm_config=dict(\n",
    "    n_components=2,\n",
    "    covariance_type='full'\n",
    "))"
   ]
  },
  {
   "cell_type": "code",
   "execution_count": 4,
   "id": "d8559458-837a-4fb0-bc85-3f5bcf17e49e",
   "metadata": {
    "pycharm": {
     "name": "#%%\n"
    }
   },
   "outputs": [
    {
     "name": "stderr",
     "output_type": "stream",
     "text": [
      "2022-02-23 10:40:38,695 - nowoe.deep_learning.data.augmentation.single_slice.sample_from_distribution.base - INFO - [learning distributions] sampling from the given dataloader...\n",
      "100%|█████████████████████████████████████████| 160/160 [01:05<00:00,  2.45it/s]\n",
      "2022-02-23 10:41:43,885 - nowoe.deep_learning.data.augmentation.single_slice.sample_from_distribution.base - INFO - [learning distributions] fitting models (of class <class 'sklearn.mixture._gaussian_mixture.GaussianMixture'>) to the distributions...\n",
      "2022-02-23 10:41:45,962 - nowoe.deep_learning.data.augmentation.single_slice.sample_from_distribution.base - INFO - [learning distributions] completed.\n"
     ]
    }
   ],
   "source": [
    "augmentation.learn(dataloader=dataloaders['train'])"
   ]
  },
  {
   "cell_type": "code",
   "execution_count": 5,
   "id": "9a450442-eb69-418b-9ae6-3d042fe65beb",
   "metadata": {
    "pycharm": {
     "name": "#%%\n"
    }
   },
   "outputs": [],
   "source": [
    "my_iter = iter(dataloaders['test'])"
   ]
  },
  {
   "cell_type": "code",
   "execution_count": 6,
   "id": "8fb15750-d2fc-4da7-bb35-ee96c24121b7",
   "metadata": {
    "pycharm": {
     "name": "#%%\n"
    }
   },
   "outputs": [],
   "source": [
    "batch = next(my_iter)"
   ]
  },
  {
   "cell_type": "code",
   "execution_count": 8,
   "id": "0769c052-86da-4c94-9e57-84926d9c7758",
   "metadata": {
    "pycharm": {
     "name": "#%%\n"
    }
   },
   "outputs": [],
   "source": [
    "augmented_batch = augmentation.augment(copy.deepcopy(batch), rows_to_add=10)"
   ]
  },
  {
   "cell_type": "code",
   "execution_count": 11,
   "id": "c15045b8-4e89-4282-a521-4fa5af64bf2e",
   "metadata": {
    "pycharm": {
     "name": "#%%\n"
    }
   },
   "outputs": [
    {
     "data": {
      "text/plain": [
       "(240, 34)"
      ]
     },
     "execution_count": 11,
     "metadata": {},
     "output_type": "execute_result"
    }
   ],
   "source": [
    "batch['slice'][0]['daily'].shape"
   ]
  },
  {
   "cell_type": "code",
   "execution_count": 12,
   "id": "7ac50da3-bd84-4a22-8baa-dd5854a6a32b",
   "metadata": {
    "pycharm": {
     "name": "#%%\n"
    }
   },
   "outputs": [
    {
     "data": {
      "text/plain": [
       "(250, 34)"
      ]
     },
     "execution_count": 12,
     "metadata": {},
     "output_type": "execute_result"
    }
   ],
   "source": [
    "augmented_batch['slice'][0]['daily'].shape"
   ]
  },
  {
   "cell_type": "code",
   "execution_count": 13,
   "id": "351870a3-1a6c-43b4-aace-d3799af5885a",
   "metadata": {
    "pycharm": {
     "name": "#%%\n"
    }
   },
   "outputs": [],
   "source": [
    "new_timestamps = set(augmented_batch['slice'][0]['daily'].utc_timestamp.tolist()).difference(set(batch['slice'][0]['daily'].utc_timestamp.tolist()))"
   ]
  },
  {
   "cell_type": "code",
   "execution_count": 18,
   "id": "62191aa3-da5c-4390-add8-453ee14c258f",
   "metadata": {
    "pycharm": {
     "name": "#%%\n"
    }
   },
   "outputs": [],
   "source": [
    "df = augmented_batch['slice'][0]['daily'].copy()"
   ]
  },
  {
   "cell_type": "code",
   "execution_count": 19,
   "id": "e60a9c25-f1b9-405a-84a3-13a431e49313",
   "metadata": {
    "pycharm": {
     "name": "#%%\n"
    }
   },
   "outputs": [
    {
     "data": {
      "text/html": [
       "<div>\n",
       "<style scoped>\n",
       "    .dataframe tbody tr th:only-of-type {\n",
       "        vertical-align: middle;\n",
       "    }\n",
       "\n",
       "    .dataframe tbody tr th {\n",
       "        vertical-align: top;\n",
       "    }\n",
       "\n",
       "    .dataframe thead th {\n",
       "        text-align: right;\n",
       "    }\n",
       "</style>\n",
       "<table border=\"1\" class=\"dataframe\">\n",
       "  <thead>\n",
       "    <tr style=\"text-align: right;\">\n",
       "      <th></th>\n",
       "      <th>utc_timestamp</th>\n",
       "      <th>heart_rate_tsvalue</th>\n",
       "      <th>restingHeartRateInBeatsPerMinute</th>\n",
       "      <th>lowStressDurationInSeconds</th>\n",
       "      <th>moderateIntensityDurationInSeconds</th>\n",
       "      <th>stepsGoal</th>\n",
       "      <th>durationInSeconds</th>\n",
       "      <th>summaryId</th>\n",
       "      <th>activityStressDurationInSeconds</th>\n",
       "      <th>floorsClimbedGoal</th>\n",
       "      <th>...</th>\n",
       "      <th>restStressDurationInSeconds</th>\n",
       "      <th>maxStressLevel</th>\n",
       "      <th>activeTimeInSeconds</th>\n",
       "      <th>startTimeOffsetInSeconds</th>\n",
       "      <th>steps</th>\n",
       "      <th>minHeartRateInBeatsPerMinute</th>\n",
       "      <th>highStressDurationInSeconds</th>\n",
       "      <th>user_id</th>\n",
       "      <th>bmrKilocalories</th>\n",
       "      <th>utc_date</th>\n",
       "    </tr>\n",
       "  </thead>\n",
       "  <tbody>\n",
       "    <tr>\n",
       "      <th>241</th>\n",
       "      <td>1.626094e+09</td>\n",
       "      <td>101.197248</td>\n",
       "      <td>44.0</td>\n",
       "      <td>13380.0</td>\n",
       "      <td>0.0</td>\n",
       "      <td>9630.0</td>\n",
       "      <td>86400.0</td>\n",
       "      <td>x41fb4e4-60eb69e0-15180-6</td>\n",
       "      <td>23460.0</td>\n",
       "      <td>10.0</td>\n",
       "      <td>...</td>\n",
       "      <td>37320.0</td>\n",
       "      <td>87.0</td>\n",
       "      <td>4042.0</td>\n",
       "      <td>7200.0</td>\n",
       "      <td>9186.0</td>\n",
       "      <td>42.0</td>\n",
       "      <td>540.0</td>\n",
       "      <td>SWS_11</td>\n",
       "      <td>2117.0</td>\n",
       "      <td>2021-07-12 12:47:30+00:00</td>\n",
       "    </tr>\n",
       "    <tr>\n",
       "      <th>242</th>\n",
       "      <td>1.626094e+09</td>\n",
       "      <td>96.237144</td>\n",
       "      <td>44.0</td>\n",
       "      <td>13380.0</td>\n",
       "      <td>0.0</td>\n",
       "      <td>9630.0</td>\n",
       "      <td>86400.0</td>\n",
       "      <td>x41fb4e4-60eb69e0-15180-6</td>\n",
       "      <td>23460.0</td>\n",
       "      <td>10.0</td>\n",
       "      <td>...</td>\n",
       "      <td>37320.0</td>\n",
       "      <td>87.0</td>\n",
       "      <td>4042.0</td>\n",
       "      <td>7200.0</td>\n",
       "      <td>9186.0</td>\n",
       "      <td>42.0</td>\n",
       "      <td>540.0</td>\n",
       "      <td>SWS_11</td>\n",
       "      <td>2117.0</td>\n",
       "      <td>2021-07-12 12:50:00+00:00</td>\n",
       "    </tr>\n",
       "    <tr>\n",
       "      <th>240</th>\n",
       "      <td>1.626094e+09</td>\n",
       "      <td>78.547934</td>\n",
       "      <td>44.0</td>\n",
       "      <td>13380.0</td>\n",
       "      <td>0.0</td>\n",
       "      <td>9630.0</td>\n",
       "      <td>86400.0</td>\n",
       "      <td>x41fb4e4-60eb69e0-15180-6</td>\n",
       "      <td>23460.0</td>\n",
       "      <td>10.0</td>\n",
       "      <td>...</td>\n",
       "      <td>37320.0</td>\n",
       "      <td>87.0</td>\n",
       "      <td>4042.0</td>\n",
       "      <td>7200.0</td>\n",
       "      <td>9186.0</td>\n",
       "      <td>42.0</td>\n",
       "      <td>540.0</td>\n",
       "      <td>SWS_11</td>\n",
       "      <td>2117.0</td>\n",
       "      <td>2021-07-12 12:52:45+00:00</td>\n",
       "    </tr>\n",
       "    <tr>\n",
       "      <th>245</th>\n",
       "      <td>1.626095e+09</td>\n",
       "      <td>72.591211</td>\n",
       "      <td>44.0</td>\n",
       "      <td>13380.0</td>\n",
       "      <td>0.0</td>\n",
       "      <td>9630.0</td>\n",
       "      <td>86400.0</td>\n",
       "      <td>x41fb4e4-60eb69e0-15180-6</td>\n",
       "      <td>23460.0</td>\n",
       "      <td>10.0</td>\n",
       "      <td>...</td>\n",
       "      <td>37320.0</td>\n",
       "      <td>87.0</td>\n",
       "      <td>4042.0</td>\n",
       "      <td>7200.0</td>\n",
       "      <td>9186.0</td>\n",
       "      <td>42.0</td>\n",
       "      <td>540.0</td>\n",
       "      <td>SWS_11</td>\n",
       "      <td>2117.0</td>\n",
       "      <td>2021-07-12 12:58:15+00:00</td>\n",
       "    </tr>\n",
       "    <tr>\n",
       "      <th>243</th>\n",
       "      <td>1.626095e+09</td>\n",
       "      <td>85.157863</td>\n",
       "      <td>44.0</td>\n",
       "      <td>13380.0</td>\n",
       "      <td>0.0</td>\n",
       "      <td>9630.0</td>\n",
       "      <td>86400.0</td>\n",
       "      <td>x41fb4e4-60eb69e0-15180-6</td>\n",
       "      <td>23460.0</td>\n",
       "      <td>10.0</td>\n",
       "      <td>...</td>\n",
       "      <td>37320.0</td>\n",
       "      <td>87.0</td>\n",
       "      <td>4042.0</td>\n",
       "      <td>7200.0</td>\n",
       "      <td>9186.0</td>\n",
       "      <td>42.0</td>\n",
       "      <td>540.0</td>\n",
       "      <td>SWS_11</td>\n",
       "      <td>2117.0</td>\n",
       "      <td>2021-07-12 13:02:00+00:00</td>\n",
       "    </tr>\n",
       "    <tr>\n",
       "      <th>248</th>\n",
       "      <td>1.626096e+09</td>\n",
       "      <td>73.354650</td>\n",
       "      <td>44.0</td>\n",
       "      <td>13380.0</td>\n",
       "      <td>0.0</td>\n",
       "      <td>9630.0</td>\n",
       "      <td>86400.0</td>\n",
       "      <td>x41fb4e4-60eb69e0-15180-6</td>\n",
       "      <td>23460.0</td>\n",
       "      <td>10.0</td>\n",
       "      <td>...</td>\n",
       "      <td>37320.0</td>\n",
       "      <td>87.0</td>\n",
       "      <td>4042.0</td>\n",
       "      <td>7200.0</td>\n",
       "      <td>9186.0</td>\n",
       "      <td>42.0</td>\n",
       "      <td>540.0</td>\n",
       "      <td>SWS_11</td>\n",
       "      <td>2117.0</td>\n",
       "      <td>2021-07-12 13:11:45+00:00</td>\n",
       "    </tr>\n",
       "    <tr>\n",
       "      <th>247</th>\n",
       "      <td>1.626096e+09</td>\n",
       "      <td>63.138076</td>\n",
       "      <td>44.0</td>\n",
       "      <td>13380.0</td>\n",
       "      <td>0.0</td>\n",
       "      <td>9630.0</td>\n",
       "      <td>86400.0</td>\n",
       "      <td>x41fb4e4-60eb69e0-15180-6</td>\n",
       "      <td>23460.0</td>\n",
       "      <td>10.0</td>\n",
       "      <td>...</td>\n",
       "      <td>37320.0</td>\n",
       "      <td>87.0</td>\n",
       "      <td>4042.0</td>\n",
       "      <td>7200.0</td>\n",
       "      <td>9186.0</td>\n",
       "      <td>42.0</td>\n",
       "      <td>540.0</td>\n",
       "      <td>SWS_11</td>\n",
       "      <td>2117.0</td>\n",
       "      <td>2021-07-12 13:13:30+00:00</td>\n",
       "    </tr>\n",
       "    <tr>\n",
       "      <th>249</th>\n",
       "      <td>1.626096e+09</td>\n",
       "      <td>69.111677</td>\n",
       "      <td>44.0</td>\n",
       "      <td>13380.0</td>\n",
       "      <td>0.0</td>\n",
       "      <td>9630.0</td>\n",
       "      <td>86400.0</td>\n",
       "      <td>x41fb4e4-60eb69e0-15180-6</td>\n",
       "      <td>23460.0</td>\n",
       "      <td>10.0</td>\n",
       "      <td>...</td>\n",
       "      <td>37320.0</td>\n",
       "      <td>87.0</td>\n",
       "      <td>4042.0</td>\n",
       "      <td>7200.0</td>\n",
       "      <td>9186.0</td>\n",
       "      <td>42.0</td>\n",
       "      <td>540.0</td>\n",
       "      <td>SWS_11</td>\n",
       "      <td>2117.0</td>\n",
       "      <td>2021-07-12 13:20:30+00:00</td>\n",
       "    </tr>\n",
       "    <tr>\n",
       "      <th>246</th>\n",
       "      <td>1.626097e+09</td>\n",
       "      <td>74.773022</td>\n",
       "      <td>44.0</td>\n",
       "      <td>13380.0</td>\n",
       "      <td>0.0</td>\n",
       "      <td>9630.0</td>\n",
       "      <td>86400.0</td>\n",
       "      <td>x41fb4e4-60eb69e0-15180-6</td>\n",
       "      <td>23460.0</td>\n",
       "      <td>10.0</td>\n",
       "      <td>...</td>\n",
       "      <td>37320.0</td>\n",
       "      <td>87.0</td>\n",
       "      <td>4042.0</td>\n",
       "      <td>7200.0</td>\n",
       "      <td>9186.0</td>\n",
       "      <td>42.0</td>\n",
       "      <td>540.0</td>\n",
       "      <td>SWS_11</td>\n",
       "      <td>2117.0</td>\n",
       "      <td>2021-07-12 13:32:30+00:00</td>\n",
       "    </tr>\n",
       "    <tr>\n",
       "      <th>244</th>\n",
       "      <td>1.626097e+09</td>\n",
       "      <td>66.826390</td>\n",
       "      <td>44.0</td>\n",
       "      <td>13380.0</td>\n",
       "      <td>0.0</td>\n",
       "      <td>9630.0</td>\n",
       "      <td>86400.0</td>\n",
       "      <td>x41fb4e4-60eb69e0-15180-6</td>\n",
       "      <td>23460.0</td>\n",
       "      <td>10.0</td>\n",
       "      <td>...</td>\n",
       "      <td>37320.0</td>\n",
       "      <td>87.0</td>\n",
       "      <td>4042.0</td>\n",
       "      <td>7200.0</td>\n",
       "      <td>9186.0</td>\n",
       "      <td>42.0</td>\n",
       "      <td>540.0</td>\n",
       "      <td>SWS_11</td>\n",
       "      <td>2117.0</td>\n",
       "      <td>2021-07-12 13:37:45+00:00</td>\n",
       "    </tr>\n",
       "  </tbody>\n",
       "</table>\n",
       "<p>10 rows × 34 columns</p>\n",
       "</div>"
      ],
      "text/plain": [
       "     utc_timestamp  heart_rate_tsvalue  restingHeartRateInBeatsPerMinute  \\\n",
       "241   1.626094e+09          101.197248                              44.0   \n",
       "242   1.626094e+09           96.237144                              44.0   \n",
       "240   1.626094e+09           78.547934                              44.0   \n",
       "245   1.626095e+09           72.591211                              44.0   \n",
       "243   1.626095e+09           85.157863                              44.0   \n",
       "248   1.626096e+09           73.354650                              44.0   \n",
       "247   1.626096e+09           63.138076                              44.0   \n",
       "249   1.626096e+09           69.111677                              44.0   \n",
       "246   1.626097e+09           74.773022                              44.0   \n",
       "244   1.626097e+09           66.826390                              44.0   \n",
       "\n",
       "     lowStressDurationInSeconds  moderateIntensityDurationInSeconds  \\\n",
       "241                     13380.0                                 0.0   \n",
       "242                     13380.0                                 0.0   \n",
       "240                     13380.0                                 0.0   \n",
       "245                     13380.0                                 0.0   \n",
       "243                     13380.0                                 0.0   \n",
       "248                     13380.0                                 0.0   \n",
       "247                     13380.0                                 0.0   \n",
       "249                     13380.0                                 0.0   \n",
       "246                     13380.0                                 0.0   \n",
       "244                     13380.0                                 0.0   \n",
       "\n",
       "     stepsGoal  durationInSeconds                  summaryId  \\\n",
       "241     9630.0            86400.0  x41fb4e4-60eb69e0-15180-6   \n",
       "242     9630.0            86400.0  x41fb4e4-60eb69e0-15180-6   \n",
       "240     9630.0            86400.0  x41fb4e4-60eb69e0-15180-6   \n",
       "245     9630.0            86400.0  x41fb4e4-60eb69e0-15180-6   \n",
       "243     9630.0            86400.0  x41fb4e4-60eb69e0-15180-6   \n",
       "248     9630.0            86400.0  x41fb4e4-60eb69e0-15180-6   \n",
       "247     9630.0            86400.0  x41fb4e4-60eb69e0-15180-6   \n",
       "249     9630.0            86400.0  x41fb4e4-60eb69e0-15180-6   \n",
       "246     9630.0            86400.0  x41fb4e4-60eb69e0-15180-6   \n",
       "244     9630.0            86400.0  x41fb4e4-60eb69e0-15180-6   \n",
       "\n",
       "     activityStressDurationInSeconds  floorsClimbedGoal  ...  \\\n",
       "241                          23460.0               10.0  ...   \n",
       "242                          23460.0               10.0  ...   \n",
       "240                          23460.0               10.0  ...   \n",
       "245                          23460.0               10.0  ...   \n",
       "243                          23460.0               10.0  ...   \n",
       "248                          23460.0               10.0  ...   \n",
       "247                          23460.0               10.0  ...   \n",
       "249                          23460.0               10.0  ...   \n",
       "246                          23460.0               10.0  ...   \n",
       "244                          23460.0               10.0  ...   \n",
       "\n",
       "     restStressDurationInSeconds  maxStressLevel  activeTimeInSeconds  \\\n",
       "241                      37320.0            87.0               4042.0   \n",
       "242                      37320.0            87.0               4042.0   \n",
       "240                      37320.0            87.0               4042.0   \n",
       "245                      37320.0            87.0               4042.0   \n",
       "243                      37320.0            87.0               4042.0   \n",
       "248                      37320.0            87.0               4042.0   \n",
       "247                      37320.0            87.0               4042.0   \n",
       "249                      37320.0            87.0               4042.0   \n",
       "246                      37320.0            87.0               4042.0   \n",
       "244                      37320.0            87.0               4042.0   \n",
       "\n",
       "     startTimeOffsetInSeconds   steps  minHeartRateInBeatsPerMinute  \\\n",
       "241                    7200.0  9186.0                          42.0   \n",
       "242                    7200.0  9186.0                          42.0   \n",
       "240                    7200.0  9186.0                          42.0   \n",
       "245                    7200.0  9186.0                          42.0   \n",
       "243                    7200.0  9186.0                          42.0   \n",
       "248                    7200.0  9186.0                          42.0   \n",
       "247                    7200.0  9186.0                          42.0   \n",
       "249                    7200.0  9186.0                          42.0   \n",
       "246                    7200.0  9186.0                          42.0   \n",
       "244                    7200.0  9186.0                          42.0   \n",
       "\n",
       "     highStressDurationInSeconds user_id  bmrKilocalories  \\\n",
       "241                        540.0  SWS_11           2117.0   \n",
       "242                        540.0  SWS_11           2117.0   \n",
       "240                        540.0  SWS_11           2117.0   \n",
       "245                        540.0  SWS_11           2117.0   \n",
       "243                        540.0  SWS_11           2117.0   \n",
       "248                        540.0  SWS_11           2117.0   \n",
       "247                        540.0  SWS_11           2117.0   \n",
       "249                        540.0  SWS_11           2117.0   \n",
       "246                        540.0  SWS_11           2117.0   \n",
       "244                        540.0  SWS_11           2117.0   \n",
       "\n",
       "                      utc_date  \n",
       "241  2021-07-12 12:47:30+00:00  \n",
       "242  2021-07-12 12:50:00+00:00  \n",
       "240  2021-07-12 12:52:45+00:00  \n",
       "245  2021-07-12 12:58:15+00:00  \n",
       "243  2021-07-12 13:02:00+00:00  \n",
       "248  2021-07-12 13:11:45+00:00  \n",
       "247  2021-07-12 13:13:30+00:00  \n",
       "249  2021-07-12 13:20:30+00:00  \n",
       "246  2021-07-12 13:32:30+00:00  \n",
       "244  2021-07-12 13:37:45+00:00  \n",
       "\n",
       "[10 rows x 34 columns]"
      ]
     },
     "execution_count": 19,
     "metadata": {},
     "output_type": "execute_result"
    }
   ],
   "source": [
    "df[df.utc_timestamp.isin(new_timestamps)]"
   ]
  }
 ],
 "metadata": {
  "kernelspec": {
   "display_name": "Python 3 (ipykernel)",
   "language": "python",
   "name": "python3"
  },
  "language_info": {
   "codemirror_mode": {
    "name": "ipython",
    "version": 3
   },
   "file_extension": ".py",
   "mimetype": "text/x-python",
   "name": "python",
   "nbconvert_exporter": "python",
   "pygments_lexer": "ipython3",
   "version": "3.7.11"
  }
 },
 "nbformat": 4,
 "nbformat_minor": 5
}